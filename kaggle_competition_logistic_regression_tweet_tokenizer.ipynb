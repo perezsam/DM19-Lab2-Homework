{
  "nbformat": 4,
  "nbformat_minor": 0,
  "metadata": {
    "colab": {
      "name": "kaggle_competition_logistic_regression-tweet_tokenizer.ipynb",
      "provenance": [],
      "collapsed_sections": [],
      "machine_shape": "hm",
      "include_colab_link": true
    },
    "kernelspec": {
      "name": "python3",
      "display_name": "Python 3"
    },
    "accelerator": "GPU"
  },
  "cells": [
    {
      "cell_type": "markdown",
      "metadata": {
        "id": "view-in-github",
        "colab_type": "text"
      },
      "source": [
        "<a href=\"https://colab.research.google.com/github/perezsam/DM19-Lab2-Homework/blob/master/kaggle_competition_logistic_regression_tweet_tokenizer.ipynb\" target=\"_parent\"><img src=\"https://colab.research.google.com/assets/colab-badge.svg\" alt=\"Open In Colab\"/></a>"
      ]
    },
    {
      "cell_type": "markdown",
      "metadata": {
        "id": "AfYLuL7zkBIH",
        "colab_type": "text"
      },
      "source": [
        "##Load raw data from kaggle##"
      ]
    },
    {
      "cell_type": "code",
      "metadata": {
        "id": "WFdh-RFSj-4h",
        "colab_type": "code",
        "colab": {}
      },
      "source": [
        "# Run this cell and select the kaggle.json file downloaded\n",
        "# from the Kaggle account settings page.\n",
        "from google.colab import files\n",
        "files.upload()"
      ],
      "execution_count": 0,
      "outputs": []
    },
    {
      "cell_type": "code",
      "metadata": {
        "id": "cDLXrqcNGlU7",
        "colab_type": "code",
        "outputId": "386574f7-f6ed-4acb-8751-9259ac4b08c8",
        "colab": {
          "base_uri": "https://localhost:8080/",
          "height": 34
        }
      },
      "source": [
        "# Let's make sure the kaggle.json file is present.\n",
        "!ls -lha kaggle.json"
      ],
      "execution_count": 0,
      "outputs": [
        {
          "output_type": "stream",
          "text": [
            "-rw-r--r-- 1 root root 64 Dec 22 03:09 kaggle.json\n"
          ],
          "name": "stdout"
        }
      ]
    },
    {
      "cell_type": "code",
      "metadata": {
        "id": "QITWh1N5GoqG",
        "colab_type": "code",
        "colab": {}
      },
      "source": [
        "# Next, install the Kaggle API client.\n",
        "!pip install -q kaggle"
      ],
      "execution_count": 0,
      "outputs": []
    },
    {
      "cell_type": "code",
      "metadata": {
        "id": "KixiXyagGy7Y",
        "colab_type": "code",
        "colab": {}
      },
      "source": [
        "# The Kaggle API client expects this file to be in ~/.kaggle,\n",
        "# so move it there.\n",
        "!mkdir -p ~/.kaggle\n",
        "!cp kaggle.json ~/.kaggle/\n",
        "\n",
        "# This permissions change avoids a warning on Kaggle tool startup.\n",
        "!chmod 600 ~/.kaggle/kaggle.json"
      ],
      "execution_count": 0,
      "outputs": []
    },
    {
      "cell_type": "code",
      "metadata": {
        "id": "rPZaJ7oOGuyh",
        "colab_type": "code",
        "colab": {}
      },
      "source": [
        "!mkdir data"
      ],
      "execution_count": 0,
      "outputs": []
    },
    {
      "cell_type": "code",
      "metadata": {
        "id": "UqL5xzgFlWv_",
        "colab_type": "code",
        "outputId": "b3db939b-50ef-43fa-8698-3416e7b9c6c9",
        "colab": {
          "base_uri": "https://localhost:8080/",
          "height": 34
        }
      },
      "source": [
        "cd data"
      ],
      "execution_count": 0,
      "outputs": [
        {
          "output_type": "stream",
          "text": [
            "/content/data\n"
          ],
          "name": "stdout"
        }
      ]
    },
    {
      "cell_type": "code",
      "metadata": {
        "id": "0hyJ4Rb5HMwH",
        "colab_type": "code",
        "outputId": "357d32de-f377-40d0-85aa-0c7472eb9207",
        "colab": {
          "base_uri": "https://localhost:8080/",
          "height": 68
        }
      },
      "source": [
        "# Copy the private data set locally.\n",
        "!kaggle datasets download -d cssamuel/dmlab2"
      ],
      "execution_count": 0,
      "outputs": [
        {
          "output_type": "stream",
          "text": [
            "Downloading dmlab2.zip to /content/data\n",
            " 97% 145M/149M [00:01<00:00, 116MB/s]\n",
            "100% 149M/149M [00:01<00:00, 114MB/s]\n"
          ],
          "name": "stdout"
        }
      ]
    },
    {
      "cell_type": "code",
      "metadata": {
        "id": "8FgC4GlvHZQ1",
        "colab_type": "code",
        "outputId": "0f18d365-3118-414f-c63d-3e1ba10391bc",
        "colab": {
          "base_uri": "https://localhost:8080/",
          "height": 34
        }
      },
      "source": [
        "ls"
      ],
      "execution_count": 0,
      "outputs": [
        {
          "output_type": "stream",
          "text": [
            "dmlab2.zip\n"
          ],
          "name": "stdout"
        }
      ]
    },
    {
      "cell_type": "code",
      "metadata": {
        "id": "GzcePjW7_40O",
        "colab_type": "code",
        "outputId": "b98ecff5-215a-4c93-c3bc-f03c29bb412a",
        "colab": {
          "base_uri": "https://localhost:8080/",
          "height": 34
        }
      },
      "source": [
        "pwd"
      ],
      "execution_count": 0,
      "outputs": [
        {
          "output_type": "execute_result",
          "data": {
            "text/plain": [
              "'/content/data'"
            ]
          },
          "metadata": {
            "tags": []
          },
          "execution_count": 11
        }
      ]
    },
    {
      "cell_type": "code",
      "metadata": {
        "id": "64MVwxrHAQuf",
        "colab_type": "code",
        "outputId": "bab9aeb7-1769-4f7b-9de2-0091b2603171",
        "colab": {
          "base_uri": "https://localhost:8080/",
          "height": 102
        }
      },
      "source": [
        "!unzip dmlab2.zip"
      ],
      "execution_count": 0,
      "outputs": [
        {
          "output_type": "stream",
          "text": [
            "Archive:  dmlab2.zip\n",
            "  inflating: data_identification.csv  \n",
            "  inflating: emotion.csv             \n",
            "  inflating: sampleSubmission.csv    \n",
            "  inflating: tweets_DM.json          \n"
          ],
          "name": "stdout"
        }
      ]
    },
    {
      "cell_type": "code",
      "metadata": {
        "id": "YDjBq8E3EH8f",
        "colab_type": "code",
        "outputId": "7027d584-89ef-4e90-f54a-789575ceebb9",
        "colab": {
          "base_uri": "https://localhost:8080/",
          "height": 34
        }
      },
      "source": [
        "pwd"
      ],
      "execution_count": 0,
      "outputs": [
        {
          "output_type": "execute_result",
          "data": {
            "text/plain": [
              "'/content/data'"
            ]
          },
          "metadata": {
            "tags": []
          },
          "execution_count": 13
        }
      ]
    },
    {
      "cell_type": "code",
      "metadata": {
        "id": "yoq0dlRlEKid",
        "colab_type": "code",
        "outputId": "bb37d701-be71-4b68-b5f3-7cfa1dce0317",
        "colab": {
          "base_uri": "https://localhost:8080/",
          "height": 34
        }
      },
      "source": [
        "cd .."
      ],
      "execution_count": 0,
      "outputs": [
        {
          "output_type": "stream",
          "text": [
            "/content\n"
          ],
          "name": "stdout"
        }
      ]
    },
    {
      "cell_type": "code",
      "metadata": {
        "id": "5ZaHOSU-EOQD",
        "colab_type": "code",
        "outputId": "512e0f17-59ca-4628-edc7-91aa5b3c0212",
        "colab": {
          "base_uri": "https://localhost:8080/",
          "height": 34
        }
      },
      "source": [
        "ls"
      ],
      "execution_count": 0,
      "outputs": [
        {
          "output_type": "stream",
          "text": [
            "\u001b[0m\u001b[01;34mdata\u001b[0m/  kaggle.json  \u001b[01;34msample_data\u001b[0m/\n"
          ],
          "name": "stdout"
        }
      ]
    },
    {
      "cell_type": "markdown",
      "metadata": {
        "id": "_tKBZFwbH5-W",
        "colab_type": "text"
      },
      "source": [
        "##Data preprocessing##"
      ]
    },
    {
      "cell_type": "code",
      "metadata": {
        "id": "9vaq11njAWtZ",
        "colab_type": "code",
        "colab": {}
      },
      "source": [
        "import pandas as pd\n",
        "import numpy as np\n",
        "import matplotlib.pyplot as plt\n",
        "import seaborn as sns"
      ],
      "execution_count": 0,
      "outputs": []
    },
    {
      "cell_type": "code",
      "metadata": {
        "id": "f4qdTMJ5AfrU",
        "colab_type": "code",
        "colab": {}
      },
      "source": [
        "import json\n",
        "from pandas.io.json import json_normalize"
      ],
      "execution_count": 0,
      "outputs": []
    },
    {
      "cell_type": "code",
      "metadata": {
        "id": "OlCgJWgmAjNK",
        "colab_type": "code",
        "colab": {}
      },
      "source": [
        "# read data files\n",
        "raw_data=pd.read_json(\"./data/tweets_DM.json\",lines=True)\n",
        "tweets=json_normalize(data=raw_data['_source'])\n",
        "identify=pd.read_csv(\"./data/data_identification.csv\")\n",
        "emotion=pd.read_csv(\"./data/emotion.csv\")"
      ],
      "execution_count": 0,
      "outputs": []
    },
    {
      "cell_type": "code",
      "metadata": {
        "id": "L0Pofz0vBvZ0",
        "colab_type": "code",
        "outputId": "9db2c4c0-79ab-49da-e106-d0029653c3e6",
        "colab": {
          "base_uri": "https://localhost:8080/",
          "height": 204
        }
      },
      "source": [
        "# rename column names\n",
        "tweets=tweets.rename(index=str,columns={\"tweet.text\":\"text\", \"tweet.tweet_id\":\"tweet_id\",\n",
        "                                       \"tweet.hashtags\":\"hashtags\"})\n",
        "# add identify tags to dataframe\n",
        "tweets=pd.merge(tweets,identify, on=\"tweet_id\")\n",
        "\n",
        "#get training set and test set\n",
        "train_df=tweets[tweets[\"identification\"] == \"train\"]\n",
        "test_df=tweets[tweets[\"identification\"] == \"test\"]\n",
        "\n",
        "#add emotion column\n",
        "train_df=pd.merge(train_df,emotion, on=\"tweet_id\")\n",
        "test_df[\"emotion\"]=\"\"\n",
        "\n",
        "#drop identification tags\n",
        "train_df.drop(columns=[\"identification\"],inplace=True)\n",
        "test_df.drop(columns=[\"identification\"],inplace=True)\n",
        "\n",
        "#use tweet_id as index\n",
        "train_df.set_index(\"tweet_id\",inplace=True)\n",
        "test_df.set_index(\"tweet_id\",inplace=True)"
      ],
      "execution_count": 0,
      "outputs": [
        {
          "output_type": "stream",
          "text": [
            "/usr/local/lib/python3.6/dist-packages/ipykernel_launcher.py:12: SettingWithCopyWarning: \n",
            "A value is trying to be set on a copy of a slice from a DataFrame.\n",
            "Try using .loc[row_indexer,col_indexer] = value instead\n",
            "\n",
            "See the caveats in the documentation: http://pandas.pydata.org/pandas-docs/stable/user_guide/indexing.html#returning-a-view-versus-a-copy\n",
            "  if sys.path[0] == '':\n",
            "/usr/local/lib/python3.6/dist-packages/pandas/core/frame.py:4117: SettingWithCopyWarning: \n",
            "A value is trying to be set on a copy of a slice from a DataFrame\n",
            "\n",
            "See the caveats in the documentation: http://pandas.pydata.org/pandas-docs/stable/user_guide/indexing.html#returning-a-view-versus-a-copy\n",
            "  errors=errors,\n"
          ],
          "name": "stderr"
        }
      ]
    },
    {
      "cell_type": "code",
      "metadata": {
        "id": "gjBhpUTHl-HU",
        "colab_type": "code",
        "colab": {}
      },
      "source": [
        "!mkdir output"
      ],
      "execution_count": 0,
      "outputs": []
    },
    {
      "cell_type": "code",
      "metadata": {
        "id": "uLbUziKEB-zH",
        "colab_type": "code",
        "colab": {}
      },
      "source": [
        "# save to pickle file\n",
        "train_df.to_pickle(\"./output/train_df.pkl\")\n",
        "test_df.to_pickle(\"./output/test_df.pkl\")"
      ],
      "execution_count": 0,
      "outputs": []
    },
    {
      "cell_type": "code",
      "metadata": {
        "id": "RyKcWA_VCMoz",
        "colab_type": "code",
        "colab": {}
      },
      "source": [
        "## load a pickle file\n",
        "train_df = pd.read_pickle(\"./output/train_df.pkl\")\n",
        "test_df = pd.read_pickle(\"./output/test_df.pkl\")\n"
      ],
      "execution_count": 0,
      "outputs": []
    },
    {
      "cell_type": "markdown",
      "metadata": {
        "id": "vxMHGHD3HqFh",
        "colab_type": "text"
      },
      "source": [
        "##Logistic Regression##"
      ]
    },
    {
      "cell_type": "code",
      "metadata": {
        "id": "jifZplLqCd7V",
        "colab_type": "code",
        "colab": {}
      },
      "source": [
        "from nltk.tokenize import TweetTokenizer\n",
        "tknzr = TweetTokenizer()"
      ],
      "execution_count": 0,
      "outputs": []
    },
    {
      "cell_type": "code",
      "metadata": {
        "id": "F2etbdYUFXvQ",
        "colab_type": "code",
        "outputId": "90ada493-7059-4ea9-c803-53cf398a922a",
        "colab": {
          "base_uri": "https://localhost:8080/",
          "height": 34
        }
      },
      "source": [
        "tknzr = TweetTokenizer(strip_handles=True, reduce_len=True)\n",
        "s1 = '@remy: This is waaaaayyyy too much for you!!!!!!'\n",
        "tknzr.tokenize(s1)"
      ],
      "execution_count": 0,
      "outputs": [
        {
          "output_type": "execute_result",
          "data": {
            "text/plain": [
              "[':', 'This', 'is', 'waaayyy', 'too', 'much', 'for', 'you', '!', '!', '!']"
            ]
          },
          "metadata": {
            "tags": []
          },
          "execution_count": 27
        }
      ]
    },
    {
      "cell_type": "code",
      "metadata": {
        "id": "SnNHFP4SFbza",
        "colab_type": "code",
        "outputId": "4f550926-c8b7-4d26-d06a-ddd583be2252",
        "colab": {
          "base_uri": "https://localhost:8080/",
          "height": 153
        }
      },
      "source": [
        "from sklearn.feature_extraction.text import TfidfVectorizer\n",
        "from nltk.tokenize import TweetTokenizer\n",
        "tknzr = TweetTokenizer(preserve_case=False)\n",
        "tfidf = TfidfVectorizer(max_features=80000, stop_words='english',\n",
        "                                     tokenizer=tknzr.tokenize)\n",
        "\n",
        "# fitting\n",
        "tfidf.fit(train_df['text'])"
      ],
      "execution_count": 0,
      "outputs": [
        {
          "output_type": "execute_result",
          "data": {
            "text/plain": [
              "TfidfVectorizer(analyzer='word', binary=False, decode_error='strict',\n",
              "                dtype=<class 'numpy.float64'>, encoding='utf-8',\n",
              "                input='content', lowercase=True, max_df=1.0, max_features=80000,\n",
              "                min_df=1, ngram_range=(1, 1), norm='l2', preprocessor=None,\n",
              "                smooth_idf=True, stop_words='english', strip_accents=None,\n",
              "                sublinear_tf=False, token_pattern='(?u)\\\\b\\\\w\\\\w+\\\\b',\n",
              "                tokenizer=<bound method TweetTokenizer.tokenize of <nltk.tokenize.casual.TweetTokenizer object at 0x7f18a99b9ac8>>,\n",
              "                use_idf=True, vocabulary=None)"
            ]
          },
          "metadata": {
            "tags": []
          },
          "execution_count": 28
        }
      ]
    },
    {
      "cell_type": "code",
      "metadata": {
        "id": "mkm97VhbFhV1",
        "colab_type": "code",
        "outputId": "c7d294af-a6ee-4ac2-cfcc-2b536ceaaab5",
        "colab": {
          "base_uri": "https://localhost:8080/",
          "height": 34
        }
      },
      "source": [
        "# transforming training sets\n",
        "X_train = tfidf.transform(train_df['text'])\n",
        "X_train.shape"
      ],
      "execution_count": 0,
      "outputs": [
        {
          "output_type": "execute_result",
          "data": {
            "text/plain": [
              "(1455563, 80000)"
            ]
          },
          "metadata": {
            "tags": []
          },
          "execution_count": 29
        }
      ]
    },
    {
      "cell_type": "code",
      "metadata": {
        "id": "1HFxdYmjGD_R",
        "colab_type": "code",
        "outputId": "f03b4cf1-f1da-4b19-9ec2-ddc142823a14",
        "colab": {
          "base_uri": "https://localhost:8080/",
          "height": 34
        }
      },
      "source": [
        "# transforming testing sets\n",
        "X_test = tfidf.transform(test_df['text'])\n",
        "X_test.shape"
      ],
      "execution_count": 0,
      "outputs": [
        {
          "output_type": "execute_result",
          "data": {
            "text/plain": [
              "(411972, 80000)"
            ]
          },
          "metadata": {
            "tags": []
          },
          "execution_count": 30
        }
      ]
    },
    {
      "cell_type": "code",
      "metadata": {
        "id": "wBFT0h5HGu3K",
        "colab_type": "code",
        "colab": {}
      },
      "source": [
        "# set pointers\n",
        "y_train = train_df['emotion']\n",
        "y_test = test_df['emotion']"
      ],
      "execution_count": 0,
      "outputs": []
    },
    {
      "cell_type": "code",
      "metadata": {
        "id": "63GRlPkkHBrb",
        "colab_type": "code",
        "outputId": "a8055cce-69b2-415e-9a24-f8904d8df09c",
        "colab": {
          "base_uri": "https://localhost:8080/",
          "height": 224
        }
      },
      "source": [
        "from sklearn.linear_model import LogisticRegression\n",
        "lr = LogisticRegression(C=10,n_jobs=-1,max_iter=1000)\n",
        "lr.fit(X_train,y_train)"
      ],
      "execution_count": 0,
      "outputs": [
        {
          "output_type": "stream",
          "text": [
            "/usr/local/lib/python3.6/dist-packages/sklearn/linear_model/logistic.py:432: FutureWarning: Default solver will be changed to 'lbfgs' in 0.22. Specify a solver to silence this warning.\n",
            "  FutureWarning)\n",
            "/usr/local/lib/python3.6/dist-packages/sklearn/linear_model/logistic.py:469: FutureWarning: Default multi_class will be changed to 'auto' in 0.22. Specify the multi_class option to silence this warning.\n",
            "  \"this warning.\", FutureWarning)\n",
            "/usr/local/lib/python3.6/dist-packages/sklearn/linear_model/logistic.py:1544: UserWarning: 'n_jobs' > 1 does not have any effect when 'solver' is set to 'liblinear'. Got 'n_jobs' = 2.\n",
            "  \" = {}.\".format(effective_n_jobs(self.n_jobs)))\n"
          ],
          "name": "stderr"
        },
        {
          "output_type": "execute_result",
          "data": {
            "text/plain": [
              "LogisticRegression(C=10, class_weight=None, dual=False, fit_intercept=True,\n",
              "                   intercept_scaling=1, l1_ratio=None, max_iter=1000,\n",
              "                   multi_class='warn', n_jobs=-1, penalty='l2',\n",
              "                   random_state=None, solver='warn', tol=0.0001, verbose=0,\n",
              "                   warm_start=False)"
            ]
          },
          "metadata": {
            "tags": []
          },
          "execution_count": 32
        }
      ]
    },
    {
      "cell_type": "code",
      "metadata": {
        "id": "EOGJwJzPHGag",
        "colab_type": "code",
        "outputId": "aeef6d05-f860-468c-9de7-1dc9e5fdb831",
        "colab": {
          "base_uri": "https://localhost:8080/",
          "height": 34
        }
      },
      "source": [
        "pred_result_lr = lr.predict(X_test)\n",
        "pred_result_lr.shape"
      ],
      "execution_count": 0,
      "outputs": [
        {
          "output_type": "execute_result",
          "data": {
            "text/plain": [
              "(411972,)"
            ]
          },
          "metadata": {
            "tags": []
          },
          "execution_count": 33
        }
      ]
    },
    {
      "cell_type": "code",
      "metadata": {
        "id": "h7f_2HJAM-ms",
        "colab_type": "code",
        "colab": {}
      },
      "source": [
        "# save the result\n",
        "test_df['emotion']=pred_result_lr\n",
        "test_df.drop(columns=['hashtags','text'],inplace=True)\n",
        "test_df.index.rename('id',inplace=True)\n",
        "test_df.columns=['emotion']\n",
        "test_df.to_csv('logistic_regression_C10_tfidf_80000_A.csv')"
      ],
      "execution_count": 0,
      "outputs": []
    }
  ]
}