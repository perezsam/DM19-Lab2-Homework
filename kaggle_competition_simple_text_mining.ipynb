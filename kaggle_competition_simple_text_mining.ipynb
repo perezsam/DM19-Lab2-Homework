{
  "nbformat": 4,
  "nbformat_minor": 0,
  "metadata": {
    "colab": {
      "name": "kaggle_competition_simple-text-mining.ipynb",
      "provenance": [],
      "collapsed_sections": [],
      "toc_visible": true,
      "machine_shape": "hm",
      "include_colab_link": true
    },
    "kernelspec": {
      "name": "python3",
      "display_name": "Python 3"
    },
    "accelerator": "GPU"
  },
  "cells": [
    {
      "cell_type": "markdown",
      "metadata": {
        "id": "view-in-github",
        "colab_type": "text"
      },
      "source": [
        "<a href=\"https://colab.research.google.com/github/perezsam/DM19-Lab2-Homework/blob/master/kaggle_competition_simple_text_mining.ipynb\" target=\"_parent\"><img src=\"https://colab.research.google.com/assets/colab-badge.svg\" alt=\"Open In Colab\"/></a>"
      ]
    },
    {
      "cell_type": "markdown",
      "metadata": {
        "id": "iZwHEiUiTe1s",
        "colab_type": "text"
      },
      "source": [
        "## Load raw dataset ##"
      ]
    },
    {
      "cell_type": "code",
      "metadata": {
        "id": "xska7WN2TtHt",
        "colab_type": "code",
        "colab": {}
      },
      "source": [
        "# Run this cell and select the kaggle.json file downloaded\n",
        "# from the Kaggle account settings page.\n",
        "\n",
        "from google.colab import files\n",
        "files.upload()"
      ],
      "execution_count": 0,
      "outputs": []
    },
    {
      "cell_type": "code",
      "metadata": {
        "id": "cDLXrqcNGlU7",
        "colab_type": "code",
        "outputId": "d1c88dfd-9ebe-4286-fb0c-9c7a19c3b8eb",
        "colab": {
          "base_uri": "https://localhost:8080/",
          "height": 34
        }
      },
      "source": [
        "# Let's make sure the kaggle.json file is present.\n",
        "!ls -lha kaggle.json"
      ],
      "execution_count": 3,
      "outputs": [
        {
          "output_type": "stream",
          "text": [
            "-rw-r--r-- 1 root root 64 Dec 21 21:15 kaggle.json\n"
          ],
          "name": "stdout"
        }
      ]
    },
    {
      "cell_type": "code",
      "metadata": {
        "id": "QITWh1N5GoqG",
        "colab_type": "code",
        "colab": {}
      },
      "source": [
        "# Next, install the Kaggle API client.\n",
        "!pip install -q kaggle"
      ],
      "execution_count": 0,
      "outputs": []
    },
    {
      "cell_type": "code",
      "metadata": {
        "id": "KixiXyagGy7Y",
        "colab_type": "code",
        "colab": {}
      },
      "source": [
        "# The Kaggle API client expects this file to be in ~/.kaggle,\n",
        "# so move it there.\n",
        "!mkdir -p ~/.kaggle\n",
        "!cp kaggle.json ~/.kaggle/\n",
        "\n",
        "# This permissions change avoids a warning on Kaggle tool startup.\n",
        "!chmod 600 ~/.kaggle/kaggle.json"
      ],
      "execution_count": 0,
      "outputs": []
    },
    {
      "cell_type": "code",
      "metadata": {
        "id": "rPZaJ7oOGuyh",
        "colab_type": "code",
        "colab": {}
      },
      "source": [
        "!mkdir data"
      ],
      "execution_count": 0,
      "outputs": []
    },
    {
      "cell_type": "code",
      "metadata": {
        "id": "iVFhPi2rUVQI",
        "colab_type": "code",
        "colab": {
          "base_uri": "https://localhost:8080/",
          "height": 34
        },
        "outputId": "d3f4e9b8-225f-4890-fef6-acad9cac14c5"
      },
      "source": [
        "cd data"
      ],
      "execution_count": 3,
      "outputs": [
        {
          "output_type": "stream",
          "text": [
            "/content/data\n"
          ],
          "name": "stdout"
        }
      ]
    },
    {
      "cell_type": "code",
      "metadata": {
        "id": "0hyJ4Rb5HMwH",
        "colab_type": "code",
        "outputId": "5d7a4c7b-a93e-4fc8-d22b-ceafd3d009d3",
        "colab": {
          "base_uri": "https://localhost:8080/",
          "height": 68
        }
      },
      "source": [
        "# Copy the private data set locally.\n",
        "!kaggle datasets download -d cssamuel/dmlab2"
      ],
      "execution_count": 4,
      "outputs": [
        {
          "output_type": "stream",
          "text": [
            "Downloading dmlab2.zip to /content/data\n",
            " 90% 134M/149M [00:05<00:00, 16.2MB/s]\n",
            "100% 149M/149M [00:05<00:00, 26.4MB/s]\n"
          ],
          "name": "stdout"
        }
      ]
    },
    {
      "cell_type": "code",
      "metadata": {
        "id": "64MVwxrHAQuf",
        "colab_type": "code",
        "outputId": "2bbda5d9-0772-4946-dd15-d2ebf7dbbe99",
        "colab": {
          "base_uri": "https://localhost:8080/",
          "height": 102
        }
      },
      "source": [
        "# unzip dataset in data directory\n",
        "!unzip dmlab2.zip"
      ],
      "execution_count": 5,
      "outputs": [
        {
          "output_type": "stream",
          "text": [
            "Archive:  dmlab2.zip\n",
            "  inflating: data_identification.csv  \n",
            "  inflating: emotion.csv             \n",
            "  inflating: sampleSubmission.csv    \n",
            "  inflating: tweets_DM.json          \n"
          ],
          "name": "stdout"
        }
      ]
    },
    {
      "cell_type": "code",
      "metadata": {
        "id": "YDjBq8E3EH8f",
        "colab_type": "code",
        "outputId": "69d2135d-c06a-4787-a32a-38ee35d59d5b",
        "colab": {
          "base_uri": "https://localhost:8080/",
          "height": 51
        }
      },
      "source": [
        "# list files in current directory\n",
        "ls"
      ],
      "execution_count": 6,
      "outputs": [
        {
          "output_type": "stream",
          "text": [
            "data_identification.csv  emotion.csv           tweets_DM.json\n",
            "dmlab2.zip               sampleSubmission.csv\n"
          ],
          "name": "stdout"
        }
      ]
    },
    {
      "cell_type": "code",
      "metadata": {
        "id": "yoq0dlRlEKid",
        "colab_type": "code",
        "outputId": "169cc7c3-49f5-48c9-a0da-2fad04cca7fd",
        "colab": {
          "base_uri": "https://localhost:8080/",
          "height": 34
        }
      },
      "source": [
        "# return notebook directory\n",
        "cd .."
      ],
      "execution_count": 7,
      "outputs": [
        {
          "output_type": "stream",
          "text": [
            "/content\n"
          ],
          "name": "stdout"
        }
      ]
    },
    {
      "cell_type": "code",
      "metadata": {
        "id": "5ZaHOSU-EOQD",
        "colab_type": "code",
        "outputId": "4ca5f5f6-358d-4eee-fa6e-60ee2ebe6725",
        "colab": {
          "base_uri": "https://localhost:8080/",
          "height": 34
        }
      },
      "source": [
        "ls"
      ],
      "execution_count": 8,
      "outputs": [
        {
          "output_type": "stream",
          "text": [
            "\u001b[0m\u001b[01;34mdata\u001b[0m/  kaggle.json  \u001b[01;34msample_data\u001b[0m/\n"
          ],
          "name": "stdout"
        }
      ]
    },
    {
      "cell_type": "markdown",
      "metadata": {
        "id": "_tKBZFwbH5-W",
        "colab_type": "text"
      },
      "source": [
        "##Data preprocessing##"
      ]
    },
    {
      "cell_type": "markdown",
      "metadata": {
        "id": "3Jgplc17W9a4",
        "colab_type": "text"
      },
      "source": [
        "We start by installing the emoji library for dealing with the emojis in tweets"
      ]
    },
    {
      "cell_type": "code",
      "metadata": {
        "id": "JoLtB_N7j57v",
        "colab_type": "code",
        "outputId": "ec5b56b4-fd5e-4baf-edec-e30975bf00b0",
        "colab": {
          "base_uri": "https://localhost:8080/",
          "height": 34
        }
      },
      "source": [
        "# needed when working with text preprocessing for our model\n",
        "!pip install emoji"
      ],
      "execution_count": 23,
      "outputs": [
        {
          "output_type": "stream",
          "text": [
            "Requirement already satisfied: emoji in /usr/local/lib/python3.6/dist-packages (0.5.4)\n"
          ],
          "name": "stdout"
        }
      ]
    },
    {
      "cell_type": "markdown",
      "metadata": {
        "id": "JBqTBParXJ_y",
        "colab_type": "text"
      },
      "source": [
        "We proceed to import some packeges and doing some setting configurations"
      ]
    },
    {
      "cell_type": "code",
      "metadata": {
        "id": "9vaq11njAWtZ",
        "colab_type": "code",
        "colab": {}
      },
      "source": [
        "import pandas as pd\n",
        "import numpy as np\n",
        "import matplotlib.pyplot as plt\n",
        "import seaborn as sns\n",
        "import keras\n",
        "from sklearn import metrics\n",
        "from sklearn.preprocessing import LabelEncoder,OneHotEncoder\n",
        "from keras.models import Model\n",
        "from keras.layers import LSTM, Activation, Dense, Dropout, Input, Embedding\n",
        "from keras.optimizers import RMSprop\n",
        "from keras.preprocessing.text import Tokenizer\n",
        "from keras.preprocessing import sequence\n",
        "from keras.callbacks import EarlyStopping\n",
        "\n",
        "pd.set_option('display.max_colwidth', -1)\n",
        "from time import time\n",
        "import re\n",
        "import string\n",
        "import os\n",
        "import emoji\n",
        "from pprint import pprint\n",
        "import collections\n",
        "\n",
        "import matplotlib.pyplot as plt\n",
        "import seaborn as sns\n",
        "sns.set(style=\"darkgrid\")\n",
        "sns.set(font_scale=1.3)\n",
        "\n",
        "from sklearn.base import BaseEstimator, TransformerMixin\n",
        "from sklearn.feature_extraction.text import CountVectorizer\n",
        "from sklearn.feature_extraction.text import TfidfVectorizer\n",
        "from sklearn.model_selection import GridSearchCV\n",
        "from sklearn.model_selection import train_test_split\n",
        "from sklearn.pipeline import Pipeline, FeatureUnion\n",
        "from sklearn.metrics import classification_report\n",
        "\n",
        "from sklearn.naive_bayes import MultinomialNB\n",
        "from sklearn.linear_model import LogisticRegression\n",
        "from sklearn.externals import joblib\n",
        "\n",
        "import gensim\n",
        "\n",
        "from nltk.corpus import stopwords\n",
        "from nltk.stem import PorterStemmer\n",
        "from nltk.tokenize import word_tokenize\n",
        "\n",
        "np.random.seed(37)\n",
        "KAGGLE_ENV = os.getcwd == '/kaggle/working'"
      ],
      "execution_count": 0,
      "outputs": []
    },
    {
      "cell_type": "markdown",
      "metadata": {
        "id": "K7VClrIsb2GA",
        "colab_type": "text"
      },
      "source": [
        "We load and process the raw data using the json and json json_normalize"
      ]
    },
    {
      "cell_type": "code",
      "metadata": {
        "id": "f4qdTMJ5AfrU",
        "colab_type": "code",
        "colab": {}
      },
      "source": [
        "## to deal with the raw data we need json and json_normalize\n",
        "import json\n",
        "from pandas.io.json import json_normalize"
      ],
      "execution_count": 0,
      "outputs": []
    },
    {
      "cell_type": "code",
      "metadata": {
        "id": "OlCgJWgmAjNK",
        "colab_type": "code",
        "colab": {}
      },
      "source": [
        "# read raw data files\n",
        "raw_data=pd.read_json(\"./data/tweets_DM.json\",lines=True)\n",
        "\n",
        "# get only the useful information from from tweets_DM.json\n",
        "tweets=json_normalize(data=raw_data['_source'])\n",
        "\n",
        "# read data identification and enotions\n",
        "identify=pd.read_csv(\"./data/data_identification.csv\")\n",
        "emotion=pd.read_csv(\"./data/emotion.csv\")"
      ],
      "execution_count": 0,
      "outputs": []
    },
    {
      "cell_type": "code",
      "metadata": {
        "id": "DM7ZV0sAaGzO",
        "colab_type": "code",
        "colab": {
          "base_uri": "https://localhost:8080/",
          "height": 204
        },
        "outputId": "4e15360f-914a-40c1-bb79-d02692502b83"
      },
      "source": [
        "tweets.head()"
      ],
      "execution_count": 17,
      "outputs": [
        {
          "output_type": "execute_result",
          "data": {
            "text/html": [
              "<div>\n",
              "<style scoped>\n",
              "    .dataframe tbody tr th:only-of-type {\n",
              "        vertical-align: middle;\n",
              "    }\n",
              "\n",
              "    .dataframe tbody tr th {\n",
              "        vertical-align: top;\n",
              "    }\n",
              "\n",
              "    .dataframe thead th {\n",
              "        text-align: right;\n",
              "    }\n",
              "</style>\n",
              "<table border=\"1\" class=\"dataframe\">\n",
              "  <thead>\n",
              "    <tr style=\"text-align: right;\">\n",
              "      <th></th>\n",
              "      <th>tweet.hashtags</th>\n",
              "      <th>tweet.tweet_id</th>\n",
              "      <th>tweet.text</th>\n",
              "    </tr>\n",
              "  </thead>\n",
              "  <tbody>\n",
              "    <tr>\n",
              "      <th>0</th>\n",
              "      <td>[Snapchat]</td>\n",
              "      <td>0x376b20</td>\n",
              "      <td>People who post \"add me on #Snapchat\" must be dehydrated. Cuz man.... that's &lt;LH&gt;</td>\n",
              "    </tr>\n",
              "    <tr>\n",
              "      <th>1</th>\n",
              "      <td>[freepress, TrumpLegacy, CNN]</td>\n",
              "      <td>0x2d5350</td>\n",
              "      <td>@brianklaas As we see, Trump is dangerous to #freepress around the world. What a &lt;LH&gt; &lt;LH&gt; #TrumpLegacy.  #CNN</td>\n",
              "    </tr>\n",
              "    <tr>\n",
              "      <th>2</th>\n",
              "      <td>[bibleverse]</td>\n",
              "      <td>0x28b412</td>\n",
              "      <td>Confident of your obedience, I write to you, knowing that you will do even more than I ask. (Philemon 1:21) 3/4 #bibleverse &lt;LH&gt; &lt;LH&gt;</td>\n",
              "    </tr>\n",
              "    <tr>\n",
              "      <th>3</th>\n",
              "      <td>[]</td>\n",
              "      <td>0x1cd5b0</td>\n",
              "      <td>Now ISSA is stalking Tasha 😂😂😂 &lt;LH&gt;</td>\n",
              "    </tr>\n",
              "    <tr>\n",
              "      <th>4</th>\n",
              "      <td>[]</td>\n",
              "      <td>0x2de201</td>\n",
              "      <td>\"Trust is not the same as faith. A friend is someone you trust. Putting faith in anyone is a mistake.\" ~ Christopher Hitchens &lt;LH&gt; &lt;LH&gt;</td>\n",
              "    </tr>\n",
              "  </tbody>\n",
              "</table>\n",
              "</div>"
            ],
            "text/plain": [
              "                  tweet.hashtags  ...                                                                                                                               tweet.text\n",
              "0  [Snapchat]                     ...  People who post \"add me on #Snapchat\" must be dehydrated. Cuz man.... that's <LH>                                                      \n",
              "1  [freepress, TrumpLegacy, CNN]  ...  @brianklaas As we see, Trump is dangerous to #freepress around the world. What a <LH> <LH> #TrumpLegacy.  #CNN                         \n",
              "2  [bibleverse]                   ...  Confident of your obedience, I write to you, knowing that you will do even more than I ask. (Philemon 1:21) 3/4 #bibleverse <LH> <LH>  \n",
              "3  []                             ...  Now ISSA is stalking Tasha 😂😂😂 <LH>                                                                                                    \n",
              "4  []                             ...  \"Trust is not the same as faith. A friend is someone you trust. Putting faith in anyone is a mistake.\" ~ Christopher Hitchens <LH> <LH>\n",
              "\n",
              "[5 rows x 3 columns]"
            ]
          },
          "metadata": {
            "tags": []
          },
          "execution_count": 17
        }
      ]
    },
    {
      "cell_type": "markdown",
      "metadata": {
        "id": "d4OSrGBLcRwQ",
        "colab_type": "text"
      },
      "source": [
        "Obtain our training and testing dataset by adding the identification to all tweets and then adding the emotion to the training dataset."
      ]
    },
    {
      "cell_type": "code",
      "metadata": {
        "id": "L0Pofz0vBvZ0",
        "colab_type": "code",
        "outputId": "508f72e0-a546-4fb7-c56c-6e86d0489bbf",
        "colab": {
          "base_uri": "https://localhost:8080/",
          "height": 102
        }
      },
      "source": [
        "# rename column names given by the json_normalize\n",
        "tweets=tweets.rename(index=str,columns={\"tweet.text\":\"text\", \"tweet.tweet_id\":\"tweet_id\",\n",
        "                                       \"tweet.hashtags\":\"hashtags\"})\n",
        "# add identify tags to dataframe\n",
        "tweets=pd.merge(tweets,identify, on=\"tweet_id\")\n",
        "\n",
        "#get training set and test set\n",
        "train_df=tweets[tweets[\"identification\"] == \"train\"]\n",
        "test_df=tweets[tweets[\"identification\"] == \"test\"]\n",
        "\n",
        "#add emotion column\n",
        "train_df=pd.merge(train_df,emotion, on=\"tweet_id\")\n",
        "#test_df[\"emotion\"]=\"\"\n",
        "\n",
        "#drop identification tags\n",
        "train_df.drop(columns=[\"identification\"],inplace=True)\n",
        "test_df.drop(columns=[\"identification\"],inplace=True)\n",
        "\n",
        "#use tweet_id as index\n",
        "train_df.set_index(\"tweet_id\",inplace=True)\n",
        "test_df.set_index(\"tweet_id\",inplace=True)"
      ],
      "execution_count": 18,
      "outputs": [
        {
          "output_type": "stream",
          "text": [
            "/usr/local/lib/python3.6/dist-packages/pandas/core/frame.py:4117: SettingWithCopyWarning: \n",
            "A value is trying to be set on a copy of a slice from a DataFrame\n",
            "\n",
            "See the caveats in the documentation: http://pandas.pydata.org/pandas-docs/stable/user_guide/indexing.html#returning-a-view-versus-a-copy\n",
            "  errors=errors,\n"
          ],
          "name": "stderr"
        }
      ]
    },
    {
      "cell_type": "markdown",
      "metadata": {
        "id": "7KmRq2SRc9tX",
        "colab_type": "text"
      },
      "source": [
        "We finally have our training and testing datasets ready"
      ]
    },
    {
      "cell_type": "code",
      "metadata": {
        "id": "0YVtR5M3bYjJ",
        "colab_type": "code",
        "colab": {
          "base_uri": "https://localhost:8080/",
          "height": 235
        },
        "outputId": "e2c18f37-ce17-43a2-99c2-fe500957454c"
      },
      "source": [
        "train_df.head()"
      ],
      "execution_count": 19,
      "outputs": [
        {
          "output_type": "execute_result",
          "data": {
            "text/html": [
              "<div>\n",
              "<style scoped>\n",
              "    .dataframe tbody tr th:only-of-type {\n",
              "        vertical-align: middle;\n",
              "    }\n",
              "\n",
              "    .dataframe tbody tr th {\n",
              "        vertical-align: top;\n",
              "    }\n",
              "\n",
              "    .dataframe thead th {\n",
              "        text-align: right;\n",
              "    }\n",
              "</style>\n",
              "<table border=\"1\" class=\"dataframe\">\n",
              "  <thead>\n",
              "    <tr style=\"text-align: right;\">\n",
              "      <th></th>\n",
              "      <th>hashtags</th>\n",
              "      <th>text</th>\n",
              "      <th>emotion</th>\n",
              "    </tr>\n",
              "    <tr>\n",
              "      <th>tweet_id</th>\n",
              "      <th></th>\n",
              "      <th></th>\n",
              "      <th></th>\n",
              "    </tr>\n",
              "  </thead>\n",
              "  <tbody>\n",
              "    <tr>\n",
              "      <th>0x376b20</th>\n",
              "      <td>[Snapchat]</td>\n",
              "      <td>People who post \"add me on #Snapchat\" must be dehydrated. Cuz man.... that's &lt;LH&gt;</td>\n",
              "      <td>anticipation</td>\n",
              "    </tr>\n",
              "    <tr>\n",
              "      <th>0x2d5350</th>\n",
              "      <td>[freepress, TrumpLegacy, CNN]</td>\n",
              "      <td>@brianklaas As we see, Trump is dangerous to #freepress around the world. What a &lt;LH&gt; &lt;LH&gt; #TrumpLegacy.  #CNN</td>\n",
              "      <td>sadness</td>\n",
              "    </tr>\n",
              "    <tr>\n",
              "      <th>0x1cd5b0</th>\n",
              "      <td>[]</td>\n",
              "      <td>Now ISSA is stalking Tasha 😂😂😂 &lt;LH&gt;</td>\n",
              "      <td>fear</td>\n",
              "    </tr>\n",
              "    <tr>\n",
              "      <th>0x1d755c</th>\n",
              "      <td>[authentic, LaughOutLoud]</td>\n",
              "      <td>@RISKshow @TheKevinAllison Thx for the BEST TIME tonight. What stories! Heartbreakingly &lt;LH&gt; #authentic #LaughOutLoud good!!</td>\n",
              "      <td>joy</td>\n",
              "    </tr>\n",
              "    <tr>\n",
              "      <th>0x2c91a8</th>\n",
              "      <td>[]</td>\n",
              "      <td>Still waiting on those supplies Liscus. &lt;LH&gt;</td>\n",
              "      <td>anticipation</td>\n",
              "    </tr>\n",
              "  </tbody>\n",
              "</table>\n",
              "</div>"
            ],
            "text/plain": [
              "                               hashtags  ...       emotion\n",
              "tweet_id                                 ...              \n",
              "0x376b20  [Snapchat]                     ...  anticipation\n",
              "0x2d5350  [freepress, TrumpLegacy, CNN]  ...  sadness     \n",
              "0x1cd5b0  []                             ...  fear        \n",
              "0x1d755c  [authentic, LaughOutLoud]      ...  joy         \n",
              "0x2c91a8  []                             ...  anticipation\n",
              "\n",
              "[5 rows x 3 columns]"
            ]
          },
          "metadata": {
            "tags": []
          },
          "execution_count": 19
        }
      ]
    },
    {
      "cell_type": "code",
      "metadata": {
        "id": "myNJKooLbe4W",
        "colab_type": "code",
        "colab": {
          "base_uri": "https://localhost:8080/",
          "height": 235
        },
        "outputId": "ff6ae7e6-d7c8-478f-dd28-3f5b2ed013c9"
      },
      "source": [
        "test_df.head()"
      ],
      "execution_count": 20,
      "outputs": [
        {
          "output_type": "execute_result",
          "data": {
            "text/html": [
              "<div>\n",
              "<style scoped>\n",
              "    .dataframe tbody tr th:only-of-type {\n",
              "        vertical-align: middle;\n",
              "    }\n",
              "\n",
              "    .dataframe tbody tr th {\n",
              "        vertical-align: top;\n",
              "    }\n",
              "\n",
              "    .dataframe thead th {\n",
              "        text-align: right;\n",
              "    }\n",
              "</style>\n",
              "<table border=\"1\" class=\"dataframe\">\n",
              "  <thead>\n",
              "    <tr style=\"text-align: right;\">\n",
              "      <th></th>\n",
              "      <th>hashtags</th>\n",
              "      <th>text</th>\n",
              "    </tr>\n",
              "    <tr>\n",
              "      <th>tweet_id</th>\n",
              "      <th></th>\n",
              "      <th></th>\n",
              "    </tr>\n",
              "  </thead>\n",
              "  <tbody>\n",
              "    <tr>\n",
              "      <th>0x28b412</th>\n",
              "      <td>[bibleverse]</td>\n",
              "      <td>Confident of your obedience, I write to you, knowing that you will do even more than I ask. (Philemon 1:21) 3/4 #bibleverse &lt;LH&gt; &lt;LH&gt;</td>\n",
              "    </tr>\n",
              "    <tr>\n",
              "      <th>0x2de201</th>\n",
              "      <td>[]</td>\n",
              "      <td>\"Trust is not the same as faith. A friend is someone you trust. Putting faith in anyone is a mistake.\" ~ Christopher Hitchens &lt;LH&gt; &lt;LH&gt;</td>\n",
              "    </tr>\n",
              "    <tr>\n",
              "      <th>0x218443</th>\n",
              "      <td>[materialism, money, possessions]</td>\n",
              "      <td>When do you have enough ? When are you satisfied ? Is you goal really all about money ?  #materialism #money #possessions &lt;LH&gt;</td>\n",
              "    </tr>\n",
              "    <tr>\n",
              "      <th>0x2939d5</th>\n",
              "      <td>[GodsPlan, GodsWork]</td>\n",
              "      <td>God woke you up, now chase the day #GodsPlan #GodsWork &lt;LH&gt;</td>\n",
              "    </tr>\n",
              "    <tr>\n",
              "      <th>0x26289a</th>\n",
              "      <td>[]</td>\n",
              "      <td>In these tough times, who do YOU turn to as your symbol of hope? &lt;LH&gt;</td>\n",
              "    </tr>\n",
              "  </tbody>\n",
              "</table>\n",
              "</div>"
            ],
            "text/plain": [
              "                                   hashtags                                                                                                                                     text\n",
              "tweet_id                                                                                                                                                                            \n",
              "0x28b412  [bibleverse]                       Confident of your obedience, I write to you, knowing that you will do even more than I ask. (Philemon 1:21) 3/4 #bibleverse <LH> <LH>  \n",
              "0x2de201  []                                 \"Trust is not the same as faith. A friend is someone you trust. Putting faith in anyone is a mistake.\" ~ Christopher Hitchens <LH> <LH>\n",
              "0x218443  [materialism, money, possessions]  When do you have enough ? When are you satisfied ? Is you goal really all about money ?  #materialism #money #possessions <LH>         \n",
              "0x2939d5  [GodsPlan, GodsWork]               God woke you up, now chase the day #GodsPlan #GodsWork <LH>                                                                            \n",
              "0x26289a  []                                 In these tough times, who do YOU turn to as your symbol of hope? <LH>                                                                  "
            ]
          },
          "metadata": {
            "tags": []
          },
          "execution_count": 20
        }
      ]
    },
    {
      "cell_type": "markdown",
      "metadata": {
        "id": "8JltzSTVdWft",
        "colab_type": "text"
      },
      "source": [
        "Save our training and testing dataset to a pickle file"
      ]
    },
    {
      "cell_type": "code",
      "metadata": {
        "id": "xtdQ5eEldMoO",
        "colab_type": "code",
        "colab": {}
      },
      "source": [
        "!mkdir output"
      ],
      "execution_count": 0,
      "outputs": []
    },
    {
      "cell_type": "code",
      "metadata": {
        "id": "uLbUziKEB-zH",
        "colab_type": "code",
        "colab": {}
      },
      "source": [
        "# save to pickle file\n",
        "train_df.to_pickle(\"./output/train_df.pkl\")\n",
        "test_df.to_pickle(\"./output/test_df.pkl\")"
      ],
      "execution_count": 0,
      "outputs": []
    },
    {
      "cell_type": "markdown",
      "metadata": {
        "id": "MZBWdbTJeFlC",
        "colab_type": "text"
      },
      "source": [
        "##Sentiment Analysis##"
      ]
    },
    {
      "cell_type": "markdown",
      "metadata": {
        "id": "8o1haTnOeuAN",
        "colab_type": "text"
      },
      "source": [
        "###Loading the data###"
      ]
    },
    {
      "cell_type": "markdown",
      "metadata": {
        "id": "OjN_3cSKey43",
        "colab_type": "text"
      },
      "source": [
        "We read in the pickle files we just saved from the data preprocessing stage. We shuffle the data frame and get only the needed variables (i.e. text and emotion)"
      ]
    },
    {
      "cell_type": "code",
      "metadata": {
        "id": "dkDjLaqilAzF",
        "colab_type": "code",
        "colab": {}
      },
      "source": [
        "## load a pickle file\n",
        "df = pd.read_pickle(\"./output/train_df.pkl\")\n",
        "df = df.reindex(np.random.permutation(df.index))  \n",
        "df = df[['text', 'emotion']]"
      ],
      "execution_count": 0,
      "outputs": []
    },
    {
      "cell_type": "markdown",
      "metadata": {
        "id": "yXDVRw5WgO1E",
        "colab_type": "text"
      },
      "source": [
        " ## Data Exploration ##"
      ]
    },
    {
      "cell_type": "markdown",
      "metadata": {
        "id": "5VPpepXhgmjU",
        "colab_type": "text"
      },
      "source": [
        "### Target variable ###"
      ]
    },
    {
      "cell_type": "markdown",
      "metadata": {
        "id": "SzoWRo2EgutJ",
        "colab_type": "text"
      },
      "source": [
        "There are eight different classes (emotions) we need to predict: *anger, anticipation, disgust,\tfear,\tjoy, sadness, surprise and trust.*"
      ]
    },
    {
      "cell_type": "markdown",
      "metadata": {
        "id": "bEgRxxCWikrm",
        "colab_type": "text"
      },
      "source": [
        "As we can see below, the class labels are inblanced."
      ]
    },
    {
      "cell_type": "code",
      "metadata": {
        "id": "wazBkYEBlXLq",
        "colab_type": "code",
        "outputId": "3f41b1ed-67d2-4a26-bea7-51c5b06b63b2",
        "colab": {
          "base_uri": "https://localhost:8080/",
          "height": 517
        }
      },
      "source": [
        "target_dist = sns.factorplot(x=\"emotion\", data=df, kind=\"count\", size=6, aspect=1.5, palette=\"PuBuGn_d\")\n",
        "plt.show();"
      ],
      "execution_count": 27,
      "outputs": [
        {
          "output_type": "stream",
          "text": [
            "/usr/local/lib/python3.6/dist-packages/seaborn/categorical.py:3666: UserWarning: The `factorplot` function has been renamed to `catplot`. The original name will be removed in a future release. Please update your code. Note that the default `kind` in `factorplot` (`'point'`) has changed `'strip'` in `catplot`.\n",
            "  warnings.warn(msg)\n",
            "/usr/local/lib/python3.6/dist-packages/seaborn/categorical.py:3672: UserWarning: The `size` paramter has been renamed to `height`; please update your code.\n",
            "  warnings.warn(msg, UserWarning)\n"
          ],
          "name": "stderr"
        },
        {
          "output_type": "display_data",
          "data": {
            "image/png": "[encoded data removed]",
            "text/plain": [
              "<Figure size 648x432 with 1 Axes>"
            ]
          },
          "metadata": {
            "tags": []
          }
        }
      ]
    },
    {
      "cell_type": "markdown",
      "metadata": {
        "id": "p46XK25VjS4C",
        "colab_type": "text"
      },
      "source": [
        "To analyze the text variable a class **TextCounts** is created. In this class some basic statistics are computed on the text variable.\n",
        "\n",
        "- **count_words** : number of words in the tweet\n",
        "- **count_mentions** : referrals to other Twitter accounts, which are preceded by a @\n",
        "- **count_hashtags** : number of tag words, preceded by a #\n",
        "- **count_capital_words** : number of uppercase words, could be used to \"shout\" and express (negative) emotions\n",
        "- **count_excl_quest_marks** : number of question or exclamation marks\n",
        "- **count_urls** : number of links in the tweet, preceded by http(s)\n",
        "- **count_emojis** : number of emoji, which might be a good indication of the sentiment"
      ]
    },
    {
      "cell_type": "code",
      "metadata": {
        "id": "KhAwbdFxlcJb",
        "colab_type": "code",
        "colab": {}
      },
      "source": [
        "class TextCounts(BaseEstimator, TransformerMixin):\n",
        "    \n",
        "    def count_regex(self, pattern, tweet):\n",
        "        return len(re.findall(pattern, tweet))\n",
        "    \n",
        "    def fit(self, X, y=None, **fit_params):\n",
        "        # fit method is used when specific operations need to be done on the train data, but not on the test data\n",
        "        return self\n",
        "    \n",
        "    def transform(self, X, **transform_params):\n",
        "        count_words = X.apply(lambda x: self.count_regex(r'\\w+', x)) \n",
        "        count_mentions = X.apply(lambda x: self.count_regex(r'@\\w+', x))\n",
        "        count_hashtags = X.apply(lambda x: self.count_regex(r'#\\w+', x))\n",
        "        count_capital_words = X.apply(lambda x: self.count_regex(r'\\b[A-Z]{2,}\\b', x))\n",
        "        count_excl_quest_marks = X.apply(lambda x: self.count_regex(r'!|\\?', x))\n",
        "        count_urls = X.apply(lambda x: self.count_regex(r'http.?://[^\\s]+[\\s]?', x))\n",
        "        # We will replace the emoji symbols with a description, which makes using a regex for counting easier\n",
        "        # Moreover, it will result in having more words in the tweet\n",
        "        count_emojis = X.apply(lambda x: emoji.demojize(x)).apply(lambda x: self.count_regex(r':[a-z_&]+:', x))\n",
        "        \n",
        "        df = pd.DataFrame({'count_words': count_words\n",
        "                           , 'count_mentions': count_mentions\n",
        "                           , 'count_hashtags': count_hashtags\n",
        "                           , 'count_capital_words': count_capital_words\n",
        "                           , 'count_excl_quest_marks': count_excl_quest_marks\n",
        "                           , 'count_urls': count_urls\n",
        "                           , 'count_emojis': count_emojis\n",
        "                          })\n",
        "        \n",
        "        return df"
      ],
      "execution_count": 0,
      "outputs": []
    },
    {
      "cell_type": "code",
      "metadata": {
        "id": "1-UHTARRltvU",
        "colab_type": "code",
        "colab": {}
      },
      "source": [
        "tc = TextCounts()\n",
        "df_eda = tc.fit_transform(df.text)\n",
        "# Add tweet emotion to df_eda\n",
        "df_eda['emotion'] = df.emotion"
      ],
      "execution_count": 0,
      "outputs": []
    },
    {
      "cell_type": "markdown",
      "metadata": {
        "id": "FNPZ0L8llxib",
        "colab_type": "text"
      },
      "source": [
        "It could be interesting to see how the TextStats variables relate to the class variable. Therefore the function **show_dist** that provides descriptive statistics and a plot per target class."
      ]
    },
    {
      "cell_type": "code",
      "metadata": {
        "id": "zylXZBJIly-_",
        "colab_type": "code",
        "colab": {}
      },
      "source": [
        "def show_dist(df, col):\n",
        "    print('Descriptive stats for {}'.format(col))\n",
        "    print('-'*(len(col)+22))\n",
        "    print(df.groupby('emotion')[col].describe())\n",
        "    bins = np.arange(df[col].min(), df[col].max() + 1)\n",
        "    g = sns.FacetGrid(df, col='emotion', size=5, hue='emotion', palette=\"PuBuGn_d\")\n",
        "    g = g.map(sns.distplot, col, kde=False, norm_hist=True, bins=bins)\n",
        "    plt.show() "
      ],
      "execution_count": 0,
      "outputs": []
    },
    {
      "cell_type": "code",
      "metadata": {
        "id": "sPFRMY_KoW8v",
        "colab_type": "code",
        "outputId": "1265d513-e5a5-4a8d-8f96-36aa05bdb83d",
        "colab": {
          "base_uri": "https://localhost:8080/",
          "height": 615
        }
      },
      "source": [
        "# show word count per emotion\n",
        "show_dist(df_eda, 'count_words')"
      ],
      "execution_count": 0,
      "outputs": [
        {
          "output_type": "stream",
          "text": [
            "Descriptive stats for count_words\n",
            "---------------------------------\n",
            "                 count       mean       std  min   25%   50%   75%   max\n",
            "emotion                                                                 \n",
            "anger         39867.0   16.126596  6.758856  2.0  10.0  16.0  22.0  34.0\n",
            "anticipation  248935.0  16.477000  6.700404  2.0  11.0  17.0  22.0  38.0\n",
            "disgust       139101.0  15.846838  6.480880  2.0  11.0  16.0  21.0  44.0\n",
            "fear          63999.0   12.803919  6.619044  2.0  7.0   12.0  18.0  34.0\n",
            "joy           516017.0  14.567594  6.539246  2.0  9.0   14.0  20.0  41.0\n",
            "sadness       193437.0  15.166359  6.316717  2.0  10.0  15.0  20.0  37.0\n",
            "surprise      48729.0   14.379322  6.689772  2.0  9.0   14.0  20.0  35.0\n",
            "trust         205478.0  15.033230  6.390514  2.0  10.0  15.0  20.0  41.0\n"
          ],
          "name": "stdout"
        },
        {
          "output_type": "stream",
          "text": [
            "/usr/local/lib/python3.6/dist-packages/seaborn/axisgrid.py:230: UserWarning: The `size` paramter has been renamed to `height`; please update your code.\n",
            "  warnings.warn(msg, UserWarning)\n"
          ],
          "name": "stderr"
        },
        {
          "output_type": "display_data",
          "data": {
            "image/png": "[encoded data removed]",
            "text/plain": [
              "<Figure size 2880x360 with 8 Axes>"
            ]
          },
          "metadata": {
            "tags": []
          }
        }
      ]
    },
    {
      "cell_type": "code",
      "metadata": {
        "id": "gT6HxObcoXDU",
        "colab_type": "code",
        "outputId": "9bc81fe9-1d33-4422-96be-1a91905de9e7",
        "colab": {
          "base_uri": "https://localhost:8080/",
          "height": 615
        }
      },
      "source": [
        "# show mentions count per emotion\n",
        "show_dist(df_eda, 'count_mentions')"
      ],
      "execution_count": 0,
      "outputs": [
        {
          "output_type": "stream",
          "text": [
            "Descriptive stats for count_mentions\n",
            "------------------------------------\n",
            "                 count      mean       std  min  25%  50%  75%   max\n",
            "emotion                                                             \n",
            "anger         39867.0   0.468784  0.789897  0.0  0.0  0.0  1.0  8.0 \n",
            "anticipation  248935.0  0.407331  0.792463  0.0  0.0  0.0  1.0  10.0\n",
            "disgust       139101.0  0.753970  0.980680  0.0  0.0  0.0  1.0  12.0\n",
            "fear          63999.0   0.456085  0.880535  0.0  0.0  0.0  1.0  9.0 \n",
            "joy           516017.0  0.497563  0.899727  0.0  0.0  0.0  1.0  15.0\n",
            "sadness       193437.0  0.912556  1.125350  0.0  0.0  1.0  1.0  12.0\n",
            "surprise      48729.0   0.550699  0.905380  0.0  0.0  0.0  1.0  10.0\n",
            "trust         205478.0  0.536310  0.934066  0.0  0.0  0.0  1.0  10.0\n"
          ],
          "name": "stdout"
        },
        {
          "output_type": "stream",
          "text": [
            "/usr/local/lib/python3.6/dist-packages/seaborn/axisgrid.py:230: UserWarning: The `size` paramter has been renamed to `height`; please update your code.\n",
            "  warnings.warn(msg, UserWarning)\n"
          ],
          "name": "stderr"
        },
        {
          "output_type": "display_data",
          "data": {
            "image/png": "[encoded data removed]",
            "text/plain": [
              "<Figure size 2880x360 with 8 Axes>"
            ]
          },
          "metadata": {
            "tags": []
          }
        }
      ]
    },
    {
      "cell_type": "code",
      "metadata": {
        "id": "oFmc7MjHoXI1",
        "colab_type": "code",
        "outputId": "292ea759-7e9f-4a4e-aaf8-a2d7841b7786",
        "colab": {
          "base_uri": "https://localhost:8080/",
          "height": 615
        }
      },
      "source": [
        "# show hashtags count per emotion\n",
        "show_dist(df_eda, 'count_hashtags')"
      ],
      "execution_count": 0,
      "outputs": [
        {
          "output_type": "stream",
          "text": [
            "Descriptive stats for count_hashtags\n",
            "------------------------------------\n",
            "                 count      mean       std  min  25%  50%  75%   max\n",
            "emotion                                                             \n",
            "anger         39867.0   0.969147  1.428140  0.0  0.0  0.0  1.0  15.0\n",
            "anticipation  248935.0  1.296371  1.577434  0.0  0.0  1.0  2.0  20.0\n",
            "disgust       139101.0  1.120855  1.435439  0.0  0.0  1.0  2.0  14.0\n",
            "fear          63999.0   0.755262  1.320412  0.0  0.0  0.0  1.0  17.0\n",
            "joy           516017.0  1.165111  1.624658  0.0  0.0  1.0  2.0  19.0\n",
            "sadness       193437.0  0.948143  1.371936  0.0  0.0  1.0  1.0  17.0\n",
            "surprise      48729.0   1.225820  1.724077  0.0  0.0  1.0  2.0  17.0\n",
            "trust         205478.0  1.256266  1.660124  0.0  0.0  1.0  2.0  19.0\n"
          ],
          "name": "stdout"
        },
        {
          "output_type": "stream",
          "text": [
            "/usr/local/lib/python3.6/dist-packages/seaborn/axisgrid.py:230: UserWarning: The `size` paramter has been renamed to `height`; please update your code.\n",
            "  warnings.warn(msg, UserWarning)\n"
          ],
          "name": "stderr"
        },
        {
          "output_type": "display_data",
          "data": {
            "image/png": "[encoded data removed]",
            "text/plain": [
              "<Figure size 2880x360 with 8 Axes>"
            ]
          },
          "metadata": {
            "tags": []
          }
        }
      ]
    },
    {
      "cell_type": "code",
      "metadata": {
        "id": "gwTyPJMYoXVp",
        "colab_type": "code",
        "outputId": "44363665-7388-4de1-bdff-0a2f26792638",
        "colab": {
          "base_uri": "https://localhost:8080/",
          "height": 615
        }
      },
      "source": [
        "# show capital words count per emotion\n",
        "show_dist(df_eda, 'count_capital_words')"
      ],
      "execution_count": 0,
      "outputs": [
        {
          "output_type": "stream",
          "text": [
            "Descriptive stats for count_capital_words\n",
            "-----------------------------------------\n",
            "                 count      mean       std  min  25%  50%  75%   max\n",
            "emotion                                                             \n",
            "anger         39867.0   1.643891  1.987629  0.0  1.0  1.0  2.0  28.0\n",
            "anticipation  248935.0  1.844871  1.859910  0.0  1.0  1.0  2.0  31.0\n",
            "disgust       139101.0  1.462197  1.520690  0.0  1.0  1.0  2.0  29.0\n",
            "fear          63999.0   1.347802  1.305162  0.0  1.0  1.0  1.0  30.0\n",
            "joy           516017.0  1.736456  1.741254  0.0  1.0  1.0  2.0  30.0\n",
            "sadness       193437.0  1.447314  1.355044  0.0  1.0  1.0  2.0  28.0\n",
            "surprise      48729.0   1.544173  1.474940  0.0  1.0  1.0  2.0  27.0\n",
            "trust         205478.0  1.513403  1.360580  0.0  1.0  1.0  2.0  29.0\n"
          ],
          "name": "stdout"
        },
        {
          "output_type": "stream",
          "text": [
            "/usr/local/lib/python3.6/dist-packages/seaborn/axisgrid.py:230: UserWarning: The `size` paramter has been renamed to `height`; please update your code.\n",
            "  warnings.warn(msg, UserWarning)\n"
          ],
          "name": "stderr"
        },
        {
          "output_type": "display_data",
          "data": {
            "image/png": "[encoded data removed]",
            "text/plain": [
              "<Figure size 2880x360 with 8 Axes>"
            ]
          },
          "metadata": {
            "tags": []
          }
        }
      ]
    },
    {
      "cell_type": "code",
      "metadata": {
        "id": "y3Jxy_i-oXZa",
        "colab_type": "code",
        "outputId": "a529575e-1be5-4642-83b0-8e500b0d2f7f",
        "colab": {
          "base_uri": "https://localhost:8080/",
          "height": 615
        }
      },
      "source": [
        "# show exclamation marks counts per emotion\n",
        "show_dist(df_eda, 'count_excl_quest_marks')"
      ],
      "execution_count": 0,
      "outputs": [
        {
          "output_type": "stream",
          "text": [
            "Descriptive stats for count_excl_quest_marks\n",
            "--------------------------------------------\n",
            "                 count      mean       std  min  25%  50%  75%   max\n",
            "emotion                                                             \n",
            "anger         39867.0   0.599569  1.386444  0.0  0.0  0.0  1.0  77.0\n",
            "anticipation  248935.0  0.475530  1.088577  0.0  0.0  0.0  1.0  90.0\n",
            "disgust       139101.0  0.646149  1.318737  0.0  0.0  0.0  1.0  46.0\n",
            "fear          63999.0   0.577322  1.238990  0.0  0.0  0.0  1.0  48.0\n",
            "joy           516017.0  0.432344  1.090831  0.0  0.0  0.0  0.0  76.0\n",
            "sadness       193437.0  0.488128  1.060462  0.0  0.0  0.0  1.0  31.0\n",
            "surprise      48729.0   0.596852  1.198450  0.0  0.0  0.0  1.0  28.0\n",
            "trust         205478.0  0.529701  1.104510  0.0  0.0  0.0  1.0  73.0\n"
          ],
          "name": "stdout"
        },
        {
          "output_type": "stream",
          "text": [
            "/usr/local/lib/python3.6/dist-packages/seaborn/axisgrid.py:230: UserWarning: The `size` paramter has been renamed to `height`; please update your code.\n",
            "  warnings.warn(msg, UserWarning)\n"
          ],
          "name": "stderr"
        },
        {
          "output_type": "display_data",
          "data": {
            "image/png": "[encoded data removed]",
            "text/plain": [
              "<Figure size 2880x360 with 8 Axes>"
            ]
          },
          "metadata": {
            "tags": []
          }
        }
      ]
    },
    {
      "cell_type": "code",
      "metadata": {
        "id": "4OaFgAejoXdV",
        "colab_type": "code",
        "outputId": "4026d272-86bb-45ae-ddce-52e60875b314",
        "colab": {
          "base_uri": "https://localhost:8080/",
          "height": 615
        }
      },
      "source": [
        "# show urls count per emotion\n",
        "show_dist(df_eda, 'count_urls')"
      ],
      "execution_count": 0,
      "outputs": [
        {
          "output_type": "stream",
          "text": [
            "Descriptive stats for count_urls\n",
            "--------------------------------\n",
            "                 count  mean  std  min  25%  50%  75%  max\n",
            "emotion                                                   \n",
            "anger         39867.0   0.0   0.0  0.0  0.0  0.0  0.0  0.0\n",
            "anticipation  248935.0  0.0   0.0  0.0  0.0  0.0  0.0  0.0\n",
            "disgust       139101.0  0.0   0.0  0.0  0.0  0.0  0.0  0.0\n",
            "fear          63999.0   0.0   0.0  0.0  0.0  0.0  0.0  0.0\n",
            "joy           516017.0  0.0   0.0  0.0  0.0  0.0  0.0  0.0\n",
            "sadness       193437.0  0.0   0.0  0.0  0.0  0.0  0.0  0.0\n",
            "surprise      48729.0   0.0   0.0  0.0  0.0  0.0  0.0  0.0\n",
            "trust         205478.0  0.0   0.0  0.0  0.0  0.0  0.0  0.0\n"
          ],
          "name": "stdout"
        },
        {
          "output_type": "stream",
          "text": [
            "/usr/local/lib/python3.6/dist-packages/seaborn/axisgrid.py:230: UserWarning: The `size` paramter has been renamed to `height`; please update your code.\n",
            "  warnings.warn(msg, UserWarning)\n"
          ],
          "name": "stderr"
        },
        {
          "output_type": "display_data",
          "data": {
            "image/png": "[encoded data removed]",
            "text/plain": [
              "<Figure size 2880x360 with 8 Axes>"
            ]
          },
          "metadata": {
            "tags": []
          }
        }
      ]
    },
    {
      "cell_type": "code",
      "metadata": {
        "id": "Y_F75xJyoXTb",
        "colab_type": "code",
        "outputId": "b1b2b1cc-6a50-4a6c-ad53-515bdffbd00e",
        "colab": {
          "base_uri": "https://localhost:8080/",
          "height": 615
        }
      },
      "source": [
        "# show emojis count per emotion\n",
        "show_dist(df_eda, 'count_emojis')"
      ],
      "execution_count": 0,
      "outputs": [
        {
          "output_type": "stream",
          "text": [
            "Descriptive stats for count_emojis\n",
            "----------------------------------\n",
            "                 count      mean       std  min  25%  50%  75%    max\n",
            "emotion                                                              \n",
            "anger         39867.0   0.352898  1.183764  0.0  0.0  0.0  0.0  70.0 \n",
            "anticipation  248935.0  0.347673  1.189058  0.0  0.0  0.0  0.0  78.0 \n",
            "disgust       139101.0  0.267065  1.001759  0.0  0.0  0.0  0.0  70.0 \n",
            "fear          63999.0   0.483023  1.360107  0.0  0.0  0.0  0.0  64.0 \n",
            "joy           516017.0  0.536719  1.587650  0.0  0.0  0.0  0.0  119.0\n",
            "sadness       193437.0  0.305071  1.067611  0.0  0.0  0.0  0.0  79.0 \n",
            "surprise      48729.0   0.442139  1.256563  0.0  0.0  0.0  0.0  79.0 \n",
            "trust         205478.0  0.471189  1.324633  0.0  0.0  0.0  0.0  116.0\n"
          ],
          "name": "stdout"
        },
        {
          "output_type": "stream",
          "text": [
            "/usr/local/lib/python3.6/dist-packages/seaborn/axisgrid.py:230: UserWarning: The `size` paramter has been renamed to `height`; please update your code.\n",
            "  warnings.warn(msg, UserWarning)\n"
          ],
          "name": "stderr"
        },
        {
          "output_type": "display_data",
          "data": {
            "image/png": "[encoded data removed]",
            "text/plain": [
              "<Figure size 2880x360 with 8 Axes>"
            ]
          },
          "metadata": {
            "tags": []
          }
        }
      ]
    },
    {
      "cell_type": "markdown",
      "metadata": {
        "id": "E6Blfuu3okbl",
        "colab_type": "text"
      },
      "source": [
        "###Text Cleaning###"
      ]
    },
    {
      "cell_type": "markdown",
      "metadata": {
        "id": "-5AfOB7po6c8",
        "colab_type": "text"
      },
      "source": [
        "Before we start using the tweets' text we clean it. We'll do the this in the class CleanText:\n",
        "\n",
        "- remove the mentions, as we want to make the model more general\n",
        "- remove the hash tag sign (#) but not the actual tag as this may contain information\n",
        "- set all words to lowercase\n",
        "- remove all punctuations, including the question and exclamation marks\n",
        "- the urls as they do not contain useful information and we did not notice a distinction in the number of urls used between the sentiment classes\n",
        "- make sure the converted emojis are kept as one word.\n",
        "- remove digits\n",
        "- remove stopwords\n",
        "- apply the PorterStemmer to keep the stem of the words"
      ]
    },
    {
      "cell_type": "code",
      "metadata": {
        "id": "BehXs0V9oXQd",
        "colab_type": "code",
        "outputId": "5a2e9355-152c-41ae-b2c2-be660b99140f",
        "colab": {
          "base_uri": "https://localhost:8080/",
          "height": 51
        }
      },
      "source": [
        "import nltk\n",
        "nltk.download('stopwords')\n",
        "\n",
        "class CleanText(BaseEstimator, TransformerMixin):\n",
        "   \n",
        "    def remove_mentions(self, input_text):\n",
        "        return re.sub(r'@\\w+', '', input_text)\n",
        "    \n",
        "    def remove_urls(self, input_text):\n",
        "        return re.sub(r'http.?://[^\\s]+[\\s]?', '', input_text)\n",
        "    \n",
        "    def emoji_oneword(self, input_text):\n",
        "        # By compressing the underscore, the emoji is kept as one word\n",
        "        return input_text.replace('_','')\n",
        "    \n",
        "    def remove_punctuation(self, input_text):\n",
        "        # Make translation table\n",
        "        punct = string.punctuation\n",
        "        trantab = str.maketrans(punct, len(punct)*' ')  # Every punctuation symbol will be replaced by a space\n",
        "        return input_text.translate(trantab)\n",
        "\n",
        "    def remove_digits(self, input_text):\n",
        "        return re.sub('\\d+', '', input_text)\n",
        "    \n",
        "    def to_lower(self, input_text):\n",
        "        return input_text.lower()\n",
        "    \n",
        "    def remove_stopwords(self, input_text):\n",
        "        stopwords_list = stopwords.words('english')\n",
        "        # Some words which might indicate a certain sentiment are kept via a whitelist\n",
        "        whitelist = [\"n't\", \"not\", \"no\"]\n",
        "        words = input_text.split() \n",
        "        clean_words = [word for word in words if (word not in stopwords_list or word in whitelist) and len(word) > 1] \n",
        "        return \" \".join(clean_words) \n",
        "    \n",
        "    def stemming(self, input_text):\n",
        "        porter = PorterStemmer()\n",
        "        words = input_text.split() \n",
        "        stemmed_words = [porter.stem(word) for word in words]\n",
        "        return \" \".join(stemmed_words)\n",
        "    \n",
        "    def fit(self, X, y=None, **fit_params):\n",
        "        return self\n",
        "    \n",
        "    def transform(self, X, **transform_params):\n",
        "        clean_X = X.apply(self.remove_mentions).apply(self.remove_urls).apply(self.emoji_oneword).apply(self.remove_punctuation).apply(self.remove_digits).apply(self.to_lower).apply(self.remove_stopwords).apply(self.stemming)\n",
        "        return clean_X"
      ],
      "execution_count": 0,
      "outputs": [
        {
          "output_type": "stream",
          "text": [
            "[nltk_data] Downloading package stopwords to /root/nltk_data...\n",
            "[nltk_data]   Unzipping corpora/stopwords.zip.\n"
          ],
          "name": "stdout"
        }
      ]
    },
    {
      "cell_type": "markdown",
      "metadata": {
        "id": "zDk3fUg7piXh",
        "colab_type": "text"
      },
      "source": [
        "To show how the cleaned text variable will look like, here's a sample."
      ]
    },
    {
      "cell_type": "code",
      "metadata": {
        "id": "5eGkuRATLGJj",
        "colab_type": "code",
        "outputId": "1752eda0-0dbc-4080-950a-c1b49c17dc95",
        "colab": {
          "base_uri": "https://localhost:8080/",
          "height": 136
        }
      },
      "source": [
        "ct = CleanText()\n",
        "sr_clean = ct.fit_transform(df.text)\n",
        "sr_clean.sample(5)"
      ],
      "execution_count": 0,
      "outputs": [
        {
          "output_type": "execute_result",
          "data": {
            "text/plain": [
              "tweet_id\n",
              "0x2cad92    shoot vega sad pray lh la vega lh shoot vega violenc    \n",
              "0x372564    uni skip class studi midterm lh                         \n",
              "0x1f3a0a    close sell lot eurusd pip total today pip lh lh lh lh lh\n",
              "0x2508e3    bore realli feel like move bore lh ohioproblem          \n",
              "0x242436    miss much lh wanna one 흥얼흥얼                             \n",
              "Name: text, dtype: object"
            ]
          },
          "metadata": {
            "tags": []
          },
          "execution_count": 28
        }
      ]
    },
    {
      "cell_type": "markdown",
      "metadata": {
        "id": "O7QNsSnBpw-g",
        "colab_type": "text"
      },
      "source": [
        "\n",
        "**NOTE:** One side-effect of text cleaning is that some rows do not have any words left in their text. For the CountVectorizer and TfIdfVectorizer this does not really pose a problem. However, for the Word2Vec algorithm this causes an error. There are different strategies that we could apply to deal with these missing values.\n",
        "\n",
        "Remove the complete row, but in a production environment this is not really desirable.\n",
        "Impute the missing value with some placeholder text like [no_text]\n",
        "Word2Vec: use the average of all vectors\n",
        "\n",
        "Here we will impute with a placeholder text."
      ]
    },
    {
      "cell_type": "code",
      "metadata": {
        "id": "0l1nlfF3s_b2",
        "colab_type": "code",
        "outputId": "c4902ef5-d102-45df-c071-6ec4b311d9d0",
        "colab": {
          "base_uri": "https://localhost:8080/",
          "height": 34
        }
      },
      "source": [
        "empty_clean = sr_clean == ''\n",
        "print('{} records have no words left after text cleaning'.format(sr_clean[empty_clean].count()))\n",
        "sr_clean.loc[empty_clean] = '[no_text]'"
      ],
      "execution_count": 0,
      "outputs": [
        {
          "output_type": "stream",
          "text": [
            "3 records have no words left after text cleaning\n"
          ],
          "name": "stdout"
        }
      ]
    },
    {
      "cell_type": "markdown",
      "metadata": {
        "id": "EYpYYiZLqajO",
        "colab_type": "text"
      },
      "source": [
        "Now that we have the cleaned text of the tweets, we can have a look at what are the most frequent words. Below we'll show the top 20 words.\n",
        "\n",
        "The most frequent word is \"love\" after \"lh\" wich is the tag that was not removed."
      ]
    },
    {
      "cell_type": "code",
      "metadata": {
        "id": "_1PykB7yoXMa",
        "colab_type": "code",
        "outputId": "8b5f191b-50ae-4ccb-bfac-9b9e7d50a61c",
        "colab": {
          "base_uri": "https://localhost:8080/",
          "height": 617
        }
      },
      "source": [
        "cv = CountVectorizer()\n",
        "bow = cv.fit_transform(sr_clean)\n",
        "word_freq = dict(zip(cv.get_feature_names(), np.asarray(bow.sum(axis=0)).ravel()))\n",
        "word_counter = collections.Counter(word_freq)\n",
        "word_counter_df = pd.DataFrame(word_counter.most_common(20), columns = ['word', 'freq'])\n",
        "\n",
        "fig, ax = plt.subplots(figsize=(12, 10))\n",
        "bar_freq_word = sns.barplot(x=\"word\", y=\"freq\", data=word_counter_df, palette=\"PuBuGn_d\", ax=ax)\n",
        "plt.show();"
      ],
      "execution_count": 0,
      "outputs": [
        {
          "output_type": "display_data",
          "data": {
            "image/png": "[encoded data removed]",
            "text/plain": [
              "<Figure size 864x720 with 1 Axes>"
            ]
          },
          "metadata": {
            "tags": []
          }
        }
      ]
    },
    {
      "cell_type": "markdown",
      "metadata": {
        "id": "-NhaGJ2qrPX_",
        "colab_type": "text"
      },
      "source": [
        "##Creating test data##"
      ]
    },
    {
      "cell_type": "markdown",
      "metadata": {
        "id": "ncSqJ1oKuPb2",
        "colab_type": "text"
      },
      "source": [
        "To evaluate the trained models we'll need a test set. Evaluating on the train data would not be correct because the models are trained to minimize their cost function.\n",
        "\n",
        "First we combine the TextCounts variables with the CleanText variable."
      ]
    },
    {
      "cell_type": "code",
      "metadata": {
        "id": "DC31o5pZoXGn",
        "colab_type": "code",
        "outputId": "821c6327-04fc-4d82-b7d5-bedc1a19dead",
        "colab": {
          "base_uri": "https://localhost:8080/",
          "height": 170
        }
      },
      "source": [
        "df_model = df_eda\n",
        "df_model['clean_text'] = sr_clean\n",
        "df_model.columns.tolist()"
      ],
      "execution_count": 0,
      "outputs": [
        {
          "output_type": "execute_result",
          "data": {
            "text/plain": [
              "['count_words',\n",
              " 'count_mentions',\n",
              " 'count_hashtags',\n",
              " 'count_capital_words',\n",
              " 'count_excl_quest_marks',\n",
              " 'count_urls',\n",
              " 'count_emojis',\n",
              " 'emotion',\n",
              " 'clean_text']"
            ]
          },
          "metadata": {
            "tags": []
          },
          "execution_count": 31
        }
      ]
    },
    {
      "cell_type": "markdown",
      "metadata": {
        "id": "rTA0CCF-ueqs",
        "colab_type": "text"
      },
      "source": [
        "So df_model now contains several variables. However, our vectorizers (see below) will only need the clean_text variable. The TextCounts variables can be added as such. To specifically select columns."
      ]
    },
    {
      "cell_type": "code",
      "metadata": {
        "id": "4HxXybKToZdk",
        "colab_type": "code",
        "colab": {}
      },
      "source": [
        "class ColumnExtractor(TransformerMixin, BaseEstimator):\n",
        "    def __init__(self, cols):\n",
        "        self.cols = cols\n",
        "\n",
        "    def transform(self, X, **transform_params):\n",
        "        return X[self.cols]\n",
        "\n",
        "    def fit(self, X, y=None, **fit_params):\n",
        "        return self"
      ],
      "execution_count": 0,
      "outputs": []
    },
    {
      "cell_type": "code",
      "metadata": {
        "id": "JjwpNyzWoW5a",
        "colab_type": "code",
        "colab": {}
      },
      "source": [
        "X_train, X_test, y_train, y_test = train_test_split(df_model.drop('emotion', axis=1), df_model.emotion, test_size=0.1, random_state=37)"
      ],
      "execution_count": 0,
      "outputs": []
    },
    {
      "cell_type": "code",
      "metadata": {
        "id": "9edaA-7c9K31",
        "colab_type": "code",
        "colab": {}
      },
      "source": [
        ""
      ],
      "execution_count": 0,
      "outputs": []
    },
    {
      "cell_type": "markdown",
      "metadata": {
        "id": "jM4o-9Azuvy7",
        "colab_type": "text"
      },
      "source": [
        "###Hyperparameter tuning and cross-validation###"
      ]
    },
    {
      "cell_type": "markdown",
      "metadata": {
        "id": "0HeKJ1MUuqbr",
        "colab_type": "text"
      },
      "source": [
        "As we will see below, the vectorizers and classifiers all have configurable parameters. In order to chose the best parameters, we need to evaluate on a separate validation set that was not used during the training. However, using only one validation set may not produce reliable validation results. Due to chance you might have a good model performance on the validation set. If you would split the data otherwise, you might end up with other results. To get a more accurate estimation, we perform cross-validation.\n",
        "\n",
        "With cross-validation the data is split into a train and validation set multiple times. The evaluation metric is then averaged over the different folds. Luckily, GridSearchCV applies cross-validation out-of-the-box.\n",
        "\n",
        "To find the best parameters for both a vectorizer and classifier, we create a Pipeline. All this is put into a function for ease of use."
      ]
    },
    {
      "cell_type": "markdown",
      "metadata": {
        "id": "GEPZdAtNu7iL",
        "colab_type": "text"
      },
      "source": [
        "###Evaluation metrics###\n",
        "By default GridSearchCV uses the default scorer to compute the bestscore. For both the MultiNomialNb and LogisticRegression this default scoring metric is the accuracy.\n",
        "\n",
        "In our function grid_vect we additionally generate the classification_report on the test data. This provides some interesting metrics per target class, which might be more appropriate here. These metrics are the precision, recal and F1 score.\n",
        "\n",
        "- **Precision**: Of all rows we predicted to be a certain class, how many did we correctly predict?\n",
        "- **Recall**: Of all rows of a certain class, how many did we correctly predict?\n",
        "- **F1 score**: Harmonic mean of Precision and Recall.\n",
        "Precision and Recall can be calculated with the elements of the confusion matrix"
      ]
    },
    {
      "cell_type": "code",
      "metadata": {
        "id": "okuEysdfrhtV",
        "colab_type": "code",
        "colab": {}
      },
      "source": [
        "# Based on http://scikit-learn.org/stable/auto_examples/model_selection/grid_search_text_feature_extraction.html\n",
        "def grid_vect(clf, parameters_clf, X_train, X_test, parameters_text=None, vect=None, is_w2v=False):\n",
        "    \n",
        "    textcountscols = ['count_capital_words','count_emojis','count_excl_quest_marks','count_hashtags'\n",
        "                      ,'count_mentions','count_urls','count_words']\n",
        "    \n",
        "    if is_w2v:\n",
        "        w2vcols = []\n",
        "        for i in range(SIZE):\n",
        "            w2vcols.append(i)\n",
        "        features = FeatureUnion([('textcounts', ColumnExtractor(cols=textcountscols))\n",
        "                                 , ('w2v', ColumnExtractor(cols=w2vcols))]\n",
        "                                , n_jobs=-1)\n",
        "    else:\n",
        "        features = FeatureUnion([('textcounts', ColumnExtractor(cols=textcountscols))\n",
        "                                 , ('pipe', Pipeline([('cleantext', ColumnExtractor(cols='clean_text')), ('vect', vect)]))]\n",
        "                                , n_jobs=-1)\n",
        "\n",
        "    \n",
        "    pipeline = Pipeline([\n",
        "        ('features', features)\n",
        "        , ('clf', clf)\n",
        "    ])\n",
        "    \n",
        "    # Join the parameters dictionaries together\n",
        "    parameters = dict()\n",
        "    if parameters_text:\n",
        "        parameters.update(parameters_text)\n",
        "    parameters.update(parameters_clf)\n",
        "\n",
        "    # Make sure you have scikit-learn version 0.19 or higher to use multiple scoring metrics\n",
        "    grid_search = GridSearchCV(pipeline, parameters, n_jobs=-1, verbose=1, cv=5)\n",
        "    \n",
        "    print(\"Performing grid search...\")\n",
        "    print(\"pipeline:\", [name for name, _ in pipeline.steps])\n",
        "    print(\"parameters:\")\n",
        "    pprint(parameters)\n",
        "\n",
        "    t0 = time()\n",
        "    grid_search.fit(X_train, y_train)\n",
        "    print(\"done in %0.3fs\" % (time() - t0))\n",
        "    print()\n",
        "\n",
        "    print(\"Best CV score: %0.3f\" % grid_search.best_score_)\n",
        "    print(\"Best parameters set:\")\n",
        "    best_parameters = grid_search.best_estimator_.get_params()\n",
        "    for param_name in sorted(parameters.keys()):\n",
        "        print(\"\\t%s: %r\" % (param_name, best_parameters[param_name]))\n",
        "        \n",
        "    print(\"Test score with best_estimator_: %0.3f\" % grid_search.best_estimator_.score(X_test, y_test))\n",
        "    print(\"\\n\")\n",
        "    print(\"Classification Report Test Data\")\n",
        "    print(classification_report(y_test, grid_search.best_estimator_.predict(X_test)))\n",
        "                        \n",
        "    return grid_search"
      ],
      "execution_count": 0,
      "outputs": []
    },
    {
      "cell_type": "markdown",
      "metadata": {
        "id": "0iboLTGsvR5W",
        "colab_type": "text"
      },
      "source": [
        "###Parameter grids for GridSearchCV###"
      ]
    },
    {
      "cell_type": "code",
      "metadata": {
        "id": "stEkw8bFrh8D",
        "colab_type": "code",
        "colab": {}
      },
      "source": [
        "# Parameter grid settings for the vectorizers (Count and TFIDF)\n",
        "parameters_vect = {\n",
        "    'features__pipe__vect__max_df': (0.25, 0.5, 0.75),\n",
        "    'features__pipe__vect__ngram_range': ((1, 1), (1, 2)),\n",
        "    'features__pipe__vect__min_df': (1,2)\n",
        "}\n",
        "\n",
        "\n",
        "# Parameter grid settings for MultinomialNB\n",
        "parameters_mnb = {\n",
        "    'clf__alpha': (0.25, 0.5, 0.75)\n",
        "}\n",
        "\n",
        "\n",
        "# Parameter grid settings for LogisticRegression\n",
        "parameters_logreg = {\n",
        "    'clf__C': (0.25, 0.5, 1.0),\n",
        "    'clf__penalty': ('l1', 'l2')\n",
        "}"
      ],
      "execution_count": 0,
      "outputs": []
    },
    {
      "cell_type": "markdown",
      "metadata": {
        "id": "8bYgy_2_vY-M",
        "colab_type": "text"
      },
      "source": [
        "##Classifiers##"
      ]
    },
    {
      "cell_type": "markdown",
      "metadata": {
        "id": "4fdhl5HjvrT2",
        "colab_type": "text"
      },
      "source": [
        "Here we will compare the performance of a MultinomailNB and LogisticRegression."
      ]
    },
    {
      "cell_type": "code",
      "metadata": {
        "id": "ehzVp-tQriEf",
        "colab_type": "code",
        "colab": {}
      },
      "source": [
        "mnb = MultinomialNB()\n",
        "logreg = LogisticRegression()"
      ],
      "execution_count": 0,
      "outputs": []
    },
    {
      "cell_type": "markdown",
      "metadata": {
        "id": "yU98cevWvvtG",
        "colab_type": "text"
      },
      "source": [
        "###CountVectorizer###"
      ]
    },
    {
      "cell_type": "markdown",
      "metadata": {
        "id": "jItau813v7go",
        "colab_type": "text"
      },
      "source": [
        "To use words in a classifier, we need to convert the words to numbers. This can be done with a **CountVectorizer**. Sklearn's CountVectorizer takes all words in all tweets, assigns an ID and counts the frequency of the word per tweet. This bag of words can then be used as input for a classifier. It is what is called a **sparse** data set, meaning that each record will have many zeroes for the words not occurring in the tweet."
      ]
    },
    {
      "cell_type": "code",
      "metadata": {
        "id": "7f104pKkriMe",
        "colab_type": "code",
        "colab": {}
      },
      "source": [
        "countvect = CountVectorizer()"
      ],
      "execution_count": 0,
      "outputs": []
    },
    {
      "cell_type": "code",
      "metadata": {
        "id": "IS9s3ZscriZd",
        "colab_type": "code",
        "outputId": "41ea65bc-7547-4691-84c3-a4722910ce42",
        "colab": {
          "base_uri": "https://localhost:8080/",
          "height": 697
        }
      },
      "source": [
        "# MultinomialNB\n",
        "best_mnb_countvect = grid_vect(mnb, parameters_mnb, X_train, X_test, parameters_text=parameters_vect, vect=countvect)\n",
        "if not KAGGLE_ENV: joblib.dump(best_mnb_countvect, './output/best_mnb_countvect.pkl')"
      ],
      "execution_count": 0,
      "outputs": [
        {
          "output_type": "stream",
          "text": [
            "Performing grid search...\n",
            "pipeline: ['features', 'clf']\n",
            "parameters:\n",
            "{'clf__alpha': (0.25, 0.5, 0.75),\n",
            " 'features__pipe__vect__max_df': (0.25, 0.5, 0.75),\n",
            " 'features__pipe__vect__min_df': (1, 2),\n",
            " 'features__pipe__vect__ngram_range': ((1, 1), (1, 2))}\n",
            "Fitting 5 folds for each of 36 candidates, totalling 180 fits\n"
          ],
          "name": "stdout"
        },
        {
          "output_type": "stream",
          "text": [
            "[Parallel(n_jobs=-1)]: Using backend LokyBackend with 4 concurrent workers.\n",
            "/usr/local/lib/python3.6/dist-packages/joblib/externals/loky/process_executor.py:706: UserWarning: A worker stopped while some jobs were given to the executor. This can be caused by a too short worker timeout or by a memory leak.\n",
            "  \"timeout or by a memory leak.\", UserWarning\n",
            "[Parallel(n_jobs=-1)]: Done  42 tasks      | elapsed: 12.7min\n",
            "[Parallel(n_jobs=-1)]: Done 180 out of 180 | elapsed: 54.2min finished\n"
          ],
          "name": "stderr"
        },
        {
          "output_type": "stream",
          "text": [
            "done in 3423.500s\n",
            "\n",
            "Best CV score: 0.541\n",
            "Best parameters set:\n",
            "\tclf__alpha: 0.25\n",
            "\tfeatures__pipe__vect__max_df: 0.25\n",
            "\tfeatures__pipe__vect__min_df: 1\n",
            "\tfeatures__pipe__vect__ngram_range: (1, 2)\n",
            "Test score with best_estimator_: 0.544\n",
            "\n",
            "\n",
            "Classification Report Test Data\n",
            "              precision    recall  f1-score   support\n",
            "\n",
            "       anger       0.93      0.10      0.19      3928\n",
            "anticipation       0.60      0.58      0.59     25019\n",
            "     disgust       0.47      0.38      0.42     13992\n",
            "        fear       0.85      0.27      0.40      6441\n",
            "         joy       0.56      0.77      0.65     51543\n",
            "     sadness       0.44      0.52      0.48     19403\n",
            "    surprise       0.89      0.13      0.23      4709\n",
            "       trust       0.52      0.32      0.40     20522\n",
            "\n",
            "    accuracy                           0.54    145557\n",
            "   macro avg       0.66      0.39      0.42    145557\n",
            "weighted avg       0.57      0.54      0.52    145557\n",
            "\n"
          ],
          "name": "stdout"
        }
      ]
    },
    {
      "cell_type": "code",
      "metadata": {
        "id": "tZw8obaswOTF",
        "colab_type": "code",
        "colab": {}
      },
      "source": [
        "# LogisticRegression\n",
        "best_logreg_countvect = grid_vect(logreg, parameters_logreg, X_train, X_test, parameters_text=parameters_vect, vect=countvect)\n",
        "if not KAGGLE_ENV: joblib.dump(best_logreg_countvect, './output/best_logreg_countvect.pkl')"
      ],
      "execution_count": 0,
      "outputs": []
    },
    {
      "cell_type": "markdown",
      "metadata": {
        "id": "pfg96fsWwVNQ",
        "colab_type": "text"
      },
      "source": [
        "###TF-IDF###"
      ]
    },
    {
      "cell_type": "markdown",
      "metadata": {
        "id": "z9fUg-eEwbd_",
        "colab_type": "text"
      },
      "source": [
        "One issue with CountVectorizer is that there might be words that occur frequently in observations of the target classes. These words do not have discriminatory information and can be removed. TF-IDF (term frequency - inverse document frequency) can be used to downweight these frequent words."
      ]
    },
    {
      "cell_type": "code",
      "metadata": {
        "id": "sviozxJIwXpz",
        "colab_type": "code",
        "colab": {}
      },
      "source": [
        "tfidfvect = TfidfVectorizer()"
      ],
      "execution_count": 0,
      "outputs": []
    },
    {
      "cell_type": "code",
      "metadata": {
        "id": "sKiM8OCAwf-I",
        "colab_type": "code",
        "colab": {}
      },
      "source": [
        "# MultinomialNB\n",
        "best_mnb_tfidf = grid_vect(mnb, parameters_mnb, X_train, X_test, parameters_text=parameters_vect, vect=tfidfvect)\n",
        "if not KAGGLE_ENV: joblib.dump(best_mnb_tfidf, './output/best_mnb_tfidf.pkl')"
      ],
      "execution_count": 0,
      "outputs": []
    },
    {
      "cell_type": "code",
      "metadata": {
        "id": "ZzLKO6yYyR7I",
        "colab_type": "code",
        "colab": {}
      },
      "source": [
        "# LogisticRegression\n",
        "best_logreg_tfidf = grid_vect(logreg, parameters_logreg, X_train, X_test, parameters_text=parameters_vect, vect=tfidfvect)\n",
        "if not KAGGLE_ENV: joblib.dump(best_logreg_tfidf, './output/best_logreg_tfidf.pkl')"
      ],
      "execution_count": 0,
      "outputs": []
    },
    {
      "cell_type": "markdown",
      "metadata": {
        "id": "_W1qJ1JqyiZp",
        "colab_type": "text"
      },
      "source": [
        "###Apply the best model on new tweets###"
      ]
    },
    {
      "cell_type": "markdown",
      "metadata": {
        "id": "aMAkp_Xey8AO",
        "colab_type": "text"
      },
      "source": [
        "After running the grid search we can train our model with the best found parameters"
      ]
    },
    {
      "cell_type": "code",
      "metadata": {
        "id": "nwZsaNLBy9Bm",
        "colab_type": "code",
        "colab": {}
      },
      "source": [
        "textcountscols = ['count_capital_words','count_emojis','count_excl_quest_marks','count_hashtags'\n",
        "                      ,'count_mentions','count_urls','count_words']\n",
        "    \n",
        "features = FeatureUnion([('textcounts', ColumnExtractor(cols=textcountscols))\n",
        "                         , ('pipe', Pipeline([('cleantext', ColumnExtractor(cols='clean_text'))\n",
        "                                              , ('vect', CountVectorizer(max_df=0.5, min_df=1, ngram_range=(1,2)))]))]\n",
        "                       , n_jobs=-1)\n",
        "\n",
        "pipeline = Pipeline([\n",
        "    ('features', features)\n",
        "    , ('clf', LogisticRegression(C=1.0, penalty='l2'))\n",
        "])\n",
        "\n",
        "best_model = pipeline.fit(df_model.drop('emotion', axis=1), df_model.aemotion)"
      ],
      "execution_count": 0,
      "outputs": []
    },
    {
      "cell_type": "markdown",
      "metadata": {
        "id": "2CEffaynzxgR",
        "colab_type": "text"
      },
      "source": [
        "**NOTE:** In this particular notebook I did not run all cells due to time contraints wen working in google colab, however I run the grid search in another notebook when working with the homework and obtained the most suitable parameters. \n",
        "\n",
        "An accuracy of 45.3% was obtained on the leaderboard using CountVectorizer with MultinomailNB model, and an accuracy of 46.11 % was obtained on the leaderboard when using CountVectorizer with LogisticRegression model."
      ]
    }
  ]
}