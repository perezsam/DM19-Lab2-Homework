{
  "nbformat": 4,
  "nbformat_minor": 0,
  "metadata": {
    "colab": {
      "name": "simple_text_preprocessing_TweetTokenizer.ipynb",
      "provenance": [],
      "include_colab_link": true
    },
    "kernelspec": {
      "name": "python3",
      "display_name": "Python 3"
    },
    "accelerator": "GPU"
  },
  "cells": [
    {
      "cell_type": "markdown",
      "metadata": {
        "id": "view-in-github",
        "colab_type": "text"
      },
      "source": [
        "<a href=\"https://colab.research.google.com/github/perezsam/DM19-Lab2-Homework/blob/master/simple_text_preprocessing_TweetTokenizer.ipynb\" target=\"_parent\"><img src=\"https://colab.research.google.com/assets/colab-badge.svg\" alt=\"Open In Colab\"/></a>"
      ]
    },
    {
      "cell_type": "markdown",
      "metadata": {
        "id": "k1USVRza86Qc",
        "colab_type": "text"
      },
      "source": [
        "## Load raw data from Kaggle ##"
      ]
    },
    {
      "cell_type": "code",
      "metadata": {
        "id": "N3DU7of7fFZp",
        "colab_type": "code",
        "colab": {}
      },
      "source": [
        "# Run this cell and select the kaggle.json file downloaded\n",
        "# from the Kaggle account settings page.\n",
        "from google.colab import files\n",
        "files.upload()"
      ],
      "execution_count": 0,
      "outputs": []
    },
    {
      "cell_type": "code",
      "metadata": {
        "id": "8mcbLFU-fIZW",
        "colab_type": "code",
        "outputId": "06126736-46c6-4eb1-e5ac-6e8ae510fc78",
        "colab": {
          "base_uri": "https://localhost:8080/",
          "height": 34
        }
      },
      "source": [
        "# Let's make sure the kaggle.json file is present.\n",
        "!ls -lha kaggle.json"
      ],
      "execution_count": 0,
      "outputs": [
        {
          "output_type": "stream",
          "text": [
            "-rw-r--r-- 1 root root 64 Dec 19 14:26 kaggle.json\n"
          ],
          "name": "stdout"
        }
      ]
    },
    {
      "cell_type": "code",
      "metadata": {
        "id": "QqGDTnF6fMDp",
        "colab_type": "code",
        "colab": {}
      },
      "source": [
        "# Next, install the Kaggle API client.\n",
        "!pip install -q kaggle"
      ],
      "execution_count": 0,
      "outputs": []
    },
    {
      "cell_type": "code",
      "metadata": {
        "id": "VbUBAWEnfOWp",
        "colab_type": "code",
        "colab": {}
      },
      "source": [
        "# The Kaggle API client expects this file to be in ~/.kaggle,\n",
        "# so move it there.\n",
        "!mkdir -p ~/.kaggle\n",
        "!cp kaggle.json ~/.kaggle/\n",
        "\n",
        "# This permissions change avoids a warning on Kaggle tool startup.\n",
        "!chmod 600 ~/.kaggle/kaggle.json"
      ],
      "execution_count": 0,
      "outputs": []
    },
    {
      "cell_type": "code",
      "metadata": {
        "id": "yEN8S-jsfU-O",
        "colab_type": "code",
        "colab": {}
      },
      "source": [
        "!mkdir data"
      ],
      "execution_count": 0,
      "outputs": []
    },
    {
      "cell_type": "code",
      "metadata": {
        "id": "5aFFf1lEfYqe",
        "colab_type": "code",
        "outputId": "706972dd-7561-411a-ebf3-629aff8f7365",
        "colab": {
          "base_uri": "https://localhost:8080/",
          "height": 34
        }
      },
      "source": [
        "cd data"
      ],
      "execution_count": 0,
      "outputs": [
        {
          "output_type": "stream",
          "text": [
            "/content/data\n"
          ],
          "name": "stdout"
        }
      ]
    },
    {
      "cell_type": "code",
      "metadata": {
        "id": "KWAFGl4cfTt7",
        "colab_type": "code",
        "outputId": "cf9b76af-4d0a-4fd8-e300-0cd6ff990b85",
        "colab": {
          "base_uri": "https://localhost:8080/",
          "height": 68
        }
      },
      "source": [
        "# Copy the private data set locally.\n",
        "!kaggle datasets download -d cssamuel/dmlab2"
      ],
      "execution_count": 0,
      "outputs": [
        {
          "output_type": "stream",
          "text": [
            "Downloading dmlab2.zip to /content/data\n",
            " 99% 148M/149M [00:04<00:00, 20.4MB/s]\n",
            "100% 149M/149M [00:04<00:00, 32.1MB/s]\n"
          ],
          "name": "stdout"
        }
      ]
    },
    {
      "cell_type": "code",
      "metadata": {
        "id": "7smvIRXjfmJA",
        "colab_type": "code",
        "outputId": "74f62abb-3551-4c18-ca1c-fe7389060c8b",
        "colab": {
          "base_uri": "https://localhost:8080/",
          "height": 102
        }
      },
      "source": [
        "!unzip dmlab2.zip"
      ],
      "execution_count": 0,
      "outputs": [
        {
          "output_type": "stream",
          "text": [
            "Archive:  dmlab2.zip\n",
            "  inflating: data_identification.csv  \n",
            "  inflating: emotion.csv             \n",
            "  inflating: sampleSubmission.csv    \n",
            "  inflating: tweets_DM.json          \n"
          ],
          "name": "stdout"
        }
      ]
    },
    {
      "cell_type": "code",
      "metadata": {
        "id": "OsVsfXt7ftOb",
        "colab_type": "code",
        "outputId": "8c59b398-d07d-46aa-ac8e-3f5e607a18ed",
        "colab": {
          "base_uri": "https://localhost:8080/",
          "height": 34
        }
      },
      "source": [
        "cd .."
      ],
      "execution_count": 0,
      "outputs": [
        {
          "output_type": "stream",
          "text": [
            "/content\n"
          ],
          "name": "stdout"
        }
      ]
    },
    {
      "cell_type": "code",
      "metadata": {
        "id": "NEjV-XKRfvwH",
        "colab_type": "code",
        "outputId": "f5949c68-b1cd-4568-fcbb-b51038e0fb44",
        "colab": {
          "base_uri": "https://localhost:8080/",
          "height": 80
        }
      },
      "source": [
        "import pandas as pd\n",
        "import numpy as np\n",
        "import matplotlib.pyplot as plt\n",
        "import seaborn as sns\n",
        "import keras\n",
        "from sklearn import metrics\n",
        "from sklearn.preprocessing import LabelEncoder,OneHotEncoder\n",
        "from keras.models import Model\n",
        "from keras.layers import LSTM, Activation, Dense, Dropout, Input, Embedding\n",
        "from keras.optimizers import RMSprop\n",
        "from keras.preprocessing.text import Tokenizer\n",
        "from keras.preprocessing import sequence\n",
        "from keras.callbacks import EarlyStopping\n",
        "\n",
        "import json\n",
        "from pandas.io.json import json_normalize"
      ],
      "execution_count": 0,
      "outputs": [
        {
          "output_type": "stream",
          "text": [
            "Using TensorFlow backend.\n"
          ],
          "name": "stderr"
        },
        {
          "output_type": "display_data",
          "data": {
            "text/html": [
              "<p style=\"color: red;\">\n",
              "The default version of TensorFlow in Colab will soon switch to TensorFlow 2.x.<br>\n",
              "We recommend you <a href=\"https://www.tensorflow.org/guide/migrate\" target=\"_blank\">upgrade</a> now \n",
              "or ensure your notebook will continue to use TensorFlow 1.x via the <code>%tensorflow_version 1.x</code> magic:\n",
              "<a href=\"https://colab.research.google.com/notebooks/tensorflow_version.ipynb\" target=\"_blank\">more info</a>.</p>\n"
            ],
            "text/plain": [
              "<IPython.core.display.HTML object>"
            ]
          },
          "metadata": {
            "tags": []
          }
        }
      ]
    },
    {
      "cell_type": "code",
      "metadata": {
        "id": "Lde0r7Qff7SR",
        "colab_type": "code",
        "colab": {}
      },
      "source": [
        "# read data files\n",
        "raw_data=pd.read_json(\"./data/tweets_DM.json\",lines=True)\n",
        "tweets=json_normalize(data=raw_data['_source'])\n",
        "identify=pd.read_csv(\"./data/data_identification.csv\")\n",
        "emotion=pd.read_csv(\"./data/emotion.csv\")"
      ],
      "execution_count": 0,
      "outputs": []
    },
    {
      "cell_type": "code",
      "metadata": {
        "id": "38Pjr7o3f_Lb",
        "colab_type": "code",
        "outputId": "dcac1e42-dc83-4ea1-86d4-cd24c52cab6a",
        "colab": {
          "base_uri": "https://localhost:8080/",
          "height": 102
        }
      },
      "source": [
        "# rename column names\n",
        "tweets=tweets.rename(index=str,columns={\"tweet.text\":\"text\", \"tweet.tweet_id\":\"tweet_id\",\n",
        "                                       \"tweet.hashtags\":\"hashtags\"})\n",
        "# add identify tags to dataframe\n",
        "tweets=pd.merge(tweets,identify, on=\"tweet_id\")\n",
        "\n",
        "#get training set and test set\n",
        "train_df=tweets[tweets[\"identification\"] == \"train\"]\n",
        "test_df=tweets[tweets[\"identification\"] == \"test\"]\n",
        "\n",
        "#add emotion column\n",
        "train_df=pd.merge(train_df,emotion, on=\"tweet_id\")\n",
        "#test_df[\"emotion\"]=\"\"\n",
        "\n",
        "#drop identification tags\n",
        "train_df.drop(columns=[\"identification\"],inplace=True)\n",
        "test_df.drop(columns=[\"identification\"],inplace=True)\n",
        "\n",
        "#use tweet_id as index\n",
        "#train_df.set_index(\"tweet_id\",inplace=True)\n",
        "#test_df.set_index(\"tweet_id\",inplace=True)"
      ],
      "execution_count": 0,
      "outputs": [
        {
          "output_type": "stream",
          "text": [
            "/usr/local/lib/python3.6/dist-packages/pandas/core/frame.py:4117: SettingWithCopyWarning: \n",
            "A value is trying to be set on a copy of a slice from a DataFrame\n",
            "\n",
            "See the caveats in the documentation: http://pandas.pydata.org/pandas-docs/stable/user_guide/indexing.html#returning-a-view-versus-a-copy\n",
            "  errors=errors,\n"
          ],
          "name": "stderr"
        }
      ]
    },
    {
      "cell_type": "code",
      "metadata": {
        "id": "jdlEnUn0gJlJ",
        "colab_type": "code",
        "outputId": "4b601210-050b-4d2f-b047-b6d0183cf00d",
        "colab": {
          "base_uri": "https://localhost:8080/",
          "height": 419
        }
      },
      "source": [
        "train_df"
      ],
      "execution_count": 0,
      "outputs": [
        {
          "output_type": "execute_result",
          "data": {
            "text/html": [
              "<div>\n",
              "<style scoped>\n",
              "    .dataframe tbody tr th:only-of-type {\n",
              "        vertical-align: middle;\n",
              "    }\n",
              "\n",
              "    .dataframe tbody tr th {\n",
              "        vertical-align: top;\n",
              "    }\n",
              "\n",
              "    .dataframe thead th {\n",
              "        text-align: right;\n",
              "    }\n",
              "</style>\n",
              "<table border=\"1\" class=\"dataframe\">\n",
              "  <thead>\n",
              "    <tr style=\"text-align: right;\">\n",
              "      <th></th>\n",
              "      <th>hashtags</th>\n",
              "      <th>tweet_id</th>\n",
              "      <th>text</th>\n",
              "      <th>emotion</th>\n",
              "    </tr>\n",
              "  </thead>\n",
              "  <tbody>\n",
              "    <tr>\n",
              "      <th>0</th>\n",
              "      <td>[Snapchat]</td>\n",
              "      <td>0x376b20</td>\n",
              "      <td>People who post \"add me on #Snapchat\" must be ...</td>\n",
              "      <td>anticipation</td>\n",
              "    </tr>\n",
              "    <tr>\n",
              "      <th>1</th>\n",
              "      <td>[freepress, TrumpLegacy, CNN]</td>\n",
              "      <td>0x2d5350</td>\n",
              "      <td>@brianklaas As we see, Trump is dangerous to #...</td>\n",
              "      <td>sadness</td>\n",
              "    </tr>\n",
              "    <tr>\n",
              "      <th>2</th>\n",
              "      <td>[]</td>\n",
              "      <td>0x1cd5b0</td>\n",
              "      <td>Now ISSA is stalking Tasha 😂😂😂 &lt;LH&gt;</td>\n",
              "      <td>fear</td>\n",
              "    </tr>\n",
              "    <tr>\n",
              "      <th>3</th>\n",
              "      <td>[authentic, LaughOutLoud]</td>\n",
              "      <td>0x1d755c</td>\n",
              "      <td>@RISKshow @TheKevinAllison Thx for the BEST TI...</td>\n",
              "      <td>joy</td>\n",
              "    </tr>\n",
              "    <tr>\n",
              "      <th>4</th>\n",
              "      <td>[]</td>\n",
              "      <td>0x2c91a8</td>\n",
              "      <td>Still waiting on those supplies Liscus. &lt;LH&gt;</td>\n",
              "      <td>anticipation</td>\n",
              "    </tr>\n",
              "    <tr>\n",
              "      <th>...</th>\n",
              "      <td>...</td>\n",
              "      <td>...</td>\n",
              "      <td>...</td>\n",
              "      <td>...</td>\n",
              "    </tr>\n",
              "    <tr>\n",
              "      <th>1455558</th>\n",
              "      <td>[NoWonder, Happy]</td>\n",
              "      <td>0x321566</td>\n",
              "      <td>I'm SO HAPPY!!! #NoWonder the name of this sho...</td>\n",
              "      <td>joy</td>\n",
              "    </tr>\n",
              "    <tr>\n",
              "      <th>1455559</th>\n",
              "      <td>[]</td>\n",
              "      <td>0x38959e</td>\n",
              "      <td>In every circumtance I'd like to be thankful t...</td>\n",
              "      <td>joy</td>\n",
              "    </tr>\n",
              "    <tr>\n",
              "      <th>1455560</th>\n",
              "      <td>[blessyou]</td>\n",
              "      <td>0x2cbca6</td>\n",
              "      <td>there's currently two girls walking around the...</td>\n",
              "      <td>joy</td>\n",
              "    </tr>\n",
              "    <tr>\n",
              "      <th>1455561</th>\n",
              "      <td>[]</td>\n",
              "      <td>0x24faed</td>\n",
              "      <td>Ah, corporate life, where you can date &lt;LH&gt; us...</td>\n",
              "      <td>joy</td>\n",
              "    </tr>\n",
              "    <tr>\n",
              "      <th>1455562</th>\n",
              "      <td>[Sundayvibes]</td>\n",
              "      <td>0x34be8c</td>\n",
              "      <td>Blessed to be living #Sundayvibes &lt;LH&gt;</td>\n",
              "      <td>joy</td>\n",
              "    </tr>\n",
              "  </tbody>\n",
              "</table>\n",
              "<p>1455563 rows × 4 columns</p>\n",
              "</div>"
            ],
            "text/plain": [
              "                              hashtags  ...       emotion\n",
              "0                           [Snapchat]  ...  anticipation\n",
              "1        [freepress, TrumpLegacy, CNN]  ...       sadness\n",
              "2                                   []  ...          fear\n",
              "3            [authentic, LaughOutLoud]  ...           joy\n",
              "4                                   []  ...  anticipation\n",
              "...                                ...  ...           ...\n",
              "1455558              [NoWonder, Happy]  ...           joy\n",
              "1455559                             []  ...           joy\n",
              "1455560                     [blessyou]  ...           joy\n",
              "1455561                             []  ...           joy\n",
              "1455562                  [Sundayvibes]  ...           joy\n",
              "\n",
              "[1455563 rows x 4 columns]"
            ]
          },
          "metadata": {
            "tags": []
          },
          "execution_count": 48
        }
      ]
    },
    {
      "cell_type": "code",
      "metadata": {
        "id": "NinmOyNukEXr",
        "colab_type": "code",
        "outputId": "ea70b906-bd72-419a-ffb5-44f3e6bb34ef",
        "colab": {
          "base_uri": "https://localhost:8080/",
          "height": 419
        }
      },
      "source": [
        "test_df"
      ],
      "execution_count": 0,
      "outputs": [
        {
          "output_type": "execute_result",
          "data": {
            "text/html": [
              "<div>\n",
              "<style scoped>\n",
              "    .dataframe tbody tr th:only-of-type {\n",
              "        vertical-align: middle;\n",
              "    }\n",
              "\n",
              "    .dataframe tbody tr th {\n",
              "        vertical-align: top;\n",
              "    }\n",
              "\n",
              "    .dataframe thead th {\n",
              "        text-align: right;\n",
              "    }\n",
              "</style>\n",
              "<table border=\"1\" class=\"dataframe\">\n",
              "  <thead>\n",
              "    <tr style=\"text-align: right;\">\n",
              "      <th></th>\n",
              "      <th>hashtags</th>\n",
              "      <th>tweet_id</th>\n",
              "      <th>text</th>\n",
              "    </tr>\n",
              "  </thead>\n",
              "  <tbody>\n",
              "    <tr>\n",
              "      <th>2</th>\n",
              "      <td>[bibleverse]</td>\n",
              "      <td>0x28b412</td>\n",
              "      <td>Confident of your obedience, I write to you, k...</td>\n",
              "    </tr>\n",
              "    <tr>\n",
              "      <th>4</th>\n",
              "      <td>[]</td>\n",
              "      <td>0x2de201</td>\n",
              "      <td>\"Trust is not the same as faith. A friend is s...</td>\n",
              "    </tr>\n",
              "    <tr>\n",
              "      <th>9</th>\n",
              "      <td>[materialism, money, possessions]</td>\n",
              "      <td>0x218443</td>\n",
              "      <td>When do you have enough ? When are you satisfi...</td>\n",
              "    </tr>\n",
              "    <tr>\n",
              "      <th>30</th>\n",
              "      <td>[GodsPlan, GodsWork]</td>\n",
              "      <td>0x2939d5</td>\n",
              "      <td>God woke you up, now chase the day #GodsPlan #...</td>\n",
              "    </tr>\n",
              "    <tr>\n",
              "      <th>33</th>\n",
              "      <td>[]</td>\n",
              "      <td>0x26289a</td>\n",
              "      <td>In these tough times, who do YOU turn to as yo...</td>\n",
              "    </tr>\n",
              "    <tr>\n",
              "      <th>...</th>\n",
              "      <td>...</td>\n",
              "      <td>...</td>\n",
              "      <td>...</td>\n",
              "    </tr>\n",
              "    <tr>\n",
              "      <th>1867525</th>\n",
              "      <td>[]</td>\n",
              "      <td>0x2913b4</td>\n",
              "      <td>\"For this is the message that ye heard from th...</td>\n",
              "    </tr>\n",
              "    <tr>\n",
              "      <th>1867529</th>\n",
              "      <td>[]</td>\n",
              "      <td>0x2a980e</td>\n",
              "      <td>\"There is a lad here, which hath five barley l...</td>\n",
              "    </tr>\n",
              "    <tr>\n",
              "      <th>1867530</th>\n",
              "      <td>[mixedfeeling, butimTHATperson]</td>\n",
              "      <td>0x316b80</td>\n",
              "      <td>When you buy the last 2 tickets remaining for ...</td>\n",
              "    </tr>\n",
              "    <tr>\n",
              "      <th>1867531</th>\n",
              "      <td>[]</td>\n",
              "      <td>0x29d0cb</td>\n",
              "      <td>I swear all this hard work gone pay off one da...</td>\n",
              "    </tr>\n",
              "    <tr>\n",
              "      <th>1867532</th>\n",
              "      <td>[]</td>\n",
              "      <td>0x2a6a4f</td>\n",
              "      <td>@Parcel2Go no card left when I wasn't in so I ...</td>\n",
              "    </tr>\n",
              "  </tbody>\n",
              "</table>\n",
              "<p>411972 rows × 3 columns</p>\n",
              "</div>"
            ],
            "text/plain": [
              "                                  hashtags  ...                                               text\n",
              "2                             [bibleverse]  ...  Confident of your obedience, I write to you, k...\n",
              "4                                       []  ...  \"Trust is not the same as faith. A friend is s...\n",
              "9        [materialism, money, possessions]  ...  When do you have enough ? When are you satisfi...\n",
              "30                    [GodsPlan, GodsWork]  ...  God woke you up, now chase the day #GodsPlan #...\n",
              "33                                      []  ...  In these tough times, who do YOU turn to as yo...\n",
              "...                                    ...  ...                                                ...\n",
              "1867525                                 []  ...  \"For this is the message that ye heard from th...\n",
              "1867529                                 []  ...  \"There is a lad here, which hath five barley l...\n",
              "1867530    [mixedfeeling, butimTHATperson]  ...  When you buy the last 2 tickets remaining for ...\n",
              "1867531                                 []  ...  I swear all this hard work gone pay off one da...\n",
              "1867532                                 []  ...  @Parcel2Go no card left when I wasn't in so I ...\n",
              "\n",
              "[411972 rows x 3 columns]"
            ]
          },
          "metadata": {
            "tags": []
          },
          "execution_count": 49
        }
      ]
    },
    {
      "cell_type": "code",
      "metadata": {
        "id": "ykKWev3sl2QD",
        "colab_type": "code",
        "outputId": "d107927d-6386-4527-d2a6-e7fcfce588a0",
        "colab": {
          "base_uri": "https://localhost:8080/",
          "height": 34
        }
      },
      "source": [
        "from nltk.tokenize import TweetTokenizer\n",
        "tknzr = TweetTokenizer()\n",
        "\n",
        "tknzr = TweetTokenizer(strip_handles=True, reduce_len=True)\n",
        "s1 = '@remy: This is waaaaayyyy too much for you!!!!!!'\n",
        "tknzr.tokenize(s1)"
      ],
      "execution_count": 0,
      "outputs": [
        {
          "output_type": "execute_result",
          "data": {
            "text/plain": [
              "[':', 'This', 'is', 'waaayyy', 'too', 'much', 'for', 'you', '!', '!', '!']"
            ]
          },
          "metadata": {
            "tags": []
          },
          "execution_count": 50
        }
      ]
    },
    {
      "cell_type": "markdown",
      "metadata": {
        "id": "6zra49ew-O31",
        "colab_type": "text"
      },
      "source": [
        "Quick text cleaning for training dataset using TweetTokenizer"
      ]
    },
    {
      "cell_type": "code",
      "metadata": {
        "id": "EnhpXIGBgmS2",
        "colab_type": "code",
        "colab": {}
      },
      "source": [
        "train_clean_text = []\n",
        "for (i, row) in enumerate(train_df.values):\n",
        "\n",
        "  train_tweet_id = row[1]\n",
        "  train_tweet = row[2]\n",
        "  emotion = row[3]\n",
        "\n",
        "  train_tokenized_tweet = tknzr.tokenize(train_tweet)\n",
        "  train_tokenized_tweet_str = ' '.join([str(elem) for elem in train_tokenized_tweet])\n",
        "\n",
        "  train_clean_text_tweet = (train_tweet_id, train_tokenized_tweet_str, emotion)\n",
        "\n",
        "  train_clean_text.append(train_clean_text_tweet)"
      ],
      "execution_count": 0,
      "outputs": []
    },
    {
      "cell_type": "code",
      "metadata": {
        "id": "y39FcN0xmaZl",
        "colab_type": "code",
        "outputId": "d6be05de-6a48-46ae-e29f-63770d88abf2",
        "colab": {
          "base_uri": "https://localhost:8080/",
          "height": 34
        }
      },
      "source": [
        "print(len(train_clean_text))"
      ],
      "execution_count": 0,
      "outputs": [
        {
          "output_type": "stream",
          "text": [
            "1455563\n"
          ],
          "name": "stdout"
        }
      ]
    },
    {
      "cell_type": "code",
      "metadata": {
        "id": "qgT2vG-fskcQ",
        "colab_type": "code",
        "outputId": "f6a207b7-789a-4a61-afac-a81ec5db1478",
        "colab": {
          "base_uri": "https://localhost:8080/",
          "height": 450
        }
      },
      "source": [
        "# create training DataFrame from extracted list\n",
        "clean_text_train_df = pd.DataFrame(train_clean_text, columns = [\"tweet_id\", \"clean_text\", \"emotion\"])  \n",
        "\n",
        "# set id as the index\n",
        "clean_text_train_df.set_index(\"tweet_id\",inplace=True)\n",
        "\n",
        "clean_text_train_df"
      ],
      "execution_count": 0,
      "outputs": [
        {
          "output_type": "execute_result",
          "data": {
            "text/html": [
              "<div>\n",
              "<style scoped>\n",
              "    .dataframe tbody tr th:only-of-type {\n",
              "        vertical-align: middle;\n",
              "    }\n",
              "\n",
              "    .dataframe tbody tr th {\n",
              "        vertical-align: top;\n",
              "    }\n",
              "\n",
              "    .dataframe thead th {\n",
              "        text-align: right;\n",
              "    }\n",
              "</style>\n",
              "<table border=\"1\" class=\"dataframe\">\n",
              "  <thead>\n",
              "    <tr style=\"text-align: right;\">\n",
              "      <th></th>\n",
              "      <th>clean_text</th>\n",
              "      <th>emotion</th>\n",
              "    </tr>\n",
              "    <tr>\n",
              "      <th>tweet_id</th>\n",
              "      <th></th>\n",
              "      <th></th>\n",
              "    </tr>\n",
              "  </thead>\n",
              "  <tbody>\n",
              "    <tr>\n",
              "      <th>0x376b20</th>\n",
              "      <td>People who post \" add me on #Snapchat \" must b...</td>\n",
              "      <td>anticipation</td>\n",
              "    </tr>\n",
              "    <tr>\n",
              "      <th>0x2d5350</th>\n",
              "      <td>As we see , Trump is dangerous to #freepress a...</td>\n",
              "      <td>sadness</td>\n",
              "    </tr>\n",
              "    <tr>\n",
              "      <th>0x1cd5b0</th>\n",
              "      <td>Now ISSA is stalking Tasha 😂 😂 😂 &lt;LH&gt;</td>\n",
              "      <td>fear</td>\n",
              "    </tr>\n",
              "    <tr>\n",
              "      <th>0x1d755c</th>\n",
              "      <td>Thx for the BEST TIME tonight . What stories !...</td>\n",
              "      <td>joy</td>\n",
              "    </tr>\n",
              "    <tr>\n",
              "      <th>0x2c91a8</th>\n",
              "      <td>Still waiting on those supplies Liscus . &lt;LH&gt;</td>\n",
              "      <td>anticipation</td>\n",
              "    </tr>\n",
              "    <tr>\n",
              "      <th>...</th>\n",
              "      <td>...</td>\n",
              "      <td>...</td>\n",
              "    </tr>\n",
              "    <tr>\n",
              "      <th>0x321566</th>\n",
              "      <td>I'm SO HAPPY ! ! ! #NoWonder the name of this ...</td>\n",
              "      <td>joy</td>\n",
              "    </tr>\n",
              "    <tr>\n",
              "      <th>0x38959e</th>\n",
              "      <td>In every circumtance I'd like to be thankful t...</td>\n",
              "      <td>joy</td>\n",
              "    </tr>\n",
              "    <tr>\n",
              "      <th>0x2cbca6</th>\n",
              "      <td>there's currently two girls walking around the...</td>\n",
              "      <td>joy</td>\n",
              "    </tr>\n",
              "    <tr>\n",
              "      <th>0x24faed</th>\n",
              "      <td>Ah , corporate life , where you can date &lt;LH&gt; ...</td>\n",
              "      <td>joy</td>\n",
              "    </tr>\n",
              "    <tr>\n",
              "      <th>0x34be8c</th>\n",
              "      <td>Blessed to be living #Sundayvibes &lt;LH&gt;</td>\n",
              "      <td>joy</td>\n",
              "    </tr>\n",
              "  </tbody>\n",
              "</table>\n",
              "<p>1455563 rows × 2 columns</p>\n",
              "</div>"
            ],
            "text/plain": [
              "                                                 clean_text       emotion\n",
              "tweet_id                                                                 \n",
              "0x376b20  People who post \" add me on #Snapchat \" must b...  anticipation\n",
              "0x2d5350  As we see , Trump is dangerous to #freepress a...       sadness\n",
              "0x1cd5b0              Now ISSA is stalking Tasha 😂 😂 😂 <LH>          fear\n",
              "0x1d755c  Thx for the BEST TIME tonight . What stories !...           joy\n",
              "0x2c91a8      Still waiting on those supplies Liscus . <LH>  anticipation\n",
              "...                                                     ...           ...\n",
              "0x321566  I'm SO HAPPY ! ! ! #NoWonder the name of this ...           joy\n",
              "0x38959e  In every circumtance I'd like to be thankful t...           joy\n",
              "0x2cbca6  there's currently two girls walking around the...           joy\n",
              "0x24faed  Ah , corporate life , where you can date <LH> ...           joy\n",
              "0x34be8c             Blessed to be living #Sundayvibes <LH>           joy\n",
              "\n",
              "[1455563 rows x 2 columns]"
            ]
          },
          "metadata": {
            "tags": []
          },
          "execution_count": 53
        }
      ]
    },
    {
      "cell_type": "code",
      "metadata": {
        "id": "jns9gyo7sk09",
        "colab_type": "code",
        "colab": {}
      },
      "source": [
        "clean_text_train_df.to_csv(\"clean_text_training.csv\")"
      ],
      "execution_count": 0,
      "outputs": []
    },
    {
      "cell_type": "code",
      "metadata": {
        "id": "hc6F4_QNqz9j",
        "colab_type": "code",
        "outputId": "87dc3331-186b-4d56-9988-c3b32f056b67",
        "colab": {
          "base_uri": "https://localhost:8080/",
          "height": 419
        }
      },
      "source": [
        "pd.read_csv(\"clean_text_training.csv\")"
      ],
      "execution_count": 0,
      "outputs": [
        {
          "output_type": "execute_result",
          "data": {
            "text/html": [
              "<div>\n",
              "<style scoped>\n",
              "    .dataframe tbody tr th:only-of-type {\n",
              "        vertical-align: middle;\n",
              "    }\n",
              "\n",
              "    .dataframe tbody tr th {\n",
              "        vertical-align: top;\n",
              "    }\n",
              "\n",
              "    .dataframe thead th {\n",
              "        text-align: right;\n",
              "    }\n",
              "</style>\n",
              "<table border=\"1\" class=\"dataframe\">\n",
              "  <thead>\n",
              "    <tr style=\"text-align: right;\">\n",
              "      <th></th>\n",
              "      <th>tweet_id</th>\n",
              "      <th>clean_text</th>\n",
              "      <th>emotion</th>\n",
              "    </tr>\n",
              "  </thead>\n",
              "  <tbody>\n",
              "    <tr>\n",
              "      <th>0</th>\n",
              "      <td>0x376b20</td>\n",
              "      <td>People who post \" add me on #Snapchat \" must b...</td>\n",
              "      <td>anticipation</td>\n",
              "    </tr>\n",
              "    <tr>\n",
              "      <th>1</th>\n",
              "      <td>0x2d5350</td>\n",
              "      <td>As we see , Trump is dangerous to #freepress a...</td>\n",
              "      <td>sadness</td>\n",
              "    </tr>\n",
              "    <tr>\n",
              "      <th>2</th>\n",
              "      <td>0x1cd5b0</td>\n",
              "      <td>Now ISSA is stalking Tasha 😂 😂 😂 &lt;LH&gt;</td>\n",
              "      <td>fear</td>\n",
              "    </tr>\n",
              "    <tr>\n",
              "      <th>3</th>\n",
              "      <td>0x1d755c</td>\n",
              "      <td>Thx for the BEST TIME tonight . What stories !...</td>\n",
              "      <td>joy</td>\n",
              "    </tr>\n",
              "    <tr>\n",
              "      <th>4</th>\n",
              "      <td>0x2c91a8</td>\n",
              "      <td>Still waiting on those supplies Liscus . &lt;LH&gt;</td>\n",
              "      <td>anticipation</td>\n",
              "    </tr>\n",
              "    <tr>\n",
              "      <th>...</th>\n",
              "      <td>...</td>\n",
              "      <td>...</td>\n",
              "      <td>...</td>\n",
              "    </tr>\n",
              "    <tr>\n",
              "      <th>1455559</th>\n",
              "      <td>0x321566</td>\n",
              "      <td>I'm SO HAPPY ! ! ! #NoWonder the name of this ...</td>\n",
              "      <td>joy</td>\n",
              "    </tr>\n",
              "    <tr>\n",
              "      <th>1455560</th>\n",
              "      <td>0x38959e</td>\n",
              "      <td>In every circumtance I'd like to be thankful t...</td>\n",
              "      <td>joy</td>\n",
              "    </tr>\n",
              "    <tr>\n",
              "      <th>1455561</th>\n",
              "      <td>0x2cbca6</td>\n",
              "      <td>there's currently two girls walking around the...</td>\n",
              "      <td>joy</td>\n",
              "    </tr>\n",
              "    <tr>\n",
              "      <th>1455562</th>\n",
              "      <td>0x24faed</td>\n",
              "      <td>Ah , corporate life , where you can date &lt;LH&gt; ...</td>\n",
              "      <td>joy</td>\n",
              "    </tr>\n",
              "    <tr>\n",
              "      <th>1455563</th>\n",
              "      <td>0x34be8c</td>\n",
              "      <td>Blessed to be living #Sundayvibes &lt;LH&gt;</td>\n",
              "      <td>joy</td>\n",
              "    </tr>\n",
              "  </tbody>\n",
              "</table>\n",
              "<p>1455564 rows × 3 columns</p>\n",
              "</div>"
            ],
            "text/plain": [
              "         tweet_id  ...       emotion\n",
              "0        0x376b20  ...  anticipation\n",
              "1        0x2d5350  ...       sadness\n",
              "2        0x1cd5b0  ...          fear\n",
              "3        0x1d755c  ...           joy\n",
              "4        0x2c91a8  ...  anticipation\n",
              "...           ...  ...           ...\n",
              "1455559  0x321566  ...           joy\n",
              "1455560  0x38959e  ...           joy\n",
              "1455561  0x2cbca6  ...           joy\n",
              "1455562  0x24faed  ...           joy\n",
              "1455563  0x34be8c  ...           joy\n",
              "\n",
              "[1455564 rows x 3 columns]"
            ]
          },
          "metadata": {
            "tags": []
          },
          "execution_count": 66
        }
      ]
    },
    {
      "cell_type": "markdown",
      "metadata": {
        "id": "qW5HHfRMurUK",
        "colab_type": "text"
      },
      "source": [
        "Quick text cleaning for test dataset using TweetTokenizer"
      ]
    },
    {
      "cell_type": "code",
      "metadata": {
        "id": "Sd_0xXjMq0J6",
        "colab_type": "code",
        "colab": {}
      },
      "source": [
        "test_clean_text = []\n",
        "for (i, row) in enumerate(test_df.values):\n",
        "\n",
        "  test_tweet_id = row[1]\n",
        "  test_tweet = row[2]\n",
        "  #emotion = row[3]\n",
        "\n",
        "  test_tokenized_tweet = tknzr.tokenize(test_tweet)\n",
        "  test_tokenized_tweet_str = ' '.join([str(elem) for elem in test_tokenized_tweet])\n",
        "\n",
        "  test_clean_text_tweet = (test_tweet_id, test_tokenized_tweet_str)\n",
        "\n",
        "  test_clean_text.append(test_clean_text_tweet)"
      ],
      "execution_count": 0,
      "outputs": []
    },
    {
      "cell_type": "code",
      "metadata": {
        "id": "uSGcm-ihq0HA",
        "colab_type": "code",
        "outputId": "6a6578ed-d7bd-425d-8385-1330a793397a",
        "colab": {
          "base_uri": "https://localhost:8080/",
          "height": 34
        }
      },
      "source": [
        "print(len(test_clean_text))"
      ],
      "execution_count": 0,
      "outputs": [
        {
          "output_type": "stream",
          "text": [
            "411972\n"
          ],
          "name": "stdout"
        }
      ]
    },
    {
      "cell_type": "code",
      "metadata": {
        "id": "nyUbgqS_q0D-",
        "colab_type": "code",
        "outputId": "5dc2128c-b307-422f-f40c-5da3e2f4fd2a",
        "colab": {
          "base_uri": "https://localhost:8080/",
          "height": 450
        }
      },
      "source": [
        "# create testing DataFrame from extracted list\n",
        "clean_text_test_df = pd.DataFrame(test_clean_text, columns = [\"tweet_id\", \"clean_text\"])  \n",
        "\n",
        "# set id as the index\n",
        "clean_text_test_df.set_index(\"tweet_id\",inplace=True)\n",
        "\n",
        "clean_text_test_df"
      ],
      "execution_count": 0,
      "outputs": [
        {
          "output_type": "execute_result",
          "data": {
            "text/html": [
              "<div>\n",
              "<style scoped>\n",
              "    .dataframe tbody tr th:only-of-type {\n",
              "        vertical-align: middle;\n",
              "    }\n",
              "\n",
              "    .dataframe tbody tr th {\n",
              "        vertical-align: top;\n",
              "    }\n",
              "\n",
              "    .dataframe thead th {\n",
              "        text-align: right;\n",
              "    }\n",
              "</style>\n",
              "<table border=\"1\" class=\"dataframe\">\n",
              "  <thead>\n",
              "    <tr style=\"text-align: right;\">\n",
              "      <th></th>\n",
              "      <th>clean_text</th>\n",
              "    </tr>\n",
              "    <tr>\n",
              "      <th>tweet_id</th>\n",
              "      <th></th>\n",
              "    </tr>\n",
              "  </thead>\n",
              "  <tbody>\n",
              "    <tr>\n",
              "      <th>0x28b412</th>\n",
              "      <td>Confident of your obedience , I write to you ,...</td>\n",
              "    </tr>\n",
              "    <tr>\n",
              "      <th>0x2de201</th>\n",
              "      <td>\" Trust is not the same as faith . A friend is...</td>\n",
              "    </tr>\n",
              "    <tr>\n",
              "      <th>0x218443</th>\n",
              "      <td>When do you have enough ? When are you satisfi...</td>\n",
              "    </tr>\n",
              "    <tr>\n",
              "      <th>0x2939d5</th>\n",
              "      <td>God woke you up , now chase the day #GodsPlan ...</td>\n",
              "    </tr>\n",
              "    <tr>\n",
              "      <th>0x26289a</th>\n",
              "      <td>In these tough times , who do YOU turn to as y...</td>\n",
              "    </tr>\n",
              "    <tr>\n",
              "      <th>...</th>\n",
              "      <td>...</td>\n",
              "    </tr>\n",
              "    <tr>\n",
              "      <th>0x2913b4</th>\n",
              "      <td>\" For this is the message that ye heard from t...</td>\n",
              "    </tr>\n",
              "    <tr>\n",
              "      <th>0x2a980e</th>\n",
              "      <td>\" There is a lad here , which hath five barley...</td>\n",
              "    </tr>\n",
              "    <tr>\n",
              "      <th>0x316b80</th>\n",
              "      <td>When you buy the last 2 tickets remaining for ...</td>\n",
              "    </tr>\n",
              "    <tr>\n",
              "      <th>0x29d0cb</th>\n",
              "      <td>I swear all this hard work gone pay off one da...</td>\n",
              "    </tr>\n",
              "    <tr>\n",
              "      <th>0x2a6a4f</th>\n",
              "      <td>no card left when I wasn't in so I have no ide...</td>\n",
              "    </tr>\n",
              "  </tbody>\n",
              "</table>\n",
              "<p>411972 rows × 1 columns</p>\n",
              "</div>"
            ],
            "text/plain": [
              "                                                 clean_text\n",
              "tweet_id                                                   \n",
              "0x28b412  Confident of your obedience , I write to you ,...\n",
              "0x2de201  \" Trust is not the same as faith . A friend is...\n",
              "0x218443  When do you have enough ? When are you satisfi...\n",
              "0x2939d5  God woke you up , now chase the day #GodsPlan ...\n",
              "0x26289a  In these tough times , who do YOU turn to as y...\n",
              "...                                                     ...\n",
              "0x2913b4  \" For this is the message that ye heard from t...\n",
              "0x2a980e  \" There is a lad here , which hath five barley...\n",
              "0x316b80  When you buy the last 2 tickets remaining for ...\n",
              "0x29d0cb  I swear all this hard work gone pay off one da...\n",
              "0x2a6a4f  no card left when I wasn't in so I have no ide...\n",
              "\n",
              "[411972 rows x 1 columns]"
            ]
          },
          "metadata": {
            "tags": []
          },
          "execution_count": 58
        }
      ]
    },
    {
      "cell_type": "code",
      "metadata": {
        "id": "c_9Wnefep1cj",
        "colab_type": "code",
        "colab": {}
      },
      "source": [
        "clean_text_test_df.to_csv(\"clean_text_testing.csv\")"
      ],
      "execution_count": 0,
      "outputs": []
    },
    {
      "cell_type": "code",
      "metadata": {
        "id": "hrCPI1i3p1kn",
        "colab_type": "code",
        "outputId": "7a3770e0-ecd3-42dc-995d-169b8687b60a",
        "colab": {
          "base_uri": "https://localhost:8080/",
          "height": 419
        }
      },
      "source": [
        "pd.read_csv(\"clean_text_testing.csv\")"
      ],
      "execution_count": 0,
      "outputs": [
        {
          "output_type": "execute_result",
          "data": {
            "text/html": [
              "<div>\n",
              "<style scoped>\n",
              "    .dataframe tbody tr th:only-of-type {\n",
              "        vertical-align: middle;\n",
              "    }\n",
              "\n",
              "    .dataframe tbody tr th {\n",
              "        vertical-align: top;\n",
              "    }\n",
              "\n",
              "    .dataframe thead th {\n",
              "        text-align: right;\n",
              "    }\n",
              "</style>\n",
              "<table border=\"1\" class=\"dataframe\">\n",
              "  <thead>\n",
              "    <tr style=\"text-align: right;\">\n",
              "      <th></th>\n",
              "      <th>tweet_id</th>\n",
              "      <th>clean_text</th>\n",
              "    </tr>\n",
              "  </thead>\n",
              "  <tbody>\n",
              "    <tr>\n",
              "      <th>0</th>\n",
              "      <td>0x28b412</td>\n",
              "      <td>Confident of your obedience , I write to you ,...</td>\n",
              "    </tr>\n",
              "    <tr>\n",
              "      <th>1</th>\n",
              "      <td>0x2de201</td>\n",
              "      <td>\" Trust is not the same as faith . A friend is...</td>\n",
              "    </tr>\n",
              "    <tr>\n",
              "      <th>2</th>\n",
              "      <td>0x218443</td>\n",
              "      <td>When do you have enough ? When are you satisfi...</td>\n",
              "    </tr>\n",
              "    <tr>\n",
              "      <th>3</th>\n",
              "      <td>0x2939d5</td>\n",
              "      <td>God woke you up , now chase the day #GodsPlan ...</td>\n",
              "    </tr>\n",
              "    <tr>\n",
              "      <th>4</th>\n",
              "      <td>0x26289a</td>\n",
              "      <td>In these tough times , who do YOU turn to as y...</td>\n",
              "    </tr>\n",
              "    <tr>\n",
              "      <th>...</th>\n",
              "      <td>...</td>\n",
              "      <td>...</td>\n",
              "    </tr>\n",
              "    <tr>\n",
              "      <th>411967</th>\n",
              "      <td>0x2913b4</td>\n",
              "      <td>\" For this is the message that ye heard from t...</td>\n",
              "    </tr>\n",
              "    <tr>\n",
              "      <th>411968</th>\n",
              "      <td>0x2a980e</td>\n",
              "      <td>\" There is a lad here , which hath five barley...</td>\n",
              "    </tr>\n",
              "    <tr>\n",
              "      <th>411969</th>\n",
              "      <td>0x316b80</td>\n",
              "      <td>When you buy the last 2 tickets remaining for ...</td>\n",
              "    </tr>\n",
              "    <tr>\n",
              "      <th>411970</th>\n",
              "      <td>0x29d0cb</td>\n",
              "      <td>I swear all this hard work gone pay off one da...</td>\n",
              "    </tr>\n",
              "    <tr>\n",
              "      <th>411971</th>\n",
              "      <td>0x2a6a4f</td>\n",
              "      <td>no card left when I wasn't in so I have no ide...</td>\n",
              "    </tr>\n",
              "  </tbody>\n",
              "</table>\n",
              "<p>411972 rows × 2 columns</p>\n",
              "</div>"
            ],
            "text/plain": [
              "        tweet_id                                         clean_text\n",
              "0       0x28b412  Confident of your obedience , I write to you ,...\n",
              "1       0x2de201  \" Trust is not the same as faith . A friend is...\n",
              "2       0x218443  When do you have enough ? When are you satisfi...\n",
              "3       0x2939d5  God woke you up , now chase the day #GodsPlan ...\n",
              "4       0x26289a  In these tough times , who do YOU turn to as y...\n",
              "...          ...                                                ...\n",
              "411967  0x2913b4  \" For this is the message that ye heard from t...\n",
              "411968  0x2a980e  \" There is a lad here , which hath five barley...\n",
              "411969  0x316b80  When you buy the last 2 tickets remaining for ...\n",
              "411970  0x29d0cb  I swear all this hard work gone pay off one da...\n",
              "411971  0x2a6a4f  no card left when I wasn't in so I have no ide...\n",
              "\n",
              "[411972 rows x 2 columns]"
            ]
          },
          "metadata": {
            "tags": []
          },
          "execution_count": 68
        }
      ]
    },
    {
      "cell_type": "markdown",
      "metadata": {
        "id": "mhCKQpi7zZKp",
        "colab_type": "text"
      },
      "source": [
        "Extracting train.csv file for BERT"
      ]
    },
    {
      "cell_type": "code",
      "metadata": {
        "id": "lyOsgvljp1Wn",
        "colab_type": "code",
        "colab": {}
      },
      "source": [
        "df_model = pd.read_csv(\"clean_text_training.csv\")"
      ],
      "execution_count": 0,
      "outputs": []
    },
    {
      "cell_type": "code",
      "metadata": {
        "id": "MKqE6Ucxp1U6",
        "colab_type": "code",
        "colab": {}
      },
      "source": [
        "clean_text_bert = df_model[['tweet_id', 'clean_text']]"
      ],
      "execution_count": 0,
      "outputs": []
    },
    {
      "cell_type": "code",
      "metadata": {
        "id": "hebyGX-ip1TB",
        "colab_type": "code",
        "colab": {}
      },
      "source": [
        "# get dummies series from emotion column\n",
        "s = pd.Series(list(df_model['emotion']))\n",
        "one_hot_emotion = pd.get_dummies(s)"
      ],
      "execution_count": 0,
      "outputs": []
    },
    {
      "cell_type": "code",
      "metadata": {
        "id": "8pbsvOUWzzo8",
        "colab_type": "code",
        "outputId": "72e70f01-da22-496f-da86-7121779626ff",
        "colab": {
          "base_uri": "https://localhost:8080/",
          "height": 419
        }
      },
      "source": [
        "one_hot_emotion"
      ],
      "execution_count": 0,
      "outputs": [
        {
          "output_type": "execute_result",
          "data": {
            "text/html": [
              "<div>\n",
              "<style scoped>\n",
              "    .dataframe tbody tr th:only-of-type {\n",
              "        vertical-align: middle;\n",
              "    }\n",
              "\n",
              "    .dataframe tbody tr th {\n",
              "        vertical-align: top;\n",
              "    }\n",
              "\n",
              "    .dataframe thead th {\n",
              "        text-align: right;\n",
              "    }\n",
              "</style>\n",
              "<table border=\"1\" class=\"dataframe\">\n",
              "  <thead>\n",
              "    <tr style=\"text-align: right;\">\n",
              "      <th></th>\n",
              "      <th>anger</th>\n",
              "      <th>anticipation</th>\n",
              "      <th>disgust</th>\n",
              "      <th>fear</th>\n",
              "      <th>joy</th>\n",
              "      <th>sadness</th>\n",
              "      <th>surprise</th>\n",
              "      <th>trust</th>\n",
              "    </tr>\n",
              "  </thead>\n",
              "  <tbody>\n",
              "    <tr>\n",
              "      <th>0</th>\n",
              "      <td>0</td>\n",
              "      <td>1</td>\n",
              "      <td>0</td>\n",
              "      <td>0</td>\n",
              "      <td>0</td>\n",
              "      <td>0</td>\n",
              "      <td>0</td>\n",
              "      <td>0</td>\n",
              "    </tr>\n",
              "    <tr>\n",
              "      <th>1</th>\n",
              "      <td>0</td>\n",
              "      <td>0</td>\n",
              "      <td>0</td>\n",
              "      <td>0</td>\n",
              "      <td>0</td>\n",
              "      <td>1</td>\n",
              "      <td>0</td>\n",
              "      <td>0</td>\n",
              "    </tr>\n",
              "    <tr>\n",
              "      <th>2</th>\n",
              "      <td>0</td>\n",
              "      <td>0</td>\n",
              "      <td>0</td>\n",
              "      <td>1</td>\n",
              "      <td>0</td>\n",
              "      <td>0</td>\n",
              "      <td>0</td>\n",
              "      <td>0</td>\n",
              "    </tr>\n",
              "    <tr>\n",
              "      <th>3</th>\n",
              "      <td>0</td>\n",
              "      <td>0</td>\n",
              "      <td>0</td>\n",
              "      <td>0</td>\n",
              "      <td>1</td>\n",
              "      <td>0</td>\n",
              "      <td>0</td>\n",
              "      <td>0</td>\n",
              "    </tr>\n",
              "    <tr>\n",
              "      <th>4</th>\n",
              "      <td>0</td>\n",
              "      <td>1</td>\n",
              "      <td>0</td>\n",
              "      <td>0</td>\n",
              "      <td>0</td>\n",
              "      <td>0</td>\n",
              "      <td>0</td>\n",
              "      <td>0</td>\n",
              "    </tr>\n",
              "    <tr>\n",
              "      <th>...</th>\n",
              "      <td>...</td>\n",
              "      <td>...</td>\n",
              "      <td>...</td>\n",
              "      <td>...</td>\n",
              "      <td>...</td>\n",
              "      <td>...</td>\n",
              "      <td>...</td>\n",
              "      <td>...</td>\n",
              "    </tr>\n",
              "    <tr>\n",
              "      <th>1455559</th>\n",
              "      <td>0</td>\n",
              "      <td>0</td>\n",
              "      <td>0</td>\n",
              "      <td>0</td>\n",
              "      <td>1</td>\n",
              "      <td>0</td>\n",
              "      <td>0</td>\n",
              "      <td>0</td>\n",
              "    </tr>\n",
              "    <tr>\n",
              "      <th>1455560</th>\n",
              "      <td>0</td>\n",
              "      <td>0</td>\n",
              "      <td>0</td>\n",
              "      <td>0</td>\n",
              "      <td>1</td>\n",
              "      <td>0</td>\n",
              "      <td>0</td>\n",
              "      <td>0</td>\n",
              "    </tr>\n",
              "    <tr>\n",
              "      <th>1455561</th>\n",
              "      <td>0</td>\n",
              "      <td>0</td>\n",
              "      <td>0</td>\n",
              "      <td>0</td>\n",
              "      <td>1</td>\n",
              "      <td>0</td>\n",
              "      <td>0</td>\n",
              "      <td>0</td>\n",
              "    </tr>\n",
              "    <tr>\n",
              "      <th>1455562</th>\n",
              "      <td>0</td>\n",
              "      <td>0</td>\n",
              "      <td>0</td>\n",
              "      <td>0</td>\n",
              "      <td>1</td>\n",
              "      <td>0</td>\n",
              "      <td>0</td>\n",
              "      <td>0</td>\n",
              "    </tr>\n",
              "    <tr>\n",
              "      <th>1455563</th>\n",
              "      <td>0</td>\n",
              "      <td>0</td>\n",
              "      <td>0</td>\n",
              "      <td>0</td>\n",
              "      <td>1</td>\n",
              "      <td>0</td>\n",
              "      <td>0</td>\n",
              "      <td>0</td>\n",
              "    </tr>\n",
              "  </tbody>\n",
              "</table>\n",
              "<p>1455564 rows × 8 columns</p>\n",
              "</div>"
            ],
            "text/plain": [
              "         anger  anticipation  disgust  fear  joy  sadness  surprise  trust\n",
              "0            0             1        0     0    0        0         0      0\n",
              "1            0             0        0     0    0        1         0      0\n",
              "2            0             0        0     1    0        0         0      0\n",
              "3            0             0        0     0    1        0         0      0\n",
              "4            0             1        0     0    0        0         0      0\n",
              "...        ...           ...      ...   ...  ...      ...       ...    ...\n",
              "1455559      0             0        0     0    1        0         0      0\n",
              "1455560      0             0        0     0    1        0         0      0\n",
              "1455561      0             0        0     0    1        0         0      0\n",
              "1455562      0             0        0     0    1        0         0      0\n",
              "1455563      0             0        0     0    1        0         0      0\n",
              "\n",
              "[1455564 rows x 8 columns]"
            ]
          },
          "metadata": {
            "tags": []
          },
          "execution_count": 85
        }
      ]
    },
    {
      "cell_type": "code",
      "metadata": {
        "id": "ItOwCxV_zlI0",
        "colab_type": "code",
        "colab": {}
      },
      "source": [
        "# add one-hot encoded emotions to the training DataFrame\n",
        "bert_train_df = pd.concat([clean_text_bert, one_hot_emotion.reindex(clean_text_bert.index)], axis=1)"
      ],
      "execution_count": 0,
      "outputs": []
    },
    {
      "cell_type": "code",
      "metadata": {
        "id": "kQWnrxo2zlHm",
        "colab_type": "code",
        "outputId": "a95d05bd-f755-4219-816b-751c71eec959",
        "colab": {
          "base_uri": "https://localhost:8080/",
          "height": 419
        }
      },
      "source": [
        "bert_train_df"
      ],
      "execution_count": 0,
      "outputs": [
        {
          "output_type": "execute_result",
          "data": {
            "text/html": [
              "<div>\n",
              "<style scoped>\n",
              "    .dataframe tbody tr th:only-of-type {\n",
              "        vertical-align: middle;\n",
              "    }\n",
              "\n",
              "    .dataframe tbody tr th {\n",
              "        vertical-align: top;\n",
              "    }\n",
              "\n",
              "    .dataframe thead th {\n",
              "        text-align: right;\n",
              "    }\n",
              "</style>\n",
              "<table border=\"1\" class=\"dataframe\">\n",
              "  <thead>\n",
              "    <tr style=\"text-align: right;\">\n",
              "      <th></th>\n",
              "      <th>tweet_id</th>\n",
              "      <th>clean_text</th>\n",
              "      <th>anger</th>\n",
              "      <th>anticipation</th>\n",
              "      <th>disgust</th>\n",
              "      <th>fear</th>\n",
              "      <th>joy</th>\n",
              "      <th>sadness</th>\n",
              "      <th>surprise</th>\n",
              "      <th>trust</th>\n",
              "    </tr>\n",
              "  </thead>\n",
              "  <tbody>\n",
              "    <tr>\n",
              "      <th>0</th>\n",
              "      <td>0x376b20</td>\n",
              "      <td>People who post \" add me on #Snapchat \" must b...</td>\n",
              "      <td>0</td>\n",
              "      <td>1</td>\n",
              "      <td>0</td>\n",
              "      <td>0</td>\n",
              "      <td>0</td>\n",
              "      <td>0</td>\n",
              "      <td>0</td>\n",
              "      <td>0</td>\n",
              "    </tr>\n",
              "    <tr>\n",
              "      <th>1</th>\n",
              "      <td>0x2d5350</td>\n",
              "      <td>As we see , Trump is dangerous to #freepress a...</td>\n",
              "      <td>0</td>\n",
              "      <td>0</td>\n",
              "      <td>0</td>\n",
              "      <td>0</td>\n",
              "      <td>0</td>\n",
              "      <td>1</td>\n",
              "      <td>0</td>\n",
              "      <td>0</td>\n",
              "    </tr>\n",
              "    <tr>\n",
              "      <th>2</th>\n",
              "      <td>0x1cd5b0</td>\n",
              "      <td>Now ISSA is stalking Tasha 😂 😂 😂 &lt;LH&gt;</td>\n",
              "      <td>0</td>\n",
              "      <td>0</td>\n",
              "      <td>0</td>\n",
              "      <td>1</td>\n",
              "      <td>0</td>\n",
              "      <td>0</td>\n",
              "      <td>0</td>\n",
              "      <td>0</td>\n",
              "    </tr>\n",
              "    <tr>\n",
              "      <th>3</th>\n",
              "      <td>0x1d755c</td>\n",
              "      <td>Thx for the BEST TIME tonight . What stories !...</td>\n",
              "      <td>0</td>\n",
              "      <td>0</td>\n",
              "      <td>0</td>\n",
              "      <td>0</td>\n",
              "      <td>1</td>\n",
              "      <td>0</td>\n",
              "      <td>0</td>\n",
              "      <td>0</td>\n",
              "    </tr>\n",
              "    <tr>\n",
              "      <th>4</th>\n",
              "      <td>0x2c91a8</td>\n",
              "      <td>Still waiting on those supplies Liscus . &lt;LH&gt;</td>\n",
              "      <td>0</td>\n",
              "      <td>1</td>\n",
              "      <td>0</td>\n",
              "      <td>0</td>\n",
              "      <td>0</td>\n",
              "      <td>0</td>\n",
              "      <td>0</td>\n",
              "      <td>0</td>\n",
              "    </tr>\n",
              "    <tr>\n",
              "      <th>...</th>\n",
              "      <td>...</td>\n",
              "      <td>...</td>\n",
              "      <td>...</td>\n",
              "      <td>...</td>\n",
              "      <td>...</td>\n",
              "      <td>...</td>\n",
              "      <td>...</td>\n",
              "      <td>...</td>\n",
              "      <td>...</td>\n",
              "      <td>...</td>\n",
              "    </tr>\n",
              "    <tr>\n",
              "      <th>1455559</th>\n",
              "      <td>0x321566</td>\n",
              "      <td>I'm SO HAPPY ! ! ! #NoWonder the name of this ...</td>\n",
              "      <td>0</td>\n",
              "      <td>0</td>\n",
              "      <td>0</td>\n",
              "      <td>0</td>\n",
              "      <td>1</td>\n",
              "      <td>0</td>\n",
              "      <td>0</td>\n",
              "      <td>0</td>\n",
              "    </tr>\n",
              "    <tr>\n",
              "      <th>1455560</th>\n",
              "      <td>0x38959e</td>\n",
              "      <td>In every circumtance I'd like to be thankful t...</td>\n",
              "      <td>0</td>\n",
              "      <td>0</td>\n",
              "      <td>0</td>\n",
              "      <td>0</td>\n",
              "      <td>1</td>\n",
              "      <td>0</td>\n",
              "      <td>0</td>\n",
              "      <td>0</td>\n",
              "    </tr>\n",
              "    <tr>\n",
              "      <th>1455561</th>\n",
              "      <td>0x2cbca6</td>\n",
              "      <td>there's currently two girls walking around the...</td>\n",
              "      <td>0</td>\n",
              "      <td>0</td>\n",
              "      <td>0</td>\n",
              "      <td>0</td>\n",
              "      <td>1</td>\n",
              "      <td>0</td>\n",
              "      <td>0</td>\n",
              "      <td>0</td>\n",
              "    </tr>\n",
              "    <tr>\n",
              "      <th>1455562</th>\n",
              "      <td>0x24faed</td>\n",
              "      <td>Ah , corporate life , where you can date &lt;LH&gt; ...</td>\n",
              "      <td>0</td>\n",
              "      <td>0</td>\n",
              "      <td>0</td>\n",
              "      <td>0</td>\n",
              "      <td>1</td>\n",
              "      <td>0</td>\n",
              "      <td>0</td>\n",
              "      <td>0</td>\n",
              "    </tr>\n",
              "    <tr>\n",
              "      <th>1455563</th>\n",
              "      <td>0x34be8c</td>\n",
              "      <td>Blessed to be living #Sundayvibes &lt;LH&gt;</td>\n",
              "      <td>0</td>\n",
              "      <td>0</td>\n",
              "      <td>0</td>\n",
              "      <td>0</td>\n",
              "      <td>1</td>\n",
              "      <td>0</td>\n",
              "      <td>0</td>\n",
              "      <td>0</td>\n",
              "    </tr>\n",
              "  </tbody>\n",
              "</table>\n",
              "<p>1455564 rows × 10 columns</p>\n",
              "</div>"
            ],
            "text/plain": [
              "         tweet_id  ... trust\n",
              "0        0x376b20  ...     0\n",
              "1        0x2d5350  ...     0\n",
              "2        0x1cd5b0  ...     0\n",
              "3        0x1d755c  ...     0\n",
              "4        0x2c91a8  ...     0\n",
              "...           ...  ...   ...\n",
              "1455559  0x321566  ...     0\n",
              "1455560  0x38959e  ...     0\n",
              "1455561  0x2cbca6  ...     0\n",
              "1455562  0x24faed  ...     0\n",
              "1455563  0x34be8c  ...     0\n",
              "\n",
              "[1455564 rows x 10 columns]"
            ]
          },
          "metadata": {
            "tags": []
          },
          "execution_count": 87
        }
      ]
    },
    {
      "cell_type": "code",
      "metadata": {
        "id": "RBUosdoBzlGU",
        "colab_type": "code",
        "colab": {}
      },
      "source": [
        "bert_train_df.to_csv(\"clean_text_tweets.csv\", index=False)"
      ],
      "execution_count": 0,
      "outputs": []
    },
    {
      "cell_type": "code",
      "metadata": {
        "id": "Nr4sbhzFzlFC",
        "colab_type": "code",
        "outputId": "b25c2d1a-baa7-44b0-cdb2-bca49c48d118",
        "colab": {
          "base_uri": "https://localhost:8080/",
          "height": 419
        }
      },
      "source": [
        "pd.read_csv(\"clean_text_tweets.csv\")"
      ],
      "execution_count": 0,
      "outputs": [
        {
          "output_type": "execute_result",
          "data": {
            "text/html": [
              "<div>\n",
              "<style scoped>\n",
              "    .dataframe tbody tr th:only-of-type {\n",
              "        vertical-align: middle;\n",
              "    }\n",
              "\n",
              "    .dataframe tbody tr th {\n",
              "        vertical-align: top;\n",
              "    }\n",
              "\n",
              "    .dataframe thead th {\n",
              "        text-align: right;\n",
              "    }\n",
              "</style>\n",
              "<table border=\"1\" class=\"dataframe\">\n",
              "  <thead>\n",
              "    <tr style=\"text-align: right;\">\n",
              "      <th></th>\n",
              "      <th>tweet_id</th>\n",
              "      <th>clean_text</th>\n",
              "      <th>anger</th>\n",
              "      <th>anticipation</th>\n",
              "      <th>disgust</th>\n",
              "      <th>fear</th>\n",
              "      <th>joy</th>\n",
              "      <th>sadness</th>\n",
              "      <th>surprise</th>\n",
              "      <th>trust</th>\n",
              "    </tr>\n",
              "  </thead>\n",
              "  <tbody>\n",
              "    <tr>\n",
              "      <th>0</th>\n",
              "      <td>0x376b20</td>\n",
              "      <td>People who post \" add me on #Snapchat \" must b...</td>\n",
              "      <td>0</td>\n",
              "      <td>1</td>\n",
              "      <td>0</td>\n",
              "      <td>0</td>\n",
              "      <td>0</td>\n",
              "      <td>0</td>\n",
              "      <td>0</td>\n",
              "      <td>0</td>\n",
              "    </tr>\n",
              "    <tr>\n",
              "      <th>1</th>\n",
              "      <td>0x2d5350</td>\n",
              "      <td>As we see , Trump is dangerous to #freepress a...</td>\n",
              "      <td>0</td>\n",
              "      <td>0</td>\n",
              "      <td>0</td>\n",
              "      <td>0</td>\n",
              "      <td>0</td>\n",
              "      <td>1</td>\n",
              "      <td>0</td>\n",
              "      <td>0</td>\n",
              "    </tr>\n",
              "    <tr>\n",
              "      <th>2</th>\n",
              "      <td>0x1cd5b0</td>\n",
              "      <td>Now ISSA is stalking Tasha 😂 😂 😂 &lt;LH&gt;</td>\n",
              "      <td>0</td>\n",
              "      <td>0</td>\n",
              "      <td>0</td>\n",
              "      <td>1</td>\n",
              "      <td>0</td>\n",
              "      <td>0</td>\n",
              "      <td>0</td>\n",
              "      <td>0</td>\n",
              "    </tr>\n",
              "    <tr>\n",
              "      <th>3</th>\n",
              "      <td>0x1d755c</td>\n",
              "      <td>Thx for the BEST TIME tonight . What stories !...</td>\n",
              "      <td>0</td>\n",
              "      <td>0</td>\n",
              "      <td>0</td>\n",
              "      <td>0</td>\n",
              "      <td>1</td>\n",
              "      <td>0</td>\n",
              "      <td>0</td>\n",
              "      <td>0</td>\n",
              "    </tr>\n",
              "    <tr>\n",
              "      <th>4</th>\n",
              "      <td>0x2c91a8</td>\n",
              "      <td>Still waiting on those supplies Liscus . &lt;LH&gt;</td>\n",
              "      <td>0</td>\n",
              "      <td>1</td>\n",
              "      <td>0</td>\n",
              "      <td>0</td>\n",
              "      <td>0</td>\n",
              "      <td>0</td>\n",
              "      <td>0</td>\n",
              "      <td>0</td>\n",
              "    </tr>\n",
              "    <tr>\n",
              "      <th>...</th>\n",
              "      <td>...</td>\n",
              "      <td>...</td>\n",
              "      <td>...</td>\n",
              "      <td>...</td>\n",
              "      <td>...</td>\n",
              "      <td>...</td>\n",
              "      <td>...</td>\n",
              "      <td>...</td>\n",
              "      <td>...</td>\n",
              "      <td>...</td>\n",
              "    </tr>\n",
              "    <tr>\n",
              "      <th>1455559</th>\n",
              "      <td>0x321566</td>\n",
              "      <td>I'm SO HAPPY ! ! ! #NoWonder the name of this ...</td>\n",
              "      <td>0</td>\n",
              "      <td>0</td>\n",
              "      <td>0</td>\n",
              "      <td>0</td>\n",
              "      <td>1</td>\n",
              "      <td>0</td>\n",
              "      <td>0</td>\n",
              "      <td>0</td>\n",
              "    </tr>\n",
              "    <tr>\n",
              "      <th>1455560</th>\n",
              "      <td>0x38959e</td>\n",
              "      <td>In every circumtance I'd like to be thankful t...</td>\n",
              "      <td>0</td>\n",
              "      <td>0</td>\n",
              "      <td>0</td>\n",
              "      <td>0</td>\n",
              "      <td>1</td>\n",
              "      <td>0</td>\n",
              "      <td>0</td>\n",
              "      <td>0</td>\n",
              "    </tr>\n",
              "    <tr>\n",
              "      <th>1455561</th>\n",
              "      <td>0x2cbca6</td>\n",
              "      <td>there's currently two girls walking around the...</td>\n",
              "      <td>0</td>\n",
              "      <td>0</td>\n",
              "      <td>0</td>\n",
              "      <td>0</td>\n",
              "      <td>1</td>\n",
              "      <td>0</td>\n",
              "      <td>0</td>\n",
              "      <td>0</td>\n",
              "    </tr>\n",
              "    <tr>\n",
              "      <th>1455562</th>\n",
              "      <td>0x24faed</td>\n",
              "      <td>Ah , corporate life , where you can date &lt;LH&gt; ...</td>\n",
              "      <td>0</td>\n",
              "      <td>0</td>\n",
              "      <td>0</td>\n",
              "      <td>0</td>\n",
              "      <td>1</td>\n",
              "      <td>0</td>\n",
              "      <td>0</td>\n",
              "      <td>0</td>\n",
              "    </tr>\n",
              "    <tr>\n",
              "      <th>1455563</th>\n",
              "      <td>0x34be8c</td>\n",
              "      <td>Blessed to be living #Sundayvibes &lt;LH&gt;</td>\n",
              "      <td>0</td>\n",
              "      <td>0</td>\n",
              "      <td>0</td>\n",
              "      <td>0</td>\n",
              "      <td>1</td>\n",
              "      <td>0</td>\n",
              "      <td>0</td>\n",
              "      <td>0</td>\n",
              "    </tr>\n",
              "  </tbody>\n",
              "</table>\n",
              "<p>1455564 rows × 10 columns</p>\n",
              "</div>"
            ],
            "text/plain": [
              "         tweet_id  ... trust\n",
              "0        0x376b20  ...     0\n",
              "1        0x2d5350  ...     0\n",
              "2        0x1cd5b0  ...     0\n",
              "3        0x1d755c  ...     0\n",
              "4        0x2c91a8  ...     0\n",
              "...           ...  ...   ...\n",
              "1455559  0x321566  ...     0\n",
              "1455560  0x38959e  ...     0\n",
              "1455561  0x2cbca6  ...     0\n",
              "1455562  0x24faed  ...     0\n",
              "1455563  0x34be8c  ...     0\n",
              "\n",
              "[1455564 rows x 10 columns]"
            ]
          },
          "metadata": {
            "tags": []
          },
          "execution_count": 95
        }
      ]
    }
  ]
}