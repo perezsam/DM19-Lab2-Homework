{
  "nbformat": 4,
  "nbformat_minor": 0,
  "metadata": {
    "kernelspec": {
      "name": "python3",
      "display_name": "Python 3"
    },
    "language_info": {
      "codemirror_mode": {
        "name": "ipython",
        "version": 3
      },
      "file_extension": ".py",
      "mimetype": "text/x-python",
      "name": "python",
      "nbconvert_exporter": "python",
      "pygments_lexer": "ipython3",
      "version": "3.7.4"
    },
    "varInspector": {
      "cols": {
        "lenName": 16,
        "lenType": 16,
        "lenVar": 40
      },
      "kernels_config": {
        "python": {
          "delete_cmd_postfix": "",
          "delete_cmd_prefix": "del ",
          "library": "var_list.py",
          "varRefreshCmd": "print(var_dic_list())"
        },
        "r": {
          "delete_cmd_postfix": ") ",
          "delete_cmd_prefix": "rm(",
          "library": "var_list.r",
          "varRefreshCmd": "cat(var_dic_list()) "
        }
      },
      "oldHeight": 594.85,
      "position": {
        "height": "40px",
        "left": "723px",
        "right": "20px",
        "top": "80px",
        "width": "250px"
      },
      "types_to_exclude": [
        "module",
        "function",
        "builtin_function_or_method",
        "instance",
        "_Feature"
      ],
      "varInspector_section_display": "none",
      "window_display": true
    },
    "colab": {
      "name": "lab2_take_home_exercises.ipynb",
      "provenance": [],
      "toc_visible": true,
      "machine_shape": "hm",
      "include_colab_link": true
    },
    "accelerator": "GPU"
  },
  "cells": [
    {
      "cell_type": "markdown",
      "metadata": {
        "id": "view-in-github",
        "colab_type": "text"
      },
      "source": [
        "<a href=\"https://colab.research.google.com/github/perezsam/DM19-Lab2-Homework/blob/master/lab2_take_home_exercises.ipynb\" target=\"_parent\"><img src=\"https://colab.research.google.com/assets/colab-badge.svg\" alt=\"Open In Colab\"/></a>"
      ]
    },
    {
      "cell_type": "markdown",
      "metadata": {
        "id": "4RShqvgwx6q9",
        "colab_type": "text"
      },
      "source": [
        "---\n",
        "## 1. Data Preparation"
      ]
    },
    {
      "cell_type": "markdown",
      "metadata": {
        "id": "qshRKCNSx6rF",
        "colab_type": "text"
      },
      "source": [
        "### 1.1 Load data\n",
        "\n",
        "We start by loading the csv files into a single pandas dataframe for training and one for testing."
      ]
    },
    {
      "cell_type": "markdown",
      "metadata": {
        "id": "gjGBl7TdeqCF",
        "colab_type": "text"
      },
      "source": [
        "Working on Google Colab, we start by mounting our google drive."
      ]
    },
    {
      "cell_type": "code",
      "metadata": {
        "id": "d5Sw8SFi0RCN",
        "colab_type": "code",
        "outputId": "bb23b71d-24a4-4e5b-907a-e1fab1b7d4e1",
        "colab": {
          "base_uri": "https://localhost:8080/",
          "height": 122
        }
      },
      "source": [
        "# Load the Drive helper and mount\n",
        "from google.colab import drive\n",
        "\n",
        "# This will prompt for authorization.\n",
        "drive.mount('/content/drive')"
      ],
      "execution_count": 2,
      "outputs": [
        {
          "output_type": "stream",
          "text": [
            "Go to this URL in a browser: https://accounts.google.com/o/oauth2/auth?client_id=947318989803-6bn6qk8qdgf4n4g3pfee6491hc0brc4i.apps.googleusercontent.com&redirect_uri=urn%3aietf%3awg%3aoauth%3a2.0%3aoob&response_type=code&scope=email%20https%3a%2f%2fwww.googleapis.com%2fauth%2fdocs.test%20https%3a%2f%2fwww.googleapis.com%2fauth%2fdrive%20https%3a%2f%2fwww.googleapis.com%2fauth%2fdrive.photos.readonly%20https%3a%2f%2fwww.googleapis.com%2fauth%2fpeopleapi.readonly\n",
            "\n",
            "Enter your authorization code:\n",
            "··········\n",
            "Mounted at /content/drive\n"
          ],
          "name": "stdout"
        }
      ]
    },
    {
      "cell_type": "code",
      "metadata": {
        "id": "RJiBCdOT0TXT",
        "colab_type": "code",
        "outputId": "4ad23e73-2ac3-4218-963f-57666faae90e",
        "colab": {
          "base_uri": "https://localhost:8080/",
          "height": 34
        }
      },
      "source": [
        "# After executing the cell above, Drive\n",
        "# files will be present in \"/content/drive/My Drive\".\n",
        "!ls \"/content/drive/My Drive/dm_hw2/data/semeval\""
      ],
      "execution_count": 3,
      "outputs": [
        {
          "output_type": "stream",
          "text": [
            "dev  train\n"
          ],
          "name": "stdout"
        }
      ]
    },
    {
      "cell_type": "markdown",
      "metadata": {
        "id": "JHehpBjdfDer",
        "colab_type": "text"
      },
      "source": [
        "Load dataset from drive"
      ]
    },
    {
      "cell_type": "code",
      "metadata": {
        "id": "8EvnMA5Qx6rI",
        "colab_type": "code",
        "colab": {}
      },
      "source": [
        "import pandas as pd\n",
        "\n",
        "### training data\n",
        "anger_train = pd.read_csv(\"/content/drive/My Drive/dm_hw2/data/semeval/train/anger-ratings-0to1.train.txt\",\n",
        "                         sep=\"\\t\", header=None,names=[\"id\", \"text\", \"emotion\", \"intensity\"])\n",
        "sadness_train = pd.read_csv(\"/content/drive/My Drive/dm_hw2/data/semeval/train/sadness-ratings-0to1.train.txt\",\n",
        "                         sep=\"\\t\", header=None, names=[\"id\", \"text\", \"emotion\", \"intensity\"])\n",
        "fear_train = pd.read_csv(\"/content/drive/My Drive/dm_hw2/data/semeval/train/fear-ratings-0to1.train.txt\",\n",
        "                         sep=\"\\t\", header=None, names=[\"id\", \"text\", \"emotion\", \"intensity\"])\n",
        "joy_train = pd.read_csv(\"/content/drive/My Drive/dm_hw2/data/semeval/train/joy-ratings-0to1.train.txt\",\n",
        "                         sep=\"\\t\", header=None, names=[\"id\", \"text\", \"emotion\", \"intensity\"])"
      ],
      "execution_count": 0,
      "outputs": []
    },
    {
      "cell_type": "code",
      "metadata": {
        "id": "Di85DKS0x6rW",
        "colab_type": "code",
        "colab": {}
      },
      "source": [
        "# combine 4 sub-dataset\n",
        "train_df = pd.concat([anger_train, fear_train, joy_train, sadness_train], ignore_index=True)"
      ],
      "execution_count": 0,
      "outputs": []
    },
    {
      "cell_type": "code",
      "metadata": {
        "id": "zfic8QHqx6rh",
        "colab_type": "code",
        "outputId": "f5d56624-0e7f-40ec-a1e7-bb61ddc1908b",
        "colab": {
          "base_uri": "https://localhost:8080/",
          "height": 204
        }
      },
      "source": [
        "### testing data\n",
        "anger_test = pd.read_csv(\"/content/drive/My Drive/dm_hw2/data/semeval/dev/anger-ratings-0to1.dev.gold.txt\",\n",
        "                         sep=\"\\t\", header=None, names=[\"id\", \"text\", \"emotion\", \"intensity\"])\n",
        "sadness_test = pd.read_csv(\"/content/drive/My Drive/dm_hw2/data/semeval/dev/sadness-ratings-0to1.dev.gold.txt\",\n",
        "                         sep=\"\\t\", header=None, names=[\"id\", \"text\", \"emotion\", \"intensity\"])\n",
        "fear_test = pd.read_csv(\"/content/drive/My Drive/dm_hw2/data/semeval/dev/fear-ratings-0to1.dev.gold.txt\",\n",
        "                         sep=\"\\t\", header=None, names=[\"id\", \"text\", \"emotion\", \"intensity\"])\n",
        "joy_test = pd.read_csv(\"/content/drive/My Drive/dm_hw2/data/semeval/dev/joy-ratings-0to1.dev.gold.txt\",\n",
        "                         sep=\"\\t\", header=None, names=[\"id\", \"text\", \"emotion\", \"intensity\"])\n",
        "\n",
        "# combine 4 sub-dataset\n",
        "test_df = pd.concat([anger_test, fear_test, joy_test, sadness_test], ignore_index=True)\n",
        "train_df.head()"
      ],
      "execution_count": 6,
      "outputs": [
        {
          "output_type": "execute_result",
          "data": {
            "text/html": [
              "<div>\n",
              "<style scoped>\n",
              "    .dataframe tbody tr th:only-of-type {\n",
              "        vertical-align: middle;\n",
              "    }\n",
              "\n",
              "    .dataframe tbody tr th {\n",
              "        vertical-align: top;\n",
              "    }\n",
              "\n",
              "    .dataframe thead th {\n",
              "        text-align: right;\n",
              "    }\n",
              "</style>\n",
              "<table border=\"1\" class=\"dataframe\">\n",
              "  <thead>\n",
              "    <tr style=\"text-align: right;\">\n",
              "      <th></th>\n",
              "      <th>id</th>\n",
              "      <th>text</th>\n",
              "      <th>emotion</th>\n",
              "      <th>intensity</th>\n",
              "    </tr>\n",
              "  </thead>\n",
              "  <tbody>\n",
              "    <tr>\n",
              "      <th>0</th>\n",
              "      <td>10000</td>\n",
              "      <td>How the fu*k! Who the heck! moved my fridge!.....</td>\n",
              "      <td>anger</td>\n",
              "      <td>0.938</td>\n",
              "    </tr>\n",
              "    <tr>\n",
              "      <th>1</th>\n",
              "      <td>10001</td>\n",
              "      <td>So my Indian Uber driver just called someone t...</td>\n",
              "      <td>anger</td>\n",
              "      <td>0.896</td>\n",
              "    </tr>\n",
              "    <tr>\n",
              "      <th>2</th>\n",
              "      <td>10002</td>\n",
              "      <td>@DPD_UK I asked for my parcel to be delivered ...</td>\n",
              "      <td>anger</td>\n",
              "      <td>0.896</td>\n",
              "    </tr>\n",
              "    <tr>\n",
              "      <th>3</th>\n",
              "      <td>10003</td>\n",
              "      <td>so ef whichever butt wipe pulled the fire alar...</td>\n",
              "      <td>anger</td>\n",
              "      <td>0.896</td>\n",
              "    </tr>\n",
              "    <tr>\n",
              "      <th>4</th>\n",
              "      <td>10004</td>\n",
              "      <td>Don't join @BTCare they put the phone down on ...</td>\n",
              "      <td>anger</td>\n",
              "      <td>0.896</td>\n",
              "    </tr>\n",
              "  </tbody>\n",
              "</table>\n",
              "</div>"
            ],
            "text/plain": [
              "      id                                               text emotion  intensity\n",
              "0  10000  How the fu*k! Who the heck! moved my fridge!.....   anger      0.938\n",
              "1  10001  So my Indian Uber driver just called someone t...   anger      0.896\n",
              "2  10002  @DPD_UK I asked for my parcel to be delivered ...   anger      0.896\n",
              "3  10003  so ef whichever butt wipe pulled the fire alar...   anger      0.896\n",
              "4  10004  Don't join @BTCare they put the phone down on ...   anger      0.896"
            ]
          },
          "metadata": {
            "tags": []
          },
          "execution_count": 6
        }
      ]
    },
    {
      "cell_type": "code",
      "metadata": {
        "id": "VnITvQLEx6rx",
        "colab_type": "code",
        "colab": {}
      },
      "source": [
        "# shuffle dataset\n",
        "train_df = train_df.sample(frac=1)\n",
        "test_df = test_df.sample(frac=1)"
      ],
      "execution_count": 0,
      "outputs": []
    },
    {
      "cell_type": "code",
      "metadata": {
        "scrolled": true,
        "id": "jtdrGRlSx6r7",
        "colab_type": "code",
        "outputId": "95f19845-0cc4-49d7-c92d-69d8a68e3327",
        "colab": {
          "base_uri": "https://localhost:8080/",
          "height": 51
        }
      },
      "source": [
        "print(\"Shape of Training df: \", train_df.shape)\n",
        "print(\"Shape of Testing df: \", test_df.shape)"
      ],
      "execution_count": 8,
      "outputs": [
        {
          "output_type": "stream",
          "text": [
            "Shape of Training df:  (3613, 4)\n",
            "Shape of Testing df:  (347, 4)\n"
          ],
          "name": "stdout"
        }
      ]
    },
    {
      "cell_type": "markdown",
      "metadata": {
        "id": "10CbIECBx6sH",
        "colab_type": "text"
      },
      "source": [
        "---\n",
        "### **Exercise 1 (Take home):**  \n",
        "Plot word frequency for Top 30 words in both train and test dataset. (Hint: refer to DM lab 1)\n"
      ]
    },
    {
      "cell_type": "markdown",
      "metadata": {
        "id": "QYG-NLgwfmmI",
        "colab_type": "text"
      },
      "source": [
        "Rather than just getting the top 30 words in both datasets, I performed some simple text preprocessing to get more meaningful terms. After the text preprocessing, I proceed by plotting the top unigrams (most frequent words) and top bigrams in both training and testing dataset.\n",
        "\n",
        "Text preprocessing include: \n",
        "- Remove punctuations\n",
        "- Remove tags\n",
        "- Remove special characters and digits\n",
        "- Stemming\n",
        "- Lemmatization \n"
      ]
    },
    {
      "cell_type": "code",
      "metadata": {
        "id": "Knvpv7ne4sGV",
        "colab_type": "code",
        "outputId": "676f79b7-c56e-4896-d432-6165087e8b1d",
        "colab": {
          "base_uri": "https://localhost:8080/",
          "height": 102
        }
      },
      "source": [
        "# libraries for text preprocessing\n",
        "import re\n",
        "import nltk\n",
        "from nltk.corpus import stopwords\n",
        "from nltk.stem.porter import PorterStemmer\n",
        "from nltk.stem.wordnet import WordNetLemmatizer\n",
        "nltk.download('stopwords')\n",
        "nltk.download('wordnet') "
      ],
      "execution_count": 9,
      "outputs": [
        {
          "output_type": "stream",
          "text": [
            "[nltk_data] Downloading package stopwords to /root/nltk_data...\n",
            "[nltk_data]   Unzipping corpora/stopwords.zip.\n",
            "[nltk_data] Downloading package wordnet to /root/nltk_data...\n",
            "[nltk_data]   Unzipping corpora/wordnet.zip.\n"
          ],
          "name": "stdout"
        },
        {
          "output_type": "execute_result",
          "data": {
            "text/plain": [
              "True"
            ]
          },
          "metadata": {
            "tags": []
          },
          "execution_count": 9
        }
      ]
    },
    {
      "cell_type": "code",
      "metadata": {
        "id": "bMpv_Q0X4y4c",
        "colab_type": "code",
        "colab": {}
      },
      "source": [
        "## creating a list of stopword\n",
        "stop_words = stopwords.words(\"english\")"
      ],
      "execution_count": 0,
      "outputs": []
    },
    {
      "cell_type": "code",
      "metadata": {
        "id": "aAXMvIwz5pbR",
        "colab_type": "code",
        "colab": {}
      },
      "source": [
        "## function to perform some basic text preprocessing\n",
        "def clean_text_corpus(data_df):\n",
        "  corpus = []\n",
        "  for (i, row) in enumerate(data_df.values):\n",
        "  \n",
        "    #Remove punctuations\n",
        "    text = re.sub('[^a-zA-Z]', ' ', row[1])\n",
        "\n",
        "    #Convert to lowercase\n",
        "    text = text.lower()\n",
        "\n",
        "    #remove tags\n",
        "    text=re.sub(\"&lt;/?.*?&gt;\",\" &lt;&gt; \",text)\n",
        "\n",
        "    # remove special characters and digits\n",
        "    text=re.sub(\"(\\\\d|\\\\W)+\",\" \",text)\n",
        "    \n",
        "    ##Convert to list from string\n",
        "    text = text.split()\n",
        "    \n",
        "    ##Stemming\n",
        "    ps=PorterStemmer()\n",
        "\n",
        "    #Lemmatisation\n",
        "    lem = WordNetLemmatizer()\n",
        "    text = [lem.lemmatize(word) for word in text if not word in stop_words] \n",
        "    text = \" \".join(text)\n",
        "\n",
        "    corpus.append(text)\n",
        "    \n",
        "  return corpus"
      ],
      "execution_count": 0,
      "outputs": []
    },
    {
      "cell_type": "code",
      "metadata": {
        "id": "vx7sqZvsD0yu",
        "colab_type": "code",
        "colab": {}
      },
      "source": [
        "## clean text for both training and testing dataset using our function\n",
        "train_corpus = clean_text_corpus(train_df)\n",
        "test_corpus = clean_text_corpus(test_df)"
      ],
      "execution_count": 0,
      "outputs": []
    },
    {
      "cell_type": "markdown",
      "metadata": {
        "id": "0Ne5sY1NirtY",
        "colab_type": "text"
      },
      "source": [
        "Define our functions to obtain the top *n* unigrams and bigrams"
      ]
    },
    {
      "cell_type": "code",
      "metadata": {
        "id": "1KE9Q0UVHG7H",
        "colab_type": "code",
        "colab": {}
      },
      "source": [
        "from sklearn.feature_extraction.text import CountVectorizer\n",
        "import seaborn as sns"
      ],
      "execution_count": 0,
      "outputs": []
    },
    {
      "cell_type": "code",
      "metadata": {
        "id": "gTZvpAOUB0Z9",
        "colab_type": "code",
        "colab": {}
      },
      "source": [
        "# most frequently occuring words\n",
        "def get_top_n_words(corpus, n=None):\n",
        "    vec = CountVectorizer().fit(corpus)\n",
        "    bag_of_words = vec.transform(corpus)\n",
        "    sum_words = bag_of_words.sum(axis=0) \n",
        "    words_freq = [(word, sum_words[0, idx]) for word, idx in      \n",
        "                   vec.vocabulary_.items()]\n",
        "    words_freq =sorted(words_freq, key = lambda x: x[1], \n",
        "                       reverse=True)\n",
        "    return words_freq[:n]"
      ],
      "execution_count": 0,
      "outputs": []
    },
    {
      "cell_type": "code",
      "metadata": {
        "id": "APMKCqRDKP-7",
        "colab_type": "code",
        "colab": {}
      },
      "source": [
        "# most frequently occuring Bi-grams\n",
        "def get_top_n2_words(corpus, n=None):\n",
        "    vec1 = CountVectorizer(ngram_range=(2,2),  \n",
        "            max_features=2000).fit(corpus)\n",
        "    bag_of_words = vec1.transform(corpus)\n",
        "    sum_words = bag_of_words.sum(axis=0) \n",
        "    words_freq = [(word, sum_words[0, idx]) for word, idx in     \n",
        "                  vec1.vocabulary_.items()]\n",
        "    words_freq =sorted(words_freq, key = lambda x: x[1], \n",
        "                reverse=True)\n",
        "    return words_freq[:n]"
      ],
      "execution_count": 0,
      "outputs": []
    },
    {
      "cell_type": "markdown",
      "metadata": {
        "id": "JSQ8tsfAjK37",
        "colab_type": "text"
      },
      "source": [
        "Plot the top 30 unigrams and bigrams in our training dataset"
      ]
    },
    {
      "cell_type": "code",
      "metadata": {
        "id": "FqTHnr3oKbO0",
        "colab_type": "code",
        "outputId": "47b7d293-5784-4465-d36f-c26a16e01e2c",
        "colab": {
          "base_uri": "https://localhost:8080/",
          "height": 553
        }
      },
      "source": [
        "## plot the top 30 most freq words in train dataset\n",
        "train_top_words = get_top_n_words(train_corpus, n=30)\n",
        "train_top_df = pd.DataFrame(train_top_words)\n",
        "train_top_df.columns=[\"Word\", \"Freq\"]\n",
        "\n",
        "# barplot of most freq words\n",
        "sns.set(rc={'figure.figsize':(13,8)})\n",
        "g = sns.barplot(x=\"Word\", y=\"Freq\", data=train_top_df)\n",
        "g.set_xticklabels(g.get_xticklabels(), rotation=30)\n",
        "g.set_title(\"Top 30 words in train dataset\")"
      ],
      "execution_count": 16,
      "outputs": [
        {
          "output_type": "execute_result",
          "data": {
            "text/plain": [
              "Text(0.5, 1.0, 'Top 30 words in train dataset')"
            ]
          },
          "metadata": {
            "tags": []
          },
          "execution_count": 16
        },
        {
          "output_type": "display_data",
          "data": {
            "image/png": "[encoded data removed]",
            "text/plain": [
              "<Figure size 936x576 with 1 Axes>"
            ]
          },
          "metadata": {
            "tags": []
          }
        }
      ]
    },
    {
      "cell_type": "code",
      "metadata": {
        "id": "ZZ9io8FDB0Uy",
        "colab_type": "code",
        "outputId": "c6e5154f-8c06-4882-b54f-6c0fab8a2959",
        "colab": {
          "base_uri": "https://localhost:8080/",
          "height": 621
        }
      },
      "source": [
        "## plot the top 30 bigrams in train dataset\n",
        "train_top2_words = get_top_n2_words(train_corpus, n=30)\n",
        "train_top2_df = pd.DataFrame(train_top2_words)\n",
        "train_top2_df.columns=[\"Bi-gram\", \"Freq\"]\n",
        "\n",
        "# barplot of most freq Bi-grams\n",
        "sns.set(rc={'figure.figsize':(13,8)})\n",
        "h=sns.barplot(x=\"Bi-gram\", y=\"Freq\", data=train_top2_df)\n",
        "h.set_xticklabels(h.get_xticklabels(), rotation=80)\n",
        "h.set_title(\"Top 30 bigrams in train dataset\")"
      ],
      "execution_count": 17,
      "outputs": [
        {
          "output_type": "execute_result",
          "data": {
            "text/plain": [
              "Text(0.5, 1.0, 'Top 30 bigrams in train dataset')"
            ]
          },
          "metadata": {
            "tags": []
          },
          "execution_count": 17
        },
        {
          "output_type": "display_data",
          "data": {
            "image/png": "[encoded data removed]",
            "text/plain": [
              "<Figure size 936x576 with 1 Axes>"
            ]
          },
          "metadata": {
            "tags": []
          }
        }
      ]
    },
    {
      "cell_type": "markdown",
      "metadata": {
        "id": "gJW1hT0KjjBs",
        "colab_type": "text"
      },
      "source": [
        "Plot the top 30 unigrams and bigrams in our testing dataset"
      ]
    },
    {
      "cell_type": "code",
      "metadata": {
        "id": "QHAzGESQB0RJ",
        "colab_type": "code",
        "outputId": "6dcfd339-1121-41fd-93d6-5f154a017928",
        "colab": {
          "base_uri": "https://localhost:8080/",
          "height": 553
        }
      },
      "source": [
        "## plot top 30 words in test dataset\n",
        "test_top_words = get_top_n_words(test_corpus, n=30)\n",
        "test_top_df = pd.DataFrame(test_top_words)\n",
        "test_top_df.columns=[\"Word\", \"Freq\"]\n",
        "\n",
        "# barplot of most freq words\n",
        "sns.set(rc={'figure.figsize':(13,8)})\n",
        "g = sns.barplot(x=\"Word\", y=\"Freq\", data=test_top_df)\n",
        "g.set_xticklabels(g.get_xticklabels(), rotation=30)\n",
        "g.set_title(\"Top 30 words in test dataset\")"
      ],
      "execution_count": 18,
      "outputs": [
        {
          "output_type": "execute_result",
          "data": {
            "text/plain": [
              "Text(0.5, 1.0, 'Top 30 words in test dataset')"
            ]
          },
          "metadata": {
            "tags": []
          },
          "execution_count": 18
        },
        {
          "output_type": "display_data",
          "data": {
            "image/png": "[encoded data removed]",
            "text/plain": [
              "<Figure size 936x576 with 1 Axes>"
            ]
          },
          "metadata": {
            "tags": []
          }
        }
      ]
    },
    {
      "cell_type": "code",
      "metadata": {
        "id": "4WC7nl_iB0Nz",
        "colab_type": "code",
        "outputId": "3478037f-c33d-4d46-c8ec-9434cf26598f",
        "colab": {
          "base_uri": "https://localhost:8080/",
          "height": 697
        }
      },
      "source": [
        "## plot top 30 bigrams in test dataset\n",
        "test_top2_words = get_top_n2_words(test_corpus, n=30)\n",
        "test_top2_df = pd.DataFrame(test_top2_words)\n",
        "test_top2_df.columns=[\"Bi-gram\", \"Freq\"]\n",
        "\n",
        "# barplot of most freq Bi-grams\n",
        "sns.set(rc={'figure.figsize':(13,8)})\n",
        "h=sns.barplot(x=\"Bi-gram\", y=\"Freq\", data=test_top2_df)\n",
        "h.set_xticklabels(h.get_xticklabels(), rotation=80)\n",
        "h.set_title(\"Top 30 bigrams in test dataset\")"
      ],
      "execution_count": 19,
      "outputs": [
        {
          "output_type": "execute_result",
          "data": {
            "text/plain": [
              "Text(0.5, 1.0, 'Top 30 bigrams in test dataset')"
            ]
          },
          "metadata": {
            "tags": []
          },
          "execution_count": 19
        },
        {
          "output_type": "display_data",
          "data": {
            "image/png": "[encoded data removed]",
            "text/plain": [
              "<Figure size 936x576 with 1 Axes>"
            ]
          },
          "metadata": {
            "tags": []
          }
        }
      ]
    },
    {
      "cell_type": "markdown",
      "metadata": {
        "id": "xF6sPKYlx6sU",
        "colab_type": "text"
      },
      "source": [
        "---\n",
        "### 1.2 Save data"
      ]
    },
    {
      "cell_type": "code",
      "metadata": {
        "id": "Hj_F1w_Zx6sb",
        "colab_type": "code",
        "colab": {}
      },
      "source": [
        "## save to pickle file\n",
        "train_df.to_pickle(\"train_df.pkl\") \n",
        "test_df.to_pickle(\"test_df.pkl\")"
      ],
      "execution_count": 0,
      "outputs": []
    },
    {
      "cell_type": "code",
      "metadata": {
        "id": "x7ZHGhM6x6sl",
        "colab_type": "code",
        "colab": {}
      },
      "source": [
        "## load a pickle file\n",
        "train_df = pd.read_pickle(\"train_df.pkl\")\n",
        "test_df = pd.read_pickle(\"test_df.pkl\")"
      ],
      "execution_count": 0,
      "outputs": []
    },
    {
      "cell_type": "markdown",
      "metadata": {
        "id": "RCaiu44Mx6tP",
        "colab_type": "text"
      },
      "source": [
        "## 2. Feature engineering"
      ]
    },
    {
      "cell_type": "code",
      "metadata": {
        "id": "JYD3SBD-eEUe",
        "colab_type": "code",
        "colab": {}
      },
      "source": [
        "# build analyzers (bag-of-words)\n",
        "BOW_vectorizer = CountVectorizer()\n",
        "# 1. Learn a vocabulary dictionary of all tokens in the raw documents.\n",
        "BOW_vectorizer.fit(train_df['text'])\n",
        "\n",
        "# 2. Transform documents to document-term matrix.\n",
        "train_data_BOW_features = BOW_vectorizer.transform(train_df['text'])\n",
        "test_data_BOW_features = BOW_vectorizer.transform(test_df['text'])"
      ],
      "execution_count": 0,
      "outputs": []
    },
    {
      "cell_type": "code",
      "metadata": {
        "id": "vw_2lqPZeEPM",
        "colab_type": "code",
        "outputId": "92e7c6f7-f4fa-441f-9df1-37c2c1b3557f",
        "colab": {
          "base_uri": "https://localhost:8080/",
          "height": 51
        }
      },
      "source": [
        "# check the result\n",
        "train_data_BOW_features"
      ],
      "execution_count": 23,
      "outputs": [
        {
          "output_type": "execute_result",
          "data": {
            "text/plain": [
              "<3613x10115 sparse matrix of type '<class 'numpy.int64'>'\n",
              "\twith 51467 stored elements in Compressed Sparse Row format>"
            ]
          },
          "metadata": {
            "tags": []
          },
          "execution_count": 23
        }
      ]
    },
    {
      "cell_type": "code",
      "metadata": {
        "id": "yT625BKseEI4",
        "colab_type": "code",
        "outputId": "2ce8207f-89a3-4e8f-d94b-296b5fe0c54e",
        "colab": {
          "base_uri": "https://localhost:8080/",
          "height": 34
        }
      },
      "source": [
        "type(train_data_BOW_features)"
      ],
      "execution_count": 24,
      "outputs": [
        {
          "output_type": "execute_result",
          "data": {
            "text/plain": [
              "scipy.sparse.csr.csr_matrix"
            ]
          },
          "metadata": {
            "tags": []
          },
          "execution_count": 24
        }
      ]
    },
    {
      "cell_type": "code",
      "metadata": {
        "id": "LR1j0k9XeT75",
        "colab_type": "code",
        "outputId": "e644a074-27fc-4223-888d-2b2c522d9012",
        "colab": {
          "base_uri": "https://localhost:8080/",
          "height": 136
        }
      },
      "source": [
        "# add .toarray() to show\n",
        "train_data_BOW_features.toarray()"
      ],
      "execution_count": 25,
      "outputs": [
        {
          "output_type": "execute_result",
          "data": {
            "text/plain": [
              "array([[0, 0, 0, ..., 0, 0, 0],\n",
              "       [0, 0, 0, ..., 0, 0, 0],\n",
              "       [0, 0, 0, ..., 0, 0, 0],\n",
              "       ...,\n",
              "       [0, 0, 0, ..., 0, 0, 0],\n",
              "       [0, 0, 0, ..., 0, 0, 0],\n",
              "       [0, 0, 0, ..., 0, 0, 0]])"
            ]
          },
          "metadata": {
            "tags": []
          },
          "execution_count": 25
        }
      ]
    },
    {
      "cell_type": "code",
      "metadata": {
        "id": "wDLgkLwKeUQJ",
        "colab_type": "code",
        "outputId": "19445eb0-f0de-474a-ff24-0275a5e9f065",
        "colab": {
          "base_uri": "https://localhost:8080/",
          "height": 34
        }
      },
      "source": [
        "# check the dimension\n",
        "train_data_BOW_features.shape"
      ],
      "execution_count": 26,
      "outputs": [
        {
          "output_type": "execute_result",
          "data": {
            "text/plain": [
              "(3613, 10115)"
            ]
          },
          "metadata": {
            "tags": []
          },
          "execution_count": 26
        }
      ]
    },
    {
      "cell_type": "code",
      "metadata": {
        "id": "vGByEfTmeUv_",
        "colab_type": "code",
        "outputId": "61cce8ce-94a6-480f-e864-0d965114d7d7",
        "colab": {
          "base_uri": "https://localhost:8080/",
          "height": 34
        }
      },
      "source": [
        "# observe some feature names\n",
        "feature_names = BOW_vectorizer.get_feature_names()\n",
        "feature_names[100:110]"
      ],
      "execution_count": 27,
      "outputs": [
        {
          "output_type": "execute_result",
          "data": {
            "text/plain": [
              "['2k17', '2much', '2nd', '30', '300', '301', '30am', '30pm', '30s', '31']"
            ]
          },
          "metadata": {
            "tags": []
          },
          "execution_count": 27
        }
      ]
    },
    {
      "cell_type": "code",
      "metadata": {
        "id": "5odr5GTXeUsD",
        "colab_type": "code",
        "outputId": "426d15a8-63be-4f5a-c81e-ccfa3cbdca18",
        "colab": {
          "base_uri": "https://localhost:8080/",
          "height": 34
        }
      },
      "source": [
        "\"😂\" in feature_names"
      ],
      "execution_count": 28,
      "outputs": [
        {
          "output_type": "execute_result",
          "data": {
            "text/plain": [
              "False"
            ]
          },
          "metadata": {
            "tags": []
          },
          "execution_count": 28
        }
      ]
    },
    {
      "cell_type": "markdown",
      "metadata": {
        "id": "HplgirlsenGx",
        "colab_type": "text"
      },
      "source": [
        "Let's try using another tokenizer below."
      ]
    },
    {
      "cell_type": "code",
      "metadata": {
        "id": "ID6T0CYIeUoK",
        "colab_type": "code",
        "outputId": "1b40f675-47bd-4fdc-a91c-d118a3689445",
        "colab": {
          "base_uri": "https://localhost:8080/",
          "height": 68
        }
      },
      "source": [
        "import nltk\n",
        "nltk.download('punkt')"
      ],
      "execution_count": 29,
      "outputs": [
        {
          "output_type": "stream",
          "text": [
            "[nltk_data] Downloading package punkt to /root/nltk_data...\n",
            "[nltk_data]   Unzipping tokenizers/punkt.zip.\n"
          ],
          "name": "stdout"
        },
        {
          "output_type": "execute_result",
          "data": {
            "text/plain": [
              "True"
            ]
          },
          "metadata": {
            "tags": []
          },
          "execution_count": 29
        }
      ]
    },
    {
      "cell_type": "code",
      "metadata": {
        "id": "NAmfJ8VneUjx",
        "colab_type": "code",
        "outputId": "a7f35375-5c20-4b3f-ffda-238807188641",
        "colab": {
          "base_uri": "https://localhost:8080/",
          "height": 34
        }
      },
      "source": [
        "# build analyzers (bag-of-words)\n",
        "BOW_500 = CountVectorizer(max_features=500, tokenizer=nltk.word_tokenize) #nltk.word_tokenize to keep the emoticons\n",
        "\n",
        "# apply analyzer to training data\n",
        "BOW_500.fit(train_df['text'])\n",
        "\n",
        "train_data_BOW_features_500 = BOW_500.transform(train_df['text'])\n",
        "\n",
        "## check dimension\n",
        "train_data_BOW_features_500.shape"
      ],
      "execution_count": 30,
      "outputs": [
        {
          "output_type": "execute_result",
          "data": {
            "text/plain": [
              "(3613, 500)"
            ]
          },
          "metadata": {
            "tags": []
          },
          "execution_count": 30
        }
      ]
    },
    {
      "cell_type": "code",
      "metadata": {
        "id": "EdOo3CGueT3z",
        "colab_type": "code",
        "outputId": "8a7281a7-4e18-4c31-8438-d761b50548eb",
        "colab": {
          "base_uri": "https://localhost:8080/",
          "height": 136
        }
      },
      "source": [
        "train_data_BOW_features_500.toarray()"
      ],
      "execution_count": 31,
      "outputs": [
        {
          "output_type": "execute_result",
          "data": {
            "text/plain": [
              "array([[0, 0, 0, ..., 0, 0, 0],\n",
              "       [3, 1, 0, ..., 0, 0, 0],\n",
              "       [0, 1, 0, ..., 0, 0, 0],\n",
              "       ...,\n",
              "       [4, 0, 0, ..., 0, 0, 0],\n",
              "       [0, 1, 0, ..., 0, 0, 0],\n",
              "       [0, 1, 0, ..., 0, 0, 0]])"
            ]
          },
          "metadata": {
            "tags": []
          },
          "execution_count": 31
        }
      ]
    },
    {
      "cell_type": "code",
      "metadata": {
        "id": "7bjvrpazeTzT",
        "colab_type": "code",
        "outputId": "637bc0a7-9b5a-4a3f-cb19-d1792def2bdd",
        "colab": {
          "base_uri": "https://localhost:8080/",
          "height": 187
        }
      },
      "source": [
        "# observe some feature names\n",
        "feature_names_500 = BOW_500.get_feature_names()\n",
        "feature_names_500[100:110]"
      ],
      "execution_count": 32,
      "outputs": [
        {
          "output_type": "execute_result",
          "data": {
            "text/plain": [
              "['cheerful',\n",
              " 'cheering',\n",
              " 'cheery',\n",
              " 'come',\n",
              " 'comes',\n",
              " 'could',\n",
              " 'country',\n",
              " 'cry',\n",
              " 'crying',\n",
              " 'customer']"
            ]
          },
          "metadata": {
            "tags": []
          },
          "execution_count": 32
        }
      ]
    },
    {
      "cell_type": "code",
      "metadata": {
        "id": "xw5c56LweTuE",
        "colab_type": "code",
        "outputId": "09f4efa1-7484-4b2c-c183-89e244505826",
        "colab": {
          "base_uri": "https://localhost:8080/",
          "height": 34
        }
      },
      "source": [
        "\"😂\" in feature_names_500"
      ],
      "execution_count": 33,
      "outputs": [
        {
          "output_type": "execute_result",
          "data": {
            "text/plain": [
              "True"
            ]
          },
          "metadata": {
            "tags": []
          },
          "execution_count": 33
        }
      ]
    },
    {
      "cell_type": "markdown",
      "metadata": {
        "id": "vMt6nnLbx6vz",
        "colab_type": "text"
      },
      "source": [
        "---\n",
        "### **Exercise 2 (Take home):**  \n",
        "Generate an embedding using the TF-IDF vectorizer instead of th BOW one with 1000 features and show the feature names for features [100:110]."
      ]
    },
    {
      "cell_type": "markdown",
      "metadata": {
        "id": "0hMVNGscj3xg",
        "colab_type": "text"
      },
      "source": [
        "Embedding using TF-IDF vectorizer with 1000 features for **training dataset**"
      ]
    },
    {
      "cell_type": "code",
      "metadata": {
        "id": "eReaZZyzx6v2",
        "colab_type": "code",
        "outputId": "bfefb31b-e0a1-4d61-bbb2-cea7202c40c2",
        "colab": {
          "base_uri": "https://localhost:8080/",
          "height": 34
        }
      },
      "source": [
        "# import TfidfVectorizer\n",
        "from sklearn.feature_extraction.text import TfidfVectorizer\n",
        "\n",
        "# get training dataset corpus\n",
        "train_dataset_corpus = train_df['text']\n",
        "\n",
        "train_tfidf = TfidfVectorizer(max_features = 1000, tokenizer=nltk.word_tokenize)\n",
        "train_tfidf.fit(train_dataset_corpus)\n",
        "\n",
        "train_tfidf_features = train_tfidf.transform(train_dataset_corpus)\n",
        "print (train_tfidf_features.shape)"
      ],
      "execution_count": 38,
      "outputs": [
        {
          "output_type": "stream",
          "text": [
            "(3613, 1000)\n"
          ],
          "name": "stdout"
        }
      ]
    },
    {
      "cell_type": "code",
      "metadata": {
        "id": "6Z97qQNpU6H9",
        "colab_type": "code",
        "outputId": "33ca5928-3909-4138-bfdc-f8a6787a34cc",
        "colab": {
          "base_uri": "https://localhost:8080/",
          "height": 238
        }
      },
      "source": [
        "train_tfidf_features.toarray()"
      ],
      "execution_count": 39,
      "outputs": [
        {
          "output_type": "execute_result",
          "data": {
            "text/plain": [
              "array([[0.        , 0.        , 0.        , ..., 0.        , 0.        ,\n",
              "        0.        ],\n",
              "       [0.41443328, 0.08551062, 0.        , ..., 0.        , 0.        ,\n",
              "        0.        ],\n",
              "       [0.        , 0.12655035, 0.        , ..., 0.        , 0.        ,\n",
              "        0.        ],\n",
              "       ...,\n",
              "       [0.70538728, 0.        , 0.        , ..., 0.        , 0.        ,\n",
              "        0.        ],\n",
              "       [0.        , 0.08257592, 0.        , ..., 0.        , 0.        ,\n",
              "        0.        ],\n",
              "       [0.        , 0.09289078, 0.        , ..., 0.        , 0.        ,\n",
              "        0.        ]])"
            ]
          },
          "metadata": {
            "tags": []
          },
          "execution_count": 39
        }
      ]
    },
    {
      "cell_type": "code",
      "metadata": {
        "id": "B6VVu6RTU6ya",
        "colab_type": "code",
        "outputId": "0c9deb92-1f01-4da5-cca3-f929262653e8",
        "colab": {
          "base_uri": "https://localhost:8080/",
          "height": 34
        }
      },
      "source": [
        "# observe some feature names in train dataset\n",
        "train_feature_names_1000 = train_tfidf.get_feature_names()\n",
        "train_feature_names_1000[100:110]"
      ],
      "execution_count": 40,
      "outputs": [
        {
          "output_type": "execute_result",
          "data": {
            "text/plain": [
              "['awesome', 'awful', 'b', 'baby', 'back', 'bad', 'ball', 'balls', 'bb18', 'bc']"
            ]
          },
          "metadata": {
            "tags": []
          },
          "execution_count": 40
        }
      ]
    },
    {
      "cell_type": "code",
      "metadata": {
        "id": "M6AJUknsU7EQ",
        "colab_type": "code",
        "outputId": "9d974c8e-259f-4bcb-f5ed-d0a604b020c4",
        "colab": {
          "base_uri": "https://localhost:8080/",
          "height": 34
        }
      },
      "source": [
        "\"😂\" in train_feature_names_1000"
      ],
      "execution_count": 41,
      "outputs": [
        {
          "output_type": "execute_result",
          "data": {
            "text/plain": [
              "True"
            ]
          },
          "metadata": {
            "tags": []
          },
          "execution_count": 41
        }
      ]
    },
    {
      "cell_type": "markdown",
      "metadata": {
        "id": "0dObCdTDkQ3B",
        "colab_type": "text"
      },
      "source": [
        "Embedding using TF-IDF vectorizer with 1000 features for **testing dataset**"
      ]
    },
    {
      "cell_type": "code",
      "metadata": {
        "id": "d5rw6S3HU6pM",
        "colab_type": "code",
        "outputId": "8ff7a191-c15d-412e-e646-403f555f5202",
        "colab": {
          "base_uri": "https://localhost:8080/",
          "height": 34
        }
      },
      "source": [
        "# get testing dataset corpus\n",
        "test_dataset_corpus = test_df['text']\n",
        "\n",
        "test_tfidf = TfidfVectorizer(max_features = 1000, tokenizer=nltk.word_tokenize) \n",
        "test_tfidf.fit(test_dataset_corpus)\n",
        "\n",
        "test_tfidf_features = test_tfidf.transform(test_dataset_corpus)\n",
        "print (test_tfidf_features.shape)"
      ],
      "execution_count": 42,
      "outputs": [
        {
          "output_type": "stream",
          "text": [
            "(347, 1000)\n"
          ],
          "name": "stdout"
        }
      ]
    },
    {
      "cell_type": "code",
      "metadata": {
        "id": "LaW-IVXDU6kw",
        "colab_type": "code",
        "outputId": "dff9f05a-53cb-4b33-8982-be2cdf0ae563",
        "colab": {
          "base_uri": "https://localhost:8080/",
          "height": 238
        }
      },
      "source": [
        "test_tfidf_features.toarray()"
      ],
      "execution_count": 43,
      "outputs": [
        {
          "output_type": "execute_result",
          "data": {
            "text/plain": [
              "array([[0.10508628, 0.59162399, 0.        , ..., 0.        , 0.        ,\n",
              "        0.        ],\n",
              "       [0.13769001, 0.29069225, 0.        , ..., 0.        , 0.        ,\n",
              "        0.        ],\n",
              "       [0.        , 0.54252493, 0.        , ..., 0.        , 0.        ,\n",
              "        0.        ],\n",
              "       ...,\n",
              "       [0.        , 0.4822067 , 0.        , ..., 0.        , 0.        ,\n",
              "        0.        ],\n",
              "       [0.        , 0.08938212, 0.        , ..., 0.        , 0.        ,\n",
              "        0.        ],\n",
              "       [0.22211117, 0.15630763, 0.        , ..., 0.        , 0.        ,\n",
              "        0.        ]])"
            ]
          },
          "metadata": {
            "tags": []
          },
          "execution_count": 43
        }
      ]
    },
    {
      "cell_type": "code",
      "metadata": {
        "id": "irmYY8coYfIs",
        "colab_type": "code",
        "outputId": "1ce579a9-2003-4770-9155-e8dc9a396b96",
        "colab": {
          "base_uri": "https://localhost:8080/",
          "height": 187
        }
      },
      "source": [
        "# observe some feature names in test dataset\n",
        "test_feature_names_1000 = test_tfidf.get_feature_names()\n",
        "test_feature_names_1000[100:110]"
      ],
      "execution_count": 44,
      "outputs": [
        {
          "output_type": "execute_result",
          "data": {
            "text/plain": [
              "['amp',\n",
              " 'an',\n",
              " 'and',\n",
              " 'android',\n",
              " 'anger',\n",
              " 'angry',\n",
              " 'angryman',\n",
              " 'animated',\n",
              " 'another',\n",
              " 'answers']"
            ]
          },
          "metadata": {
            "tags": []
          },
          "execution_count": 44
        }
      ]
    },
    {
      "cell_type": "code",
      "metadata": {
        "id": "qR_bRm9oYfEF",
        "colab_type": "code",
        "outputId": "57162744-98d2-4f9d-b943-f7ea9f1209c2",
        "colab": {
          "base_uri": "https://localhost:8080/",
          "height": 34
        }
      },
      "source": [
        "\"😂\" in test_feature_names_1000"
      ],
      "execution_count": 45,
      "outputs": [
        {
          "output_type": "execute_result",
          "data": {
            "text/plain": [
              "True"
            ]
          },
          "metadata": {
            "tags": []
          },
          "execution_count": 45
        }
      ]
    },
    {
      "cell_type": "markdown",
      "metadata": {
        "id": "7Im2JTvOx6v_",
        "colab_type": "text"
      },
      "source": [
        "---\n",
        "## 3. Model\n",
        "### 3.1 Decision Trees"
      ]
    },
    {
      "cell_type": "code",
      "metadata": {
        "id": "3Nz0VjYMx6wC",
        "colab_type": "code",
        "outputId": "ceba6237-8433-41f0-9dc9-7425a3dee726",
        "colab": {
          "base_uri": "https://localhost:8080/",
          "height": 85
        }
      },
      "source": [
        "from sklearn.tree import DecisionTreeClassifier\n",
        "\n",
        "# for a classificaiton problem, you need to provide both training & testing data\n",
        "X_train = BOW_500.transform(train_df['text'])\n",
        "y_train = train_df['emotion']\n",
        "\n",
        "X_test = BOW_500.transform(test_df['text'])\n",
        "y_test = test_df['emotion']\n",
        "\n",
        "## take a look at data dimension is a good habbit  :)\n",
        "print('X_train.shape: ', X_train.shape)\n",
        "print('y_train.shape: ', y_train.shape)\n",
        "print('X_test.shape: ', X_test.shape)\n",
        "print('y_test.shape: ', y_test.shape)"
      ],
      "execution_count": 46,
      "outputs": [
        {
          "output_type": "stream",
          "text": [
            "X_train.shape:  (3613, 500)\n",
            "y_train.shape:  (3613,)\n",
            "X_test.shape:  (347, 500)\n",
            "y_test.shape:  (347,)\n"
          ],
          "name": "stdout"
        }
      ]
    },
    {
      "cell_type": "code",
      "metadata": {
        "id": "8mDMtQBTx6wO",
        "colab_type": "code",
        "outputId": "7cf44803-3b99-445e-c62d-47b81d9b390d",
        "colab": {
          "base_uri": "https://localhost:8080/",
          "height": 51
        }
      },
      "source": [
        "## build DecisionTree model\n",
        "DT_model = DecisionTreeClassifier(random_state=0)\n",
        "\n",
        "## training!\n",
        "DT_model = DT_model.fit(X_train, y_train)\n",
        "\n",
        "## predict!\n",
        "y_train_pred = DT_model.predict(X_train)\n",
        "y_test_pred = DT_model.predict(X_test)\n",
        "\n",
        "## so we get the pred result\n",
        "y_test_pred[:10]"
      ],
      "execution_count": 47,
      "outputs": [
        {
          "output_type": "execute_result",
          "data": {
            "text/plain": [
              "array(['fear', 'sadness', 'anger', 'sadness', 'sadness', 'fear', 'anger',\n",
              "       'fear', 'sadness', 'anger'], dtype=object)"
            ]
          },
          "metadata": {
            "tags": []
          },
          "execution_count": 47
        }
      ]
    },
    {
      "cell_type": "markdown",
      "metadata": {
        "id": "LhfzF9P3x6wa",
        "colab_type": "text"
      },
      "source": [
        "---\n",
        "## 4. Results Evaluation"
      ]
    },
    {
      "cell_type": "markdown",
      "metadata": {
        "id": "YQsfS5ypx6wd",
        "colab_type": "text"
      },
      "source": [
        "Now we will check the results of our model's performance"
      ]
    },
    {
      "cell_type": "code",
      "metadata": {
        "id": "AxgqWpOEx6wg",
        "colab_type": "code",
        "outputId": "7bef6d52-5530-40df-c3ed-922f5da3159c",
        "colab": {
          "base_uri": "https://localhost:8080/",
          "height": 51
        }
      },
      "source": [
        "## accuracy\n",
        "from sklearn.metrics import accuracy_score\n",
        "\n",
        "acc_train = accuracy_score(y_true=y_train, y_pred=y_train_pred)\n",
        "acc_test = accuracy_score(y_true=y_test, y_pred=y_test_pred)\n",
        "\n",
        "print('training accuracy: {}'.format(round(acc_train, 2)))\n",
        "print('testing accuracy: {}'.format(round(acc_test, 2)))"
      ],
      "execution_count": 48,
      "outputs": [
        {
          "output_type": "stream",
          "text": [
            "training accuracy: 0.99\n",
            "testing accuracy: 0.66\n"
          ],
          "name": "stdout"
        }
      ]
    },
    {
      "cell_type": "code",
      "metadata": {
        "id": "vWi-nVLPx6wq",
        "colab_type": "code",
        "outputId": "3f896e18-f3ba-460a-a93d-ef9d1f1a904d",
        "colab": {
          "base_uri": "https://localhost:8080/",
          "height": 204
        }
      },
      "source": [
        "## precision, recall, f1-score,\n",
        "from sklearn.metrics import classification_report\n",
        "\n",
        "print(classification_report(y_true=y_test, y_pred=y_test_pred))"
      ],
      "execution_count": 49,
      "outputs": [
        {
          "output_type": "stream",
          "text": [
            "              precision    recall  f1-score   support\n",
            "\n",
            "       anger       0.70      0.68      0.69        84\n",
            "        fear       0.68      0.68      0.68       110\n",
            "         joy       0.62      0.67      0.65        79\n",
            "     sadness       0.63      0.59      0.61        74\n",
            "\n",
            "    accuracy                           0.66       347\n",
            "   macro avg       0.66      0.66      0.66       347\n",
            "weighted avg       0.66      0.66      0.66       347\n",
            "\n"
          ],
          "name": "stdout"
        }
      ]
    },
    {
      "cell_type": "code",
      "metadata": {
        "id": "psuoHLoJx6w0",
        "colab_type": "code",
        "outputId": "583ee029-5c3f-4839-a42a-9971573ed437",
        "colab": {
          "base_uri": "https://localhost:8080/",
          "height": 85
        }
      },
      "source": [
        "## check by confusion matrix\n",
        "from sklearn.metrics import confusion_matrix\n",
        "\n",
        "cm = confusion_matrix(y_true=y_test, y_pred=y_test_pred) \n",
        "print(cm)"
      ],
      "execution_count": 50,
      "outputs": [
        {
          "output_type": "stream",
          "text": [
            "[[57 11  7  9]\n",
            " [11 75 14 10]\n",
            " [ 6 13 53  7]\n",
            " [ 7 12 11 44]]\n"
          ],
          "name": "stdout"
        }
      ]
    },
    {
      "cell_type": "code",
      "metadata": {
        "id": "UFpLH50Bx6w9",
        "colab_type": "code",
        "colab": {}
      },
      "source": [
        "# Funciton for visualizing confusion_matrix\n",
        "import matplotlib.pyplot as plt\n",
        "import seaborn as sns\n",
        "import numpy as np\n",
        "import itertools\n",
        "\n",
        "def plot_confusion_matrix(cm, classes, title='Confusion matrix',\n",
        "                          cmap=sns.cubehelix_palette(as_cmap=True)):\n",
        "    \"\"\"\n",
        "    This function is modified from: \n",
        "    http://scikit-learn.org/stable/auto_examples/model_selection/plot_confusion_matrix.html\n",
        "    \"\"\"\n",
        "    classes.sort()\n",
        "    tick_marks = np.arange(len(classes))    \n",
        "    \n",
        "    fig, ax = plt.subplots(figsize=(5,5))\n",
        "    im = ax.imshow(cm, interpolation='nearest', cmap=cmap)\n",
        "    ax.figure.colorbar(im, ax=ax)\n",
        "    ax.set(xticks=np.arange(cm.shape[1]),\n",
        "           yticks=np.arange(cm.shape[0]),\n",
        "           xticklabels = classes,\n",
        "           yticklabels = classes,\n",
        "           title = title,\n",
        "           xlabel = 'True label',\n",
        "           ylabel = 'Predicted label')\n",
        "\n",
        "    fmt = 'd'\n",
        "    thresh = cm.max() / 2.\n",
        "    for i, j in itertools.product(range(cm.shape[0]), range(cm.shape[1])):\n",
        "        plt.text(j, i, format(cm[i, j], fmt), horizontalalignment=\"center\", color=\"white\" if cm[i, j] > thresh else \"black\")\n",
        "    ylim_top = len(classes) - 0.5\n",
        "    plt.ylim([ylim_top, -.5])\n",
        "    plt.tight_layout()\n",
        "    plt.show()"
      ],
      "execution_count": 0,
      "outputs": []
    },
    {
      "cell_type": "code",
      "metadata": {
        "id": "QKMgur9Sx6xG",
        "colab_type": "code",
        "outputId": "f85e1782-3d7d-4a77-db52-390b54aa3095",
        "colab": {
          "base_uri": "https://localhost:8080/",
          "height": 353
        }
      },
      "source": [
        "# plot your confusion matrix\n",
        "my_tags = ['anger', 'fear', 'joy', 'sadness']\n",
        "plot_confusion_matrix(cm, classes=my_tags, title='Confusion matrix')"
      ],
      "execution_count": 52,
      "outputs": [
        {
          "output_type": "display_data",
          "data": {
            "image/png": "[encoded data removed]",
            "text/plain": [
              "<Figure size 360x360 with 2 Axes>"
            ]
          },
          "metadata": {
            "tags": []
          }
        }
      ]
    },
    {
      "cell_type": "markdown",
      "metadata": {
        "id": "XuFOXJXZx6xR",
        "colab_type": "text"
      },
      "source": [
        "---\n",
        "###**Exercise 3 (Take home):**  \n",
        "Can you interpret the results above? What do they mean?"
      ]
    },
    {
      "cell_type": "markdown",
      "metadata": {
        "id": "lk6sV_MUm7Tl",
        "colab_type": "text"
      },
      "source": [
        "The Confusion Matrix can be seen as a \"table\" that describes the performance of a classification model.\n",
        "\n",
        "The confusion matrix function is available in the sklearn metrics module and  in this particular case the function will return a 4x4 numpy array since there are 4 different classes (emotions) in the dataset.\n",
        "\n",
        "The diagonal values represent the points where the predicted labels are equal to the true labels, in a multiclass classification the diagonal values are the True Positives (TP) for each class.\n",
        "\n",
        "Taking class \"fear\" as an example, we can see that its TP = 75 and from all the true values from this particular class 11 were misclassified as \"anger\", 13 as \"joy\" and 12 as \"sadness\".\n",
        "\n",
        "The same applies for the other three classes, in this particular confusion matrix the columns represent the true labels and the rows the actual predicted labels.\n"
      ]
    },
    {
      "cell_type": "markdown",
      "metadata": {
        "id": "M3wMAcv4x6xd",
        "colab_type": "text"
      },
      "source": [
        "---\n",
        "### **Exercise 4 (Take home):**  \n",
        "Build a model using a ```Naive Bayes``` model and train it. What are the testing results? \n",
        "\n",
        "*Reference*: https://scikit-learn.org/stable/modules/generated/sklearn.naive_bayes.MultinomialNB.html"
      ]
    },
    {
      "cell_type": "code",
      "metadata": {
        "id": "oDRFYtfbx6xg",
        "colab_type": "code",
        "outputId": "5825775a-9574-404b-9cc2-4ae21b5e71dc",
        "colab": {
          "base_uri": "https://localhost:8080/",
          "height": 34
        }
      },
      "source": [
        "# import the classifier\n",
        "from sklearn.naive_bayes import MultinomialNB\n",
        "\n",
        "# Init the Multinomial Classifier\n",
        "NB_model = MultinomialNB()\n",
        "\n",
        "# Train the model \n",
        "NB_model.fit(X_train, y_train)"
      ],
      "execution_count": 53,
      "outputs": [
        {
          "output_type": "execute_result",
          "data": {
            "text/plain": [
              "MultinomialNB(alpha=1.0, class_prior=None, fit_prior=True)"
            ]
          },
          "metadata": {
            "tags": []
          },
          "execution_count": 53
        }
      ]
    },
    {
      "cell_type": "code",
      "metadata": {
        "id": "2gkXnqu2mOCJ",
        "colab_type": "code",
        "outputId": "a324fa02-2314-4c74-ee7b-e97a8f3629ef",
        "colab": {
          "base_uri": "https://localhost:8080/",
          "height": 51
        }
      },
      "source": [
        "## predict using Naive Bayes classifier\n",
        "nb_y_train_pred = NB_model.predict(X_train)\n",
        "nb_y_test_pred = NB_model.predict(X_test)\n",
        "\n",
        "## see predicted result\n",
        "nb_y_test_pred[:10]"
      ],
      "execution_count": 54,
      "outputs": [
        {
          "output_type": "execute_result",
          "data": {
            "text/plain": [
              "array(['fear', 'sadness', 'joy', 'fear', 'sadness', 'joy', 'fear', 'fear',\n",
              "       'sadness', 'anger'], dtype='<U7')"
            ]
          },
          "metadata": {
            "tags": []
          },
          "execution_count": 54
        }
      ]
    },
    {
      "cell_type": "code",
      "metadata": {
        "id": "f4qKUT7mmOjG",
        "colab_type": "code",
        "outputId": "1b0a61a4-31ce-4896-eccb-99915ec292f5",
        "colab": {
          "base_uri": "https://localhost:8080/",
          "height": 51
        }
      },
      "source": [
        "## Naive Bayes classifier accuracy\n",
        "from sklearn.metrics import accuracy_score\n",
        "\n",
        "nb_acc_train = accuracy_score(y_true=y_train, y_pred=nb_y_train_pred)\n",
        "nb_acc_test = accuracy_score(y_true=y_test, y_pred=nb_y_test_pred)\n",
        "\n",
        "print('MultinomialNB training accuracy: {}'.format(round(nb_acc_train, 2)))\n",
        "print('MultinomialNB testing accuracy: {}'.format(round(nb_acc_test, 2)))"
      ],
      "execution_count": 55,
      "outputs": [
        {
          "output_type": "stream",
          "text": [
            "MultinomialNB training accuracy: 0.79\n",
            "MultinomialNB testing accuracy: 0.71\n"
          ],
          "name": "stdout"
        }
      ]
    },
    {
      "cell_type": "code",
      "metadata": {
        "id": "antIY9v1mPA7",
        "colab_type": "code",
        "outputId": "eaeaf5a3-5562-48a6-c442-bd6f71f2be69",
        "colab": {
          "base_uri": "https://localhost:8080/",
          "height": 204
        }
      },
      "source": [
        "## Naive Bayes classifier precision, recall, f1-score,\n",
        "from sklearn.metrics import classification_report\n",
        "\n",
        "print(classification_report(y_true=y_test, y_pred=nb_y_test_pred))"
      ],
      "execution_count": 56,
      "outputs": [
        {
          "output_type": "stream",
          "text": [
            "              precision    recall  f1-score   support\n",
            "\n",
            "       anger       0.71      0.65      0.68        84\n",
            "        fear       0.74      0.81      0.77       110\n",
            "         joy       0.74      0.70      0.72        79\n",
            "     sadness       0.65      0.65      0.65        74\n",
            "\n",
            "    accuracy                           0.71       347\n",
            "   macro avg       0.71      0.70      0.70       347\n",
            "weighted avg       0.71      0.71      0.71       347\n",
            "\n"
          ],
          "name": "stdout"
        }
      ]
    },
    {
      "cell_type": "code",
      "metadata": {
        "id": "_8nNtvrWmO8Y",
        "colab_type": "code",
        "outputId": "9618ac73-b02e-4181-bad6-478cd0dd8618",
        "colab": {
          "base_uri": "https://localhost:8080/",
          "height": 85
        }
      },
      "source": [
        "## check Naive Bayes classifier by confusion matrix\n",
        "from sklearn.metrics import confusion_matrix\n",
        "\n",
        "nb_cm = confusion_matrix(y_true=y_test, y_pred=nb_y_test_pred) \n",
        "print(nb_cm)"
      ],
      "execution_count": 57,
      "outputs": [
        {
          "output_type": "stream",
          "text": [
            "[[55 13  6 10]\n",
            " [ 7 89  5  9]\n",
            " [ 9  8 55  7]\n",
            " [ 7 11  8 48]]\n"
          ],
          "name": "stdout"
        }
      ]
    },
    {
      "cell_type": "code",
      "metadata": {
        "id": "aaCgmGQ9mN2_",
        "colab_type": "code",
        "outputId": "21904989-bd83-4373-d42e-ca59f893a80f",
        "colab": {
          "base_uri": "https://localhost:8080/",
          "height": 353
        }
      },
      "source": [
        "## plot Multinomial Naive Bayes classifier confusion matrix\n",
        "my_tags = ['anger', 'fear', 'joy', 'sadness']\n",
        "plot_confusion_matrix(nb_cm, classes=my_tags, title='MultinomialNB Confusion matrix')"
      ],
      "execution_count": 58,
      "outputs": [
        {
          "output_type": "display_data",
          "data": {
            "image/png": "[encoded data removed]",
            "text/plain": [
              "<Figure size 360x360 with 2 Axes>"
            ]
          },
          "metadata": {
            "tags": []
          }
        }
      ]
    },
    {
      "cell_type": "markdown",
      "metadata": {
        "id": "ecnmAsHUx6xq",
        "colab_type": "text"
      },
      "source": [
        "---\n",
        "### **Exercise 5 (Take home):**  \n",
        "\n",
        "How do the results from the Naive Bayes model and the Decision Tree model compare? How do you interpret these differences? Use the theoretical background covered in class to try and explain these differences."
      ]
    },
    {
      "cell_type": "markdown",
      "metadata": {
        "id": "gUvinS8doEN6",
        "colab_type": "text"
      },
      "source": [
        "We can see that the Decision Tree model has a training accuracy of 0.99, it does not look very normal and it may be a sign of overfitting, this can be happening because decision trees tend to overfit the training data more than other techniques.\n",
        "\n",
        "As decision trees use the \"divide and conquer\" method, they tend to perform well if a few highly relevant attributes exist, but less so if many complex interactions are present.\n",
        "\n",
        "For example, the decision tree model may have problems when identifying between \"fear\" and \"sadness\" where attributes may be similar. "
      ]
    },
    {
      "cell_type": "markdown",
      "metadata": {
        "id": "4AvdaFW0oWiB",
        "colab_type": "text"
      },
      "source": [
        "On the other hand, Naive Bayes classifiers assume that there are no dependencies amongst attributes. This assumption is called class conditional independence.\n",
        "\n",
        "Since Naive Bayes classifier has this assumption, it will handle the similar attributes between classes differently using conditional probabilities leading to a better accuracy."
      ]
    },
    {
      "cell_type": "markdown",
      "metadata": {
        "id": "GQ_-E0m8odkp",
        "colab_type": "text"
      },
      "source": [
        "As a conclusion, we can see that the Naive Bayes outperform the Decision Tree model, there is a significant precision improvement in all classes, and a higher accuracy prediction for the \"fear\" label can be observed."
      ]
    },
    {
      "cell_type": "markdown",
      "metadata": {
        "id": "K2TEOVSFx6x3",
        "colab_type": "text"
      },
      "source": [
        "---"
      ]
    },
    {
      "cell_type": "markdown",
      "metadata": {
        "id": "jeLbUe5Cx6x5",
        "colab_type": "text"
      },
      "source": [
        "## 5. Other things you can try"
      ]
    },
    {
      "cell_type": "markdown",
      "metadata": {
        "id": "W7f8a89qx6yF",
        "colab_type": "text"
      },
      "source": [
        "---\n",
        "## 6. Deep Learning"
      ]
    },
    {
      "cell_type": "markdown",
      "metadata": {
        "id": "EC2q-JA8x6yL",
        "colab_type": "text"
      },
      "source": [
        "### 6.1 Prepare data (X, y)"
      ]
    },
    {
      "cell_type": "code",
      "metadata": {
        "id": "ZrGmeTnIx6yP",
        "colab_type": "code",
        "outputId": "987e7302-72cb-498c-ec60-ce62cba89a87",
        "colab": {
          "base_uri": "https://localhost:8080/",
          "height": 148
        }
      },
      "source": [
        "import keras\n",
        "\n",
        "# standardize name (X, y) \n",
        "X_train = BOW_500.transform(train_df['text'])\n",
        "y_train = train_df['emotion']\n",
        "\n",
        "X_test = BOW_500.transform(test_df['text'])\n",
        "y_test = test_df['emotion']\n",
        "\n",
        "## check dimension is a good habbit \n",
        "print('X_train.shape: ', X_train.shape)\n",
        "print('y_train.shape: ', y_train.shape)\n",
        "print('X_test.shape: ', X_test.shape)\n",
        "print('y_test.shape: ', y_test.shape)"
      ],
      "execution_count": 59,
      "outputs": [
        {
          "output_type": "stream",
          "text": [
            "Using TensorFlow backend.\n"
          ],
          "name": "stderr"
        },
        {
          "output_type": "display_data",
          "data": {
            "text/html": [
              "<p style=\"color: red;\">\n",
              "The default version of TensorFlow in Colab will soon switch to TensorFlow 2.x.<br>\n",
              "We recommend you <a href=\"https://www.tensorflow.org/guide/migrate\" target=\"_blank\">upgrade</a> now \n",
              "or ensure your notebook will continue to use TensorFlow 1.x via the <code>%tensorflow_version 1.x</code> magic:\n",
              "<a href=\"https://colab.research.google.com/notebooks/tensorflow_version.ipynb\" target=\"_blank\">more info</a>.</p>\n"
            ],
            "text/plain": [
              "<IPython.core.display.HTML object>"
            ]
          },
          "metadata": {
            "tags": []
          }
        },
        {
          "output_type": "stream",
          "text": [
            "X_train.shape:  (3613, 500)\n",
            "y_train.shape:  (3613,)\n",
            "X_test.shape:  (347, 500)\n",
            "y_test.shape:  (347,)\n"
          ],
          "name": "stdout"
        }
      ]
    },
    {
      "cell_type": "markdown",
      "metadata": {
        "id": "OrWJQ878x6yY",
        "colab_type": "text"
      },
      "source": [
        "### 6.2 Deal with categorical label (y)\n"
      ]
    },
    {
      "cell_type": "code",
      "metadata": {
        "id": "3y3vN72tx6yb",
        "colab_type": "code",
        "outputId": "187fb4bc-809a-406b-b187-8a96e47c51e6",
        "colab": {
          "base_uri": "https://localhost:8080/",
          "height": 408
        }
      },
      "source": [
        "## deal with label (string -> one-hot)\n",
        "\n",
        "from sklearn.preprocessing import LabelEncoder\n",
        "\n",
        "label_encoder = LabelEncoder()\n",
        "label_encoder.fit(y_train)\n",
        "print('check label: ', label_encoder.classes_)\n",
        "print('\\n## Before convert')\n",
        "print('y_train[0:4]:\\n', y_train[0:4])\n",
        "print('\\ny_train.shape: ', y_train.shape)\n",
        "print('y_test.shape: ', y_test.shape)\n",
        "\n",
        "def label_encode(le, labels):\n",
        "    enc = le.transform(labels)\n",
        "    return keras.utils.to_categorical(enc)\n",
        "\n",
        "def label_decode(le, one_hot_label):\n",
        "    dec = np.argmax(one_hot_label, axis=1)\n",
        "    return le.inverse_transform(dec)\n",
        "\n",
        "y_train = label_encode(label_encoder, y_train)\n",
        "y_test = label_encode(label_encoder, y_test)\n",
        "\n",
        "print('\\n\\n## After convert')\n",
        "print('y_train[0:4]:\\n', y_train[0:4])\n",
        "print('\\ny_train.shape: ', y_train.shape)\n",
        "print('y_test.shape: ', y_test.shape)\n"
      ],
      "execution_count": 60,
      "outputs": [
        {
          "output_type": "stream",
          "text": [
            "check label:  ['anger' 'fear' 'joy' 'sadness']\n",
            "\n",
            "## Before convert\n",
            "y_train[0:4]:\n",
            " 3426    sadness\n",
            "1930       fear\n",
            "2823        joy\n",
            "291       anger\n",
            "Name: emotion, dtype: object\n",
            "\n",
            "y_train.shape:  (3613,)\n",
            "y_test.shape:  (347,)\n",
            "\n",
            "\n",
            "## After convert\n",
            "y_train[0:4]:\n",
            " [[0. 0. 0. 1.]\n",
            " [0. 1. 0. 0.]\n",
            " [0. 0. 1. 0.]\n",
            " [1. 0. 0. 0.]]\n",
            "\n",
            "y_train.shape:  (3613, 4)\n",
            "y_test.shape:  (347, 4)\n"
          ],
          "name": "stdout"
        }
      ]
    },
    {
      "cell_type": "markdown",
      "metadata": {
        "id": "mVSOuqxux6yj",
        "colab_type": "text"
      },
      "source": [
        "### 6.3 Build model"
      ]
    },
    {
      "cell_type": "code",
      "metadata": {
        "id": "FtD_L-77x6ym",
        "colab_type": "code",
        "outputId": "22fe42ec-330f-4672-d198-71838ff34bf5",
        "colab": {
          "base_uri": "https://localhost:8080/",
          "height": 51
        }
      },
      "source": [
        "# I/O check\n",
        "input_shape = X_train.shape[1]\n",
        "print('input_shape: ', input_shape)\n",
        "\n",
        "output_shape = len(label_encoder.classes_)\n",
        "print('output_shape: ', output_shape)"
      ],
      "execution_count": 61,
      "outputs": [
        {
          "output_type": "stream",
          "text": [
            "input_shape:  500\n",
            "output_shape:  4\n"
          ],
          "name": "stdout"
        }
      ]
    },
    {
      "cell_type": "code",
      "metadata": {
        "id": "CooBylPQx6yx",
        "colab_type": "code",
        "outputId": "8532b5ae-1c3d-4a87-b899-1d1826b07636",
        "colab": {
          "base_uri": "https://localhost:8080/",
          "height": 581
        }
      },
      "source": [
        "from keras.models import Model\n",
        "from keras.layers import Input, Dense\n",
        "from keras.layers import ReLU, Softmax\n",
        "\n",
        "# input layer\n",
        "model_input = Input(shape=(input_shape, ))  # 500\n",
        "X = model_input\n",
        "\n",
        "# 1st hidden layer\n",
        "X_W1 = Dense(units=64)(X)  # 64\n",
        "H1 = ReLU()(X_W1)\n",
        "\n",
        "# 2nd hidden layer\n",
        "H1_W2 = Dense(units=64)(H1)  # 64\n",
        "H2 = ReLU()(H1_W2)\n",
        "\n",
        "# output layer\n",
        "H2_W3 = Dense(units=output_shape)(H2)  # 4\n",
        "H3 = Softmax()(H2_W3)\n",
        "\n",
        "model_output = H3\n",
        "\n",
        "# create model\n",
        "model = Model(inputs=[model_input], outputs=[model_output])\n",
        "\n",
        "# loss function & optimizer\n",
        "model.compile(optimizer='adam',\n",
        "              loss='categorical_crossentropy',\n",
        "              metrics=['accuracy'])\n",
        "\n",
        "# show model construction\n",
        "model.summary()"
      ],
      "execution_count": 62,
      "outputs": [
        {
          "output_type": "stream",
          "text": [
            "WARNING:tensorflow:From /usr/local/lib/python3.6/dist-packages/keras/backend/tensorflow_backend.py:66: The name tf.get_default_graph is deprecated. Please use tf.compat.v1.get_default_graph instead.\n",
            "\n",
            "WARNING:tensorflow:From /usr/local/lib/python3.6/dist-packages/keras/backend/tensorflow_backend.py:541: The name tf.placeholder is deprecated. Please use tf.compat.v1.placeholder instead.\n",
            "\n",
            "WARNING:tensorflow:From /usr/local/lib/python3.6/dist-packages/keras/backend/tensorflow_backend.py:4432: The name tf.random_uniform is deprecated. Please use tf.random.uniform instead.\n",
            "\n",
            "WARNING:tensorflow:From /usr/local/lib/python3.6/dist-packages/keras/optimizers.py:793: The name tf.train.Optimizer is deprecated. Please use tf.compat.v1.train.Optimizer instead.\n",
            "\n",
            "WARNING:tensorflow:From /usr/local/lib/python3.6/dist-packages/keras/backend/tensorflow_backend.py:3576: The name tf.log is deprecated. Please use tf.math.log instead.\n",
            "\n",
            "Model: \"model_1\"\n",
            "_________________________________________________________________\n",
            "Layer (type)                 Output Shape              Param #   \n",
            "=================================================================\n",
            "input_1 (InputLayer)         (None, 500)               0         \n",
            "_________________________________________________________________\n",
            "dense_1 (Dense)              (None, 64)                32064     \n",
            "_________________________________________________________________\n",
            "re_lu_1 (ReLU)               (None, 64)                0         \n",
            "_________________________________________________________________\n",
            "dense_2 (Dense)              (None, 64)                4160      \n",
            "_________________________________________________________________\n",
            "re_lu_2 (ReLU)               (None, 64)                0         \n",
            "_________________________________________________________________\n",
            "dense_3 (Dense)              (None, 4)                 260       \n",
            "_________________________________________________________________\n",
            "softmax_1 (Softmax)          (None, 4)                 0         \n",
            "=================================================================\n",
            "Total params: 36,484\n",
            "Trainable params: 36,484\n",
            "Non-trainable params: 0\n",
            "_________________________________________________________________\n"
          ],
          "name": "stdout"
        }
      ]
    },
    {
      "cell_type": "markdown",
      "metadata": {
        "id": "7HcB6Fc1x6zE",
        "colab_type": "text"
      },
      "source": [
        "### 6.4 Train"
      ]
    },
    {
      "cell_type": "code",
      "metadata": {
        "id": "2SjV6dlex6zI",
        "colab_type": "code",
        "outputId": "4d2aef62-a1ed-4aef-9f47-5b0b574b5fcf",
        "colab": {
          "base_uri": "https://localhost:8080/",
          "height": 1000
        }
      },
      "source": [
        "from keras.callbacks import CSVLogger\n",
        "\n",
        "csv_logger = CSVLogger('logs/training_log.csv')\n",
        "\n",
        "# training setting\n",
        "epochs = 25\n",
        "batch_size = 32\n",
        "\n",
        "# training!\n",
        "history = model.fit(X_train, y_train, \n",
        "                    epochs=epochs, \n",
        "                    batch_size=batch_size, \n",
        "                    callbacks=[csv_logger],\n",
        "                    validation_data = (X_test, y_test))\n",
        "print('training finish')"
      ],
      "execution_count": 63,
      "outputs": [
        {
          "output_type": "stream",
          "text": [
            "WARNING:tensorflow:From /usr/local/lib/python3.6/dist-packages/tensorflow_core/python/ops/math_grad.py:1424: where (from tensorflow.python.ops.array_ops) is deprecated and will be removed in a future version.\n",
            "Instructions for updating:\n",
            "Use tf.where in 2.0, which has the same broadcast rule as np.where\n",
            "WARNING:tensorflow:From /usr/local/lib/python3.6/dist-packages/keras/backend/tensorflow_backend.py:1033: The name tf.assign_add is deprecated. Please use tf.compat.v1.assign_add instead.\n",
            "\n",
            "WARNING:tensorflow:From /usr/local/lib/python3.6/dist-packages/keras/backend/tensorflow_backend.py:1020: The name tf.assign is deprecated. Please use tf.compat.v1.assign instead.\n",
            "\n",
            "WARNING:tensorflow:From /usr/local/lib/python3.6/dist-packages/keras/backend/tensorflow_backend.py:3005: The name tf.Session is deprecated. Please use tf.compat.v1.Session instead.\n",
            "\n",
            "Train on 3613 samples, validate on 347 samples\n",
            "Epoch 1/25\n",
            "WARNING:tensorflow:From /usr/local/lib/python3.6/dist-packages/keras/backend/tensorflow_backend.py:190: The name tf.get_default_session is deprecated. Please use tf.compat.v1.get_default_session instead.\n",
            "\n",
            "WARNING:tensorflow:From /usr/local/lib/python3.6/dist-packages/keras/backend/tensorflow_backend.py:197: The name tf.ConfigProto is deprecated. Please use tf.compat.v1.ConfigProto instead.\n",
            "\n",
            "WARNING:tensorflow:From /usr/local/lib/python3.6/dist-packages/keras/backend/tensorflow_backend.py:207: The name tf.global_variables is deprecated. Please use tf.compat.v1.global_variables instead.\n",
            "\n",
            "WARNING:tensorflow:From /usr/local/lib/python3.6/dist-packages/keras/backend/tensorflow_backend.py:216: The name tf.is_variable_initialized is deprecated. Please use tf.compat.v1.is_variable_initialized instead.\n",
            "\n",
            "WARNING:tensorflow:From /usr/local/lib/python3.6/dist-packages/keras/backend/tensorflow_backend.py:223: The name tf.variables_initializer is deprecated. Please use tf.compat.v1.variables_initializer instead.\n",
            "\n",
            "3613/3613 [==============================] - 10s 3ms/step - loss: 1.3254 - acc: 0.3712 - val_loss: 1.2800 - val_acc: 0.4438\n",
            "Epoch 2/25\n",
            "3613/3613 [==============================] - 0s 102us/step - loss: 0.9898 - acc: 0.6443 - val_loss: 0.9310 - val_acc: 0.6398\n",
            "Epoch 3/25\n",
            "3613/3613 [==============================] - 0s 104us/step - loss: 0.5724 - acc: 0.7971 - val_loss: 0.7446 - val_acc: 0.7349\n",
            "Epoch 4/25\n",
            "3613/3613 [==============================] - 0s 108us/step - loss: 0.4120 - acc: 0.8505 - val_loss: 0.7494 - val_acc: 0.7205\n",
            "Epoch 5/25\n",
            "3613/3613 [==============================] - 0s 103us/step - loss: 0.3243 - acc: 0.8854 - val_loss: 0.7752 - val_acc: 0.7176\n",
            "Epoch 6/25\n",
            "3613/3613 [==============================] - 0s 104us/step - loss: 0.2638 - acc: 0.9134 - val_loss: 0.8541 - val_acc: 0.7003\n",
            "Epoch 7/25\n",
            "3613/3613 [==============================] - 0s 110us/step - loss: 0.2207 - acc: 0.9291 - val_loss: 0.8831 - val_acc: 0.6859\n",
            "Epoch 8/25\n",
            "3613/3613 [==============================] - 0s 99us/step - loss: 0.1802 - acc: 0.9444 - val_loss: 0.9632 - val_acc: 0.6830\n",
            "Epoch 9/25\n",
            "3613/3613 [==============================] - 0s 107us/step - loss: 0.1585 - acc: 0.9546 - val_loss: 1.0059 - val_acc: 0.6916\n",
            "Epoch 10/25\n",
            "3613/3613 [==============================] - 0s 99us/step - loss: 0.1469 - acc: 0.9577 - val_loss: 1.0583 - val_acc: 0.6801\n",
            "Epoch 11/25\n",
            "3613/3613 [==============================] - 0s 100us/step - loss: 0.1255 - acc: 0.9637 - val_loss: 1.0971 - val_acc: 0.6801\n",
            "Epoch 12/25\n",
            "3613/3613 [==============================] - 0s 99us/step - loss: 0.1104 - acc: 0.9673 - val_loss: 1.1763 - val_acc: 0.6772\n",
            "Epoch 13/25\n",
            "3613/3613 [==============================] - 0s 108us/step - loss: 0.1015 - acc: 0.9698 - val_loss: 1.1722 - val_acc: 0.6859\n",
            "Epoch 14/25\n",
            "3613/3613 [==============================] - 0s 100us/step - loss: 0.0974 - acc: 0.9712 - val_loss: 1.2278 - val_acc: 0.6686\n",
            "Epoch 15/25\n",
            "3613/3613 [==============================] - 0s 97us/step - loss: 0.0925 - acc: 0.9712 - val_loss: 1.2746 - val_acc: 0.6772\n",
            "Epoch 16/25\n",
            "3613/3613 [==============================] - 0s 111us/step - loss: 0.0879 - acc: 0.9704 - val_loss: 1.2930 - val_acc: 0.6830\n",
            "Epoch 17/25\n",
            "3613/3613 [==============================] - 0s 104us/step - loss: 0.0811 - acc: 0.9720 - val_loss: 1.3758 - val_acc: 0.6744\n",
            "Epoch 18/25\n",
            "3613/3613 [==============================] - 0s 99us/step - loss: 0.0739 - acc: 0.9740 - val_loss: 1.3769 - val_acc: 0.6801\n",
            "Epoch 19/25\n",
            "3613/3613 [==============================] - 0s 98us/step - loss: 0.0782 - acc: 0.9745 - val_loss: 1.4059 - val_acc: 0.6744\n",
            "Epoch 20/25\n",
            "3613/3613 [==============================] - 0s 100us/step - loss: 0.0804 - acc: 0.9748 - val_loss: 1.3597 - val_acc: 0.6830\n",
            "Epoch 21/25\n",
            "3613/3613 [==============================] - 0s 102us/step - loss: 0.0687 - acc: 0.9759 - val_loss: 1.4368 - val_acc: 0.6830\n",
            "Epoch 22/25\n",
            "3613/3613 [==============================] - 0s 99us/step - loss: 0.0699 - acc: 0.9756 - val_loss: 1.4197 - val_acc: 0.6628\n",
            "Epoch 23/25\n",
            "3613/3613 [==============================] - 0s 98us/step - loss: 0.0641 - acc: 0.9748 - val_loss: 1.4272 - val_acc: 0.6801\n",
            "Epoch 24/25\n",
            "3613/3613 [==============================] - 0s 98us/step - loss: 0.0631 - acc: 0.9784 - val_loss: 1.4722 - val_acc: 0.6744\n",
            "Epoch 25/25\n",
            "3613/3613 [==============================] - 0s 100us/step - loss: 0.0610 - acc: 0.9773 - val_loss: 1.5102 - val_acc: 0.6628\n",
            "training finish\n"
          ],
          "name": "stdout"
        }
      ]
    },
    {
      "cell_type": "markdown",
      "metadata": {
        "id": "SMPYQgbnx6zR",
        "colab_type": "text"
      },
      "source": [
        "### 6.5 Predict on testing data"
      ]
    },
    {
      "cell_type": "code",
      "metadata": {
        "id": "W5PQEnn0x6zU",
        "colab_type": "code",
        "outputId": "10c6c850-8537-48df-d760-9f9b0b3b6c7b",
        "colab": {
          "base_uri": "https://localhost:8080/",
          "height": 119
        }
      },
      "source": [
        "## predict\n",
        "pred_result = model.predict(X_test, batch_size=128)\n",
        "pred_result[:5]"
      ],
      "execution_count": 64,
      "outputs": [
        {
          "output_type": "execute_result",
          "data": {
            "text/plain": [
              "array([[9.6948305e-03, 8.0743504e-01, 1.8251453e-01, 3.5555643e-04],\n",
              "       [4.8387694e-05, 1.6139589e-02, 5.4042521e-06, 9.8380661e-01],\n",
              "       [9.8902136e-01, 1.1095771e-03, 9.0010287e-03, 8.6807110e-04],\n",
              "       [1.1839886e-02, 9.6990269e-01, 3.4768425e-05, 1.8222703e-02],\n",
              "       [8.0903874e-08, 3.1237738e-07, 2.0196381e-08, 9.9999964e-01]],\n",
              "      dtype=float32)"
            ]
          },
          "metadata": {
            "tags": []
          },
          "execution_count": 64
        }
      ]
    },
    {
      "cell_type": "code",
      "metadata": {
        "id": "7A93Kjogx6zh",
        "colab_type": "code",
        "outputId": "6bdc7de9-c3ce-47ab-c33e-42877aff5ca4",
        "colab": {
          "base_uri": "https://localhost:8080/",
          "height": 34
        }
      },
      "source": [
        "pred_result = label_decode(label_encoder, pred_result)\n",
        "pred_result[:5]"
      ],
      "execution_count": 65,
      "outputs": [
        {
          "output_type": "execute_result",
          "data": {
            "text/plain": [
              "array(['fear', 'sadness', 'anger', 'fear', 'sadness'], dtype=object)"
            ]
          },
          "metadata": {
            "tags": []
          },
          "execution_count": 65
        }
      ]
    },
    {
      "cell_type": "code",
      "metadata": {
        "id": "0AAHcFGix6zr",
        "colab_type": "code",
        "outputId": "1cdc7c24-03ea-4579-9444-9709c5098730",
        "colab": {
          "base_uri": "https://localhost:8080/",
          "height": 34
        }
      },
      "source": [
        "from sklearn.metrics import accuracy_score\n",
        "\n",
        "print('testing accuracy: {}'.format(round(accuracy_score(label_decode(label_encoder, y_test), pred_result), 2)))"
      ],
      "execution_count": 66,
      "outputs": [
        {
          "output_type": "stream",
          "text": [
            "testing accuracy: 0.66\n"
          ],
          "name": "stdout"
        }
      ]
    },
    {
      "cell_type": "code",
      "metadata": {
        "id": "FHT-tz9Zx6zz",
        "colab_type": "code",
        "outputId": "b47fafe1-866b-49a4-ffdc-a50e93ba430a",
        "colab": {
          "base_uri": "https://localhost:8080/",
          "height": 824
        }
      },
      "source": [
        "#Let's take a look at the training log\n",
        "training_log = pd.DataFrame()\n",
        "training_log = pd.read_csv(\"logs/training_log.csv\")\n",
        "training_log"
      ],
      "execution_count": 67,
      "outputs": [
        {
          "output_type": "execute_result",
          "data": {
            "text/html": [
              "<div>\n",
              "<style scoped>\n",
              "    .dataframe tbody tr th:only-of-type {\n",
              "        vertical-align: middle;\n",
              "    }\n",
              "\n",
              "    .dataframe tbody tr th {\n",
              "        vertical-align: top;\n",
              "    }\n",
              "\n",
              "    .dataframe thead th {\n",
              "        text-align: right;\n",
              "    }\n",
              "</style>\n",
              "<table border=\"1\" class=\"dataframe\">\n",
              "  <thead>\n",
              "    <tr style=\"text-align: right;\">\n",
              "      <th></th>\n",
              "      <th>epoch</th>\n",
              "      <th>acc</th>\n",
              "      <th>loss</th>\n",
              "      <th>val_acc</th>\n",
              "      <th>val_loss</th>\n",
              "    </tr>\n",
              "  </thead>\n",
              "  <tbody>\n",
              "    <tr>\n",
              "      <th>0</th>\n",
              "      <td>0</td>\n",
              "      <td>0.371160</td>\n",
              "      <td>1.325446</td>\n",
              "      <td>0.443804</td>\n",
              "      <td>1.279993</td>\n",
              "    </tr>\n",
              "    <tr>\n",
              "      <th>1</th>\n",
              "      <td>1</td>\n",
              "      <td>0.644340</td>\n",
              "      <td>0.989826</td>\n",
              "      <td>0.639769</td>\n",
              "      <td>0.930981</td>\n",
              "    </tr>\n",
              "    <tr>\n",
              "      <th>2</th>\n",
              "      <td>2</td>\n",
              "      <td>0.797122</td>\n",
              "      <td>0.572367</td>\n",
              "      <td>0.734870</td>\n",
              "      <td>0.744588</td>\n",
              "    </tr>\n",
              "    <tr>\n",
              "      <th>3</th>\n",
              "      <td>3</td>\n",
              "      <td>0.850540</td>\n",
              "      <td>0.412043</td>\n",
              "      <td>0.720461</td>\n",
              "      <td>0.749428</td>\n",
              "    </tr>\n",
              "    <tr>\n",
              "      <th>4</th>\n",
              "      <td>4</td>\n",
              "      <td>0.885414</td>\n",
              "      <td>0.324349</td>\n",
              "      <td>0.717579</td>\n",
              "      <td>0.775190</td>\n",
              "    </tr>\n",
              "    <tr>\n",
              "      <th>5</th>\n",
              "      <td>5</td>\n",
              "      <td>0.913368</td>\n",
              "      <td>0.263762</td>\n",
              "      <td>0.700288</td>\n",
              "      <td>0.854091</td>\n",
              "    </tr>\n",
              "    <tr>\n",
              "      <th>6</th>\n",
              "      <td>6</td>\n",
              "      <td>0.929145</td>\n",
              "      <td>0.220685</td>\n",
              "      <td>0.685879</td>\n",
              "      <td>0.883118</td>\n",
              "    </tr>\n",
              "    <tr>\n",
              "      <th>7</th>\n",
              "      <td>7</td>\n",
              "      <td>0.944368</td>\n",
              "      <td>0.180245</td>\n",
              "      <td>0.682997</td>\n",
              "      <td>0.963183</td>\n",
              "    </tr>\n",
              "    <tr>\n",
              "      <th>8</th>\n",
              "      <td>8</td>\n",
              "      <td>0.954608</td>\n",
              "      <td>0.158487</td>\n",
              "      <td>0.691643</td>\n",
              "      <td>1.005947</td>\n",
              "    </tr>\n",
              "    <tr>\n",
              "      <th>9</th>\n",
              "      <td>9</td>\n",
              "      <td>0.957653</td>\n",
              "      <td>0.146880</td>\n",
              "      <td>0.680115</td>\n",
              "      <td>1.058303</td>\n",
              "    </tr>\n",
              "    <tr>\n",
              "      <th>10</th>\n",
              "      <td>10</td>\n",
              "      <td>0.963742</td>\n",
              "      <td>0.125469</td>\n",
              "      <td>0.680115</td>\n",
              "      <td>1.097096</td>\n",
              "    </tr>\n",
              "    <tr>\n",
              "      <th>11</th>\n",
              "      <td>11</td>\n",
              "      <td>0.967340</td>\n",
              "      <td>0.110391</td>\n",
              "      <td>0.677233</td>\n",
              "      <td>1.176321</td>\n",
              "    </tr>\n",
              "    <tr>\n",
              "      <th>12</th>\n",
              "      <td>12</td>\n",
              "      <td>0.969831</td>\n",
              "      <td>0.101532</td>\n",
              "      <td>0.685879</td>\n",
              "      <td>1.172173</td>\n",
              "    </tr>\n",
              "    <tr>\n",
              "      <th>13</th>\n",
              "      <td>13</td>\n",
              "      <td>0.971215</td>\n",
              "      <td>0.097421</td>\n",
              "      <td>0.668588</td>\n",
              "      <td>1.227770</td>\n",
              "    </tr>\n",
              "    <tr>\n",
              "      <th>14</th>\n",
              "      <td>14</td>\n",
              "      <td>0.971215</td>\n",
              "      <td>0.092513</td>\n",
              "      <td>0.677233</td>\n",
              "      <td>1.274552</td>\n",
              "    </tr>\n",
              "    <tr>\n",
              "      <th>15</th>\n",
              "      <td>15</td>\n",
              "      <td>0.970385</td>\n",
              "      <td>0.087949</td>\n",
              "      <td>0.682997</td>\n",
              "      <td>1.293024</td>\n",
              "    </tr>\n",
              "    <tr>\n",
              "      <th>16</th>\n",
              "      <td>16</td>\n",
              "      <td>0.972045</td>\n",
              "      <td>0.081117</td>\n",
              "      <td>0.674352</td>\n",
              "      <td>1.375840</td>\n",
              "    </tr>\n",
              "    <tr>\n",
              "      <th>17</th>\n",
              "      <td>17</td>\n",
              "      <td>0.973983</td>\n",
              "      <td>0.073875</td>\n",
              "      <td>0.680115</td>\n",
              "      <td>1.376884</td>\n",
              "    </tr>\n",
              "    <tr>\n",
              "      <th>18</th>\n",
              "      <td>18</td>\n",
              "      <td>0.974536</td>\n",
              "      <td>0.078183</td>\n",
              "      <td>0.674352</td>\n",
              "      <td>1.405861</td>\n",
              "    </tr>\n",
              "    <tr>\n",
              "      <th>19</th>\n",
              "      <td>19</td>\n",
              "      <td>0.974813</td>\n",
              "      <td>0.080358</td>\n",
              "      <td>0.682997</td>\n",
              "      <td>1.359676</td>\n",
              "    </tr>\n",
              "    <tr>\n",
              "      <th>20</th>\n",
              "      <td>20</td>\n",
              "      <td>0.975920</td>\n",
              "      <td>0.068720</td>\n",
              "      <td>0.682997</td>\n",
              "      <td>1.436840</td>\n",
              "    </tr>\n",
              "    <tr>\n",
              "      <th>21</th>\n",
              "      <td>21</td>\n",
              "      <td>0.975644</td>\n",
              "      <td>0.069945</td>\n",
              "      <td>0.662824</td>\n",
              "      <td>1.419651</td>\n",
              "    </tr>\n",
              "    <tr>\n",
              "      <th>22</th>\n",
              "      <td>22</td>\n",
              "      <td>0.974813</td>\n",
              "      <td>0.064057</td>\n",
              "      <td>0.680115</td>\n",
              "      <td>1.427170</td>\n",
              "    </tr>\n",
              "    <tr>\n",
              "      <th>23</th>\n",
              "      <td>23</td>\n",
              "      <td>0.978411</td>\n",
              "      <td>0.063099</td>\n",
              "      <td>0.674352</td>\n",
              "      <td>1.472239</td>\n",
              "    </tr>\n",
              "    <tr>\n",
              "      <th>24</th>\n",
              "      <td>24</td>\n",
              "      <td>0.977304</td>\n",
              "      <td>0.061001</td>\n",
              "      <td>0.662824</td>\n",
              "      <td>1.510189</td>\n",
              "    </tr>\n",
              "  </tbody>\n",
              "</table>\n",
              "</div>"
            ],
            "text/plain": [
              "    epoch       acc      loss   val_acc  val_loss\n",
              "0       0  0.371160  1.325446  0.443804  1.279993\n",
              "1       1  0.644340  0.989826  0.639769  0.930981\n",
              "2       2  0.797122  0.572367  0.734870  0.744588\n",
              "3       3  0.850540  0.412043  0.720461  0.749428\n",
              "4       4  0.885414  0.324349  0.717579  0.775190\n",
              "5       5  0.913368  0.263762  0.700288  0.854091\n",
              "6       6  0.929145  0.220685  0.685879  0.883118\n",
              "7       7  0.944368  0.180245  0.682997  0.963183\n",
              "8       8  0.954608  0.158487  0.691643  1.005947\n",
              "9       9  0.957653  0.146880  0.680115  1.058303\n",
              "10     10  0.963742  0.125469  0.680115  1.097096\n",
              "11     11  0.967340  0.110391  0.677233  1.176321\n",
              "12     12  0.969831  0.101532  0.685879  1.172173\n",
              "13     13  0.971215  0.097421  0.668588  1.227770\n",
              "14     14  0.971215  0.092513  0.677233  1.274552\n",
              "15     15  0.970385  0.087949  0.682997  1.293024\n",
              "16     16  0.972045  0.081117  0.674352  1.375840\n",
              "17     17  0.973983  0.073875  0.680115  1.376884\n",
              "18     18  0.974536  0.078183  0.674352  1.405861\n",
              "19     19  0.974813  0.080358  0.682997  1.359676\n",
              "20     20  0.975920  0.068720  0.682997  1.436840\n",
              "21     21  0.975644  0.069945  0.662824  1.419651\n",
              "22     22  0.974813  0.064057  0.680115  1.427170\n",
              "23     23  0.978411  0.063099  0.674352  1.472239\n",
              "24     24  0.977304  0.061001  0.662824  1.510189"
            ]
          },
          "metadata": {
            "tags": []
          },
          "execution_count": 67
        }
      ]
    },
    {
      "cell_type": "markdown",
      "metadata": {
        "id": "Uqq9Ak2sx6z7",
        "colab_type": "text"
      },
      "source": [
        "---\n",
        "### **Exercise 6 (Take home)**  \n",
        "\n",
        "Plot the Training and Validation Accuracy and Loss (different plots), just like the images below (Note: the pictures below are an example from a different model). How to interpret the graphs you got? How are they related to the concept of overfitting/underfitting covered in class?"
      ]
    },
    {
      "cell_type": "code",
      "metadata": {
        "id": "N_E14-kgx6z-",
        "colab_type": "code",
        "outputId": "39a4e156-d365-4140-8a5d-d47bd7ca1907",
        "colab": {
          "base_uri": "https://localhost:8080/",
          "height": 1000
        }
      },
      "source": [
        "# Answer here\n",
        "import matplotlib.pyplot as plt\n",
        "\n",
        "plt.plot(history.history['acc'])\n",
        "plt.plot(history.history['val_acc'])\n",
        "\n",
        "plt.title('Model Accuracy per epoch')\n",
        "plt.ylabel('Accuracy')\n",
        "plt.xlabel('Epochs')\n",
        "plt.legend(['train','test'], loc='upper left')\n",
        "plt.show()\n",
        "\n",
        "plt.plot(history.history['loss'])\n",
        "plt.plot(history.history['val_loss'])\n",
        "\n",
        "plt.title('Model Loss per epoch')\n",
        "plt.ylabel('Loss')\n",
        "plt.xlabel('Epochs')\n",
        "plt.legend(['train','test'], loc='upper left')\n",
        "plt.show()"
      ],
      "execution_count": 68,
      "outputs": [
        {
          "output_type": "display_data",
          "data": {
            "image/png": "[encoded data removed]",
            "text/plain": [
              "<Figure size 936x576 with 1 Axes>"
            ]
          },
          "metadata": {
            "tags": []
          }
        },
        {
          "output_type": "display_data",
          "data": {
            "image/png": "[encoded data removed]",
            "text/plain": [
              "<Figure size 936x576 with 1 Axes>"
            ]
          },
          "metadata": {
            "tags": []
          }
        }
      ]
    },
    {
      "cell_type": "markdown",
      "metadata": {
        "id": "o_TnWG9ZCNNv",
        "colab_type": "text"
      },
      "source": [
        "By examining the two graphs we can observe two important concepts.\n",
        "\n",
        "In the model accuracy graph, we can see how both training and testing accuracy were increasing before the 3rd. epoch whereas by looking at the model loss graph we see that both were decreasing, this is referred as **underfitting**.\n",
        "\n",
        "**Underfitting** refers to the situation when the model does not have enough variables to solve the training dataset, in this particular case, before the 3rd. epoch the model is still learning.\n"
      ]
    },
    {
      "cell_type": "markdown",
      "metadata": {
        "id": "J23wWBJjSw1w",
        "colab_type": "text"
      },
      "source": [
        "After the 3rd. epoch training accuracy continues to increase until reaching almost a 100%, while testing accuracy remains up and down between 65% to 70%; training loss keep decreasing while testing loss is increasing, it is referred as **overfitting**; the model is more and more overfitting after the 3rd. epoch.\n",
        "\n",
        "When **overfitting** occurs, the model becomes too specialized on solving for the training data and start to perform worst when validated on the test data. We can say that the model memorizes the answers in the training dataset and does not generalize to the test dataset."
      ]
    },
    {
      "cell_type": "markdown",
      "metadata": {
        "id": "IAfcWoQ9x60G",
        "colab_type": "text"
      },
      "source": [
        "---"
      ]
    },
    {
      "cell_type": "markdown",
      "metadata": {
        "id": "5dfk0xMpx60L",
        "colab_type": "text"
      },
      "source": [
        "---\n",
        "## 7. Word2Vector\n",
        "\n",
        "We will introduce how to use `gensim` to train your word2vec model and how to load a pre-trained model.\n",
        "\n",
        "https://radimrehurek.com/gensim/index.html"
      ]
    },
    {
      "cell_type": "markdown",
      "metadata": {
        "id": "YZzqrxvux60O",
        "colab_type": "text"
      },
      "source": [
        "### 7.1 Prepare training corpus"
      ]
    },
    {
      "cell_type": "code",
      "metadata": {
        "id": "cZbOle_Gx60R",
        "colab_type": "code",
        "outputId": "d0604b78-9f1a-49cc-f09b-ae901db8b249",
        "colab": {
          "base_uri": "https://localhost:8080/",
          "height": 204
        }
      },
      "source": [
        "## check library\n",
        "import gensim\n",
        "\n",
        "## ignore warnings\n",
        "import warnings\n",
        "warnings.filterwarnings('ignore')\n",
        "\n",
        "# # if you want to see the training messages, you can use it\n",
        "# import logging\n",
        "# logging.basicConfig(format='%(asctime)s : %(levelname)s : %(message)s', level=logging.INFO)\n",
        "\n",
        "## the input type\n",
        "train_df['text_tokenized'] = train_df['text'].apply(lambda x: nltk.word_tokenize(x))\n",
        "train_df[['id', 'text', 'text_tokenized']].head()"
      ],
      "execution_count": 69,
      "outputs": [
        {
          "output_type": "execute_result",
          "data": {
            "text/html": [
              "<div>\n",
              "<style scoped>\n",
              "    .dataframe tbody tr th:only-of-type {\n",
              "        vertical-align: middle;\n",
              "    }\n",
              "\n",
              "    .dataframe tbody tr th {\n",
              "        vertical-align: top;\n",
              "    }\n",
              "\n",
              "    .dataframe thead th {\n",
              "        text-align: right;\n",
              "    }\n",
              "</style>\n",
              "<table border=\"1\" class=\"dataframe\">\n",
              "  <thead>\n",
              "    <tr style=\"text-align: right;\">\n",
              "      <th></th>\n",
              "      <th>id</th>\n",
              "      <th>text</th>\n",
              "      <th>text_tokenized</th>\n",
              "    </tr>\n",
              "  </thead>\n",
              "  <tbody>\n",
              "    <tr>\n",
              "      <th>3426</th>\n",
              "      <td>40599</td>\n",
              "      <td>In the name of our Lord &amp;amp; Saviour Harambe ...</td>\n",
              "      <td>[In, the, name, of, our, Lord, &amp;, amp, ;, Savi...</td>\n",
              "    </tr>\n",
              "    <tr>\n",
              "      <th>1930</th>\n",
              "      <td>21073</td>\n",
              "      <td>@CurtisJobling Yes indeed! We know masses of s...</td>\n",
              "      <td>[@, CurtisJobling, Yes, indeed, !, We, know, m...</td>\n",
              "    </tr>\n",
              "    <tr>\n",
              "      <th>2823</th>\n",
              "      <td>30819</td>\n",
              "      <td>Quinn's short hair makes me sad. #glee</td>\n",
              "      <td>[Quinn, 's, short, hair, makes, me, sad, ., #,...</td>\n",
              "    </tr>\n",
              "    <tr>\n",
              "      <th>291</th>\n",
              "      <td>10291</td>\n",
              "      <td>#Anger or #wrath is an intense emotional respo...</td>\n",
              "      <td>[#, Anger, or, #, wrath, is, an, intense, emot...</td>\n",
              "    </tr>\n",
              "    <tr>\n",
              "      <th>229</th>\n",
              "      <td>10229</td>\n",
              "      <td>Absolutely raging at the changes to CAS, what ...</td>\n",
              "      <td>[Absolutely, raging, at, the, changes, to, CAS...</td>\n",
              "    </tr>\n",
              "  </tbody>\n",
              "</table>\n",
              "</div>"
            ],
            "text/plain": [
              "         id  ...                                     text_tokenized\n",
              "3426  40599  ...  [In, the, name, of, our, Lord, &, amp, ;, Savi...\n",
              "1930  21073  ...  [@, CurtisJobling, Yes, indeed, !, We, know, m...\n",
              "2823  30819  ...  [Quinn, 's, short, hair, makes, me, sad, ., #,...\n",
              "291   10291  ...  [#, Anger, or, #, wrath, is, an, intense, emot...\n",
              "229   10229  ...  [Absolutely, raging, at, the, changes, to, CAS...\n",
              "\n",
              "[5 rows x 3 columns]"
            ]
          },
          "metadata": {
            "tags": []
          },
          "execution_count": 69
        }
      ]
    },
    {
      "cell_type": "code",
      "metadata": {
        "id": "NNcC4vmvx60Z",
        "colab_type": "code",
        "outputId": "54cae033-cf81-4dfa-fd0c-2da4c24d7ee5",
        "colab": {
          "base_uri": "https://localhost:8080/",
          "height": 105
        }
      },
      "source": [
        "## create the training corpus\n",
        "training_corpus = train_df['text_tokenized'].values\n",
        "training_corpus[:3]"
      ],
      "execution_count": 70,
      "outputs": [
        {
          "output_type": "execute_result",
          "data": {
            "text/plain": [
              "array([list(['In', 'the', 'name', 'of', 'our', 'Lord', '&', 'amp', ';', 'Saviour', 'Harambe', 'we', 'pray', ',', 'bless', 'all', 'apes', 'across', 'the', 'world.\\\\n\\\\nHear', 'our', 'solemn', 'oaths', 'and', 'pardon', 'sympathetic', 'hominids', '.']),\n",
              "       list(['@', 'CurtisJobling', 'Yes', 'indeed', '!', 'We', 'know', 'masses', 'of', 'students', 'would', 'be', 'so', 'excited', 'to', 'see', 'you', '!', 'We', 'need', 'to', 'get', 'this', 'sorted', '!', '#', 'haunt']),\n",
              "       list(['Quinn', \"'s\", 'short', 'hair', 'makes', 'me', 'sad', '.', '#', 'glee'])],\n",
              "      dtype=object)"
            ]
          },
          "metadata": {
            "tags": []
          },
          "execution_count": 70
        }
      ]
    },
    {
      "cell_type": "markdown",
      "metadata": {
        "id": "3CNmrYNQx60i",
        "colab_type": "text"
      },
      "source": [
        "### 7.2 Training our model\n",
        "\n",
        "You can try to train your own model. More details: https://radimrehurek.com/gensim/models/word2vec.html"
      ]
    },
    {
      "cell_type": "code",
      "metadata": {
        "id": "jXAJwRA8x60n",
        "colab_type": "code",
        "outputId": "3e2bbfe6-a65e-4a39-88a4-893b57139e41",
        "colab": {
          "base_uri": "https://localhost:8080/",
          "height": 204
        }
      },
      "source": [
        "## the input type\n",
        "train_df['text_tokenized'] = train_df['text'].apply(lambda x: nltk.word_tokenize(x))\n",
        "train_df[['id', 'text', 'text_tokenized']].head()"
      ],
      "execution_count": 71,
      "outputs": [
        {
          "output_type": "execute_result",
          "data": {
            "text/html": [
              "<div>\n",
              "<style scoped>\n",
              "    .dataframe tbody tr th:only-of-type {\n",
              "        vertical-align: middle;\n",
              "    }\n",
              "\n",
              "    .dataframe tbody tr th {\n",
              "        vertical-align: top;\n",
              "    }\n",
              "\n",
              "    .dataframe thead th {\n",
              "        text-align: right;\n",
              "    }\n",
              "</style>\n",
              "<table border=\"1\" class=\"dataframe\">\n",
              "  <thead>\n",
              "    <tr style=\"text-align: right;\">\n",
              "      <th></th>\n",
              "      <th>id</th>\n",
              "      <th>text</th>\n",
              "      <th>text_tokenized</th>\n",
              "    </tr>\n",
              "  </thead>\n",
              "  <tbody>\n",
              "    <tr>\n",
              "      <th>3426</th>\n",
              "      <td>40599</td>\n",
              "      <td>In the name of our Lord &amp;amp; Saviour Harambe ...</td>\n",
              "      <td>[In, the, name, of, our, Lord, &amp;, amp, ;, Savi...</td>\n",
              "    </tr>\n",
              "    <tr>\n",
              "      <th>1930</th>\n",
              "      <td>21073</td>\n",
              "      <td>@CurtisJobling Yes indeed! We know masses of s...</td>\n",
              "      <td>[@, CurtisJobling, Yes, indeed, !, We, know, m...</td>\n",
              "    </tr>\n",
              "    <tr>\n",
              "      <th>2823</th>\n",
              "      <td>30819</td>\n",
              "      <td>Quinn's short hair makes me sad. #glee</td>\n",
              "      <td>[Quinn, 's, short, hair, makes, me, sad, ., #,...</td>\n",
              "    </tr>\n",
              "    <tr>\n",
              "      <th>291</th>\n",
              "      <td>10291</td>\n",
              "      <td>#Anger or #wrath is an intense emotional respo...</td>\n",
              "      <td>[#, Anger, or, #, wrath, is, an, intense, emot...</td>\n",
              "    </tr>\n",
              "    <tr>\n",
              "      <th>229</th>\n",
              "      <td>10229</td>\n",
              "      <td>Absolutely raging at the changes to CAS, what ...</td>\n",
              "      <td>[Absolutely, raging, at, the, changes, to, CAS...</td>\n",
              "    </tr>\n",
              "  </tbody>\n",
              "</table>\n",
              "</div>"
            ],
            "text/plain": [
              "         id  ...                                     text_tokenized\n",
              "3426  40599  ...  [In, the, name, of, our, Lord, &, amp, ;, Savi...\n",
              "1930  21073  ...  [@, CurtisJobling, Yes, indeed, !, We, know, m...\n",
              "2823  30819  ...  [Quinn, 's, short, hair, makes, me, sad, ., #,...\n",
              "291   10291  ...  [#, Anger, or, #, wrath, is, an, intense, emot...\n",
              "229   10229  ...  [Absolutely, raging, at, the, changes, to, CAS...\n",
              "\n",
              "[5 rows x 3 columns]"
            ]
          },
          "metadata": {
            "tags": []
          },
          "execution_count": 71
        }
      ]
    },
    {
      "cell_type": "code",
      "metadata": {
        "scrolled": true,
        "id": "6WTNnpipx60z",
        "colab_type": "code",
        "colab": {}
      },
      "source": [
        "from gensim.models import Word2Vec\n",
        "\n",
        "## setting\n",
        "vector_dim = 100\n",
        "window_size = 5\n",
        "min_count = 1\n",
        "training_iter = 20\n",
        "\n",
        "## model\n",
        "word2vec_model = Word2Vec(sentences=training_corpus, \n",
        "                          size=vector_dim, window=window_size, \n",
        "                          min_count=min_count, iter=training_iter)"
      ],
      "execution_count": 0,
      "outputs": []
    },
    {
      "cell_type": "markdown",
      "metadata": {
        "id": "vrZ9YWSFx61M",
        "colab_type": "text"
      },
      "source": [
        "### 7.3 Generating word vector (embeddings)"
      ]
    },
    {
      "cell_type": "code",
      "metadata": {
        "id": "GeuWQfXDx61P",
        "colab_type": "code",
        "outputId": "5e87a627-bed3-4533-afa4-a613239daf59",
        "colab": {
          "base_uri": "https://localhost:8080/",
          "height": 374
        }
      },
      "source": [
        "# get the corresponding vector of a word\n",
        "word_vec = word2vec_model.wv['happy']\n",
        "word_vec"
      ],
      "execution_count": 73,
      "outputs": [
        {
          "output_type": "execute_result",
          "data": {
            "text/plain": [
              "array([ 0.04041276, -0.1918746 , -0.9682201 , -0.21147393,  0.92060524,\n",
              "       -0.4026021 , -0.29531407, -0.31464028, -0.63961256, -0.487199  ,\n",
              "        0.32297   ,  0.71242183, -0.10985801,  0.95463943,  0.18527041,\n",
              "        0.24657618, -0.38768658,  0.63205594, -0.66789424,  1.4989871 ,\n",
              "        0.24216737, -0.5649304 ,  0.16999869, -0.8194692 , -0.7290914 ,\n",
              "        0.0530362 ,  0.3465062 , -0.97945267,  0.27666974, -0.08239856,\n",
              "        0.35049424, -0.19130848,  0.53392774, -0.19534309, -0.5876677 ,\n",
              "        0.10050367, -0.11053739,  0.22420332, -0.04379639, -0.41395292,\n",
              "       -0.6348293 , -0.6039398 ,  0.3806367 , -0.0847119 , -0.33335266,\n",
              "       -1.1814201 ,  0.01057406,  0.05836435,  0.46462867,  0.2740415 ,\n",
              "        0.81804425,  0.08762516,  1.0639433 , -0.28763008,  0.29591826,\n",
              "        0.6048924 ,  0.6332513 , -0.3556587 , -0.2321096 , -0.12963614,\n",
              "        0.36963755,  0.25045812, -0.02699079,  0.22245565,  0.32629108,\n",
              "        0.11361297, -0.1988731 ,  0.14763118, -0.46001908, -0.40669313,\n",
              "        0.15363291,  0.8427006 , -0.09095773, -0.09740079, -0.40616235,\n",
              "       -0.4705276 , -0.24138087, -0.58801574, -0.16011706, -0.2764703 ,\n",
              "        0.11232854,  0.9659425 ,  0.6471218 ,  0.53672093, -0.0241688 ,\n",
              "        0.28239202, -0.46729356, -0.11440644,  0.80617607, -0.39090002,\n",
              "        0.1845249 ,  0.02597241, -0.1390959 ,  0.741864  ,  0.35705984,\n",
              "        0.5686194 , -0.9564605 ,  0.6020559 ,  0.8362917 ,  0.47310567],\n",
              "      dtype=float32)"
            ]
          },
          "metadata": {
            "tags": []
          },
          "execution_count": 73
        }
      ]
    },
    {
      "cell_type": "code",
      "metadata": {
        "id": "9Gb8Riskx61b",
        "colab_type": "code",
        "outputId": "eba2973a-0c66-4375-d48c-e16b60269e02",
        "colab": {
          "base_uri": "https://localhost:8080/",
          "height": 187
        }
      },
      "source": [
        "# Get the most similar words\n",
        "word = 'happy'\n",
        "topn = 10\n",
        "word2vec_model.most_similar(word, topn=topn)"
      ],
      "execution_count": 74,
      "outputs": [
        {
          "output_type": "execute_result",
          "data": {
            "text/plain": [
              "[('blessed', 0.9701354503631592),\n",
              " ('establishment', 0.9456602334976196),\n",
              " ('trusted', 0.9385294318199158),\n",
              " ('PUSSY\\\\nP', 0.9323575496673584),\n",
              " (\"'how\", 0.9300866723060608),\n",
              " ('Be', 0.9290618300437927),\n",
              " ('birthday', 0.9267907738685608),\n",
              " ('Makes', 0.9261031150817871),\n",
              " (\"'you\", 0.9260380268096924),\n",
              " ('cats', 0.9246522784233093)]"
            ]
          },
          "metadata": {
            "tags": []
          },
          "execution_count": 74
        }
      ]
    },
    {
      "cell_type": "markdown",
      "metadata": {
        "id": "W_5szyfwx61l",
        "colab_type": "text"
      },
      "source": [
        "### 7.4 Using a pre-trained w2v model\n",
        "\n",
        "Instead of training your own model ,you can use a model that has already been trained. Here, we see 2 ways of doing that:\n",
        "\n",
        "\n",
        "#### (1) Download model by yourself\n",
        "\n",
        "source: [GoogleNews-vectors-negative300](https://code.google.com/archive/p/word2vec/)\n",
        "\n",
        "more details: https://radimrehurek.com/gensim/models/keyedvectors.html"
      ]
    },
    {
      "cell_type": "code",
      "metadata": {
        "id": "-6MwbwnxECXx",
        "colab_type": "code",
        "outputId": "cd034984-91a2-4425-97e3-332af0475e30",
        "colab": {
          "base_uri": "https://localhost:8080/",
          "height": 204
        }
      },
      "source": [
        "# download google word2vec pretrained embedding\n",
        "!wget \"https://s3.amazonaws.com/dl4j-distribution/GoogleNews-vectors-negative300.bin.gz\""
      ],
      "execution_count": 75,
      "outputs": [
        {
          "output_type": "stream",
          "text": [
            "--2019-12-21 19:02:35--  https://s3.amazonaws.com/dl4j-distribution/GoogleNews-vectors-negative300.bin.gz\n",
            "Resolving s3.amazonaws.com (s3.amazonaws.com)... 52.216.102.117\n",
            "Connecting to s3.amazonaws.com (s3.amazonaws.com)|52.216.102.117|:443... connected.\n",
            "HTTP request sent, awaiting response... 200 OK\n",
            "Length: 1647046227 (1.5G) [application/x-gzip]\n",
            "Saving to: ‘GoogleNews-vectors-negative300.bin.gz’\n",
            "\n",
            "GoogleNews-vectors- 100%[===================>]   1.53G  17.1MB/s    in 95s     \n",
            "\n",
            "2019-12-21 19:04:11 (16.4 MB/s) - ‘GoogleNews-vectors-negative300.bin.gz’ saved [1647046227/1647046227]\n",
            "\n"
          ],
          "name": "stdout"
        }
      ]
    },
    {
      "cell_type": "code",
      "metadata": {
        "id": "SvxjZIqCx61p",
        "colab_type": "code",
        "outputId": "600d2a0d-d4f0-4c46-bee6-b407a7cfb06a",
        "colab": {
          "base_uri": "https://localhost:8080/",
          "height": 204
        }
      },
      "source": [
        "from gensim.models import KeyedVectors\n",
        "\n",
        "## Note: this model is very huge, this will take some time ...\n",
        "model_path = \"GoogleNews-vectors-negative300.bin.gz\"\n",
        "w2v_google_model = KeyedVectors.load_word2vec_format(model_path, binary=True)\n",
        "print('load ok')\n",
        "\n",
        "w2v_google_model.most_similar('happy', topn=10)"
      ],
      "execution_count": 76,
      "outputs": [
        {
          "output_type": "stream",
          "text": [
            "load ok\n"
          ],
          "name": "stdout"
        },
        {
          "output_type": "execute_result",
          "data": {
            "text/plain": [
              "[('glad', 0.7408890128135681),\n",
              " ('pleased', 0.6632171273231506),\n",
              " ('ecstatic', 0.6626912355422974),\n",
              " ('overjoyed', 0.6599286794662476),\n",
              " ('thrilled', 0.6514049768447876),\n",
              " ('satisfied', 0.6437950134277344),\n",
              " ('proud', 0.636042058467865),\n",
              " ('delighted', 0.627237856388092),\n",
              " ('disappointed', 0.6269949674606323),\n",
              " ('excited', 0.6247666478157043)]"
            ]
          },
          "metadata": {
            "tags": []
          },
          "execution_count": 76
        }
      ]
    },
    {
      "cell_type": "markdown",
      "metadata": {
        "id": "aAOgx2eqx61y",
        "colab_type": "text"
      },
      "source": [
        "#### (2) Using gensim api\n",
        "\n",
        "Other pretrained models are available here: https://github.com/RaRe-Technologies/gensim-data"
      ]
    },
    {
      "cell_type": "code",
      "metadata": {
        "id": "2fE0gMc7x610",
        "colab_type": "code",
        "outputId": "7424628a-164e-40d7-a6a4-3839e9657ba8",
        "colab": {
          "base_uri": "https://localhost:8080/",
          "height": 221
        }
      },
      "source": [
        "import gensim.downloader as api\n",
        "\n",
        "## If you see `SSL: CERTIFICATE_VERIFY_FAILED` error, use this:\n",
        "import ssl\n",
        "import urllib.request\n",
        "ssl._create_default_https_context = ssl._create_unverified_context\n",
        "\n",
        "glove_twitter_25_model = api.load(\"glove-twitter-25\")\n",
        "print('load ok')\n",
        "\n",
        "glove_twitter_25_model.most_similar('happy', topn=10)"
      ],
      "execution_count": 77,
      "outputs": [
        {
          "output_type": "stream",
          "text": [
            "[==================================================] 100.0% 104.8/104.8MB downloaded\n",
            "load ok\n"
          ],
          "name": "stdout"
        },
        {
          "output_type": "execute_result",
          "data": {
            "text/plain": [
              "[('birthday', 0.9577817916870117),\n",
              " ('thank', 0.9376667141914368),\n",
              " ('welcome', 0.9336150288581848),\n",
              " ('love', 0.9176183938980103),\n",
              " ('miss', 0.916450023651123),\n",
              " ('hello', 0.9158351421356201),\n",
              " ('thanks', 0.9150084257125854),\n",
              " ('merry', 0.9053248763084412),\n",
              " ('bless', 0.9027323126792908),\n",
              " ('wish', 0.9013165831565857)]"
            ]
          },
          "metadata": {
            "tags": []
          },
          "execution_count": 77
        }
      ]
    },
    {
      "cell_type": "markdown",
      "metadata": {
        "id": "J1BPohUBx618",
        "colab_type": "text"
      },
      "source": [
        "### 7.5 king + woman - man = ?"
      ]
    },
    {
      "cell_type": "markdown",
      "metadata": {
        "id": "BFm1lwhax61_",
        "colab_type": "text"
      },
      "source": [
        "Let's run one of the most famous examples for Word2Vec and compute the similarity between these 3 words:"
      ]
    },
    {
      "cell_type": "code",
      "metadata": {
        "id": "JL5Bp1Tbx62J",
        "colab_type": "code",
        "outputId": "b163018a-529d-4847-e159-fdf1a47bc08b",
        "colab": {
          "base_uri": "https://localhost:8080/",
          "height": 187
        }
      },
      "source": [
        "w2v_google_model.most_similar(positive=['king', 'woman'], negative=['man'])"
      ],
      "execution_count": 78,
      "outputs": [
        {
          "output_type": "execute_result",
          "data": {
            "text/plain": [
              "[('queen', 0.7118192911148071),\n",
              " ('monarch', 0.6189674139022827),\n",
              " ('princess', 0.5902431011199951),\n",
              " ('crown_prince', 0.5499460697174072),\n",
              " ('prince', 0.5377321243286133),\n",
              " ('kings', 0.5236844420433044),\n",
              " ('Queen_Consort', 0.5235945582389832),\n",
              " ('queens', 0.518113374710083),\n",
              " ('sultan', 0.5098593235015869),\n",
              " ('monarchy', 0.5087411999702454)]"
            ]
          },
          "metadata": {
            "tags": []
          },
          "execution_count": 78
        }
      ]
    },
    {
      "cell_type": "markdown",
      "metadata": {
        "id": "DP63TV4_x62R",
        "colab_type": "text"
      },
      "source": [
        "---\n",
        "### **Exercise 7 (Take home):**  \n",
        "\n",
        "Now, we have the word vectors, but our input data is a sequence of words (or say sentence). \n",
        "How can we utilize these \"word\" vectors to represent the sentence data and train our model?\n"
      ]
    },
    {
      "cell_type": "markdown",
      "metadata": {
        "id": "W6ZH4QHNbE6f",
        "colab_type": "text"
      },
      "source": [
        "We can try two different simple approaches:\n",
        "\n",
        "**Average of Word2Vec vectors:** Take the average of all vectors in a sentence, then this average vector will represent the sentence vector.\n",
        "\n",
        "**Average of Word2Vec vectors with TF-IDF:** This approach can be better than just averaging all vectors, we take the word vectors and multiply it with their TF-IDF scores, then we just take the average and it will represent our sentence vector.\n",
        "\n",
        "These are just two simple approaches, depending on our model we can try other options. We can also use these vectors with models that accept a sequence as an input.\n"
      ]
    },
    {
      "cell_type": "markdown",
      "metadata": {
        "id": "8heS1boNx62b",
        "colab_type": "text"
      },
      "source": [
        "### 8. Clustering: k-means\n",
        "\n",
        "Here we introduce how to use `sklearn` to do the basic **unsupervised learning** approach, k-means.    \n",
        "\n",
        "more details: http://scikit-learn.org/stable/modules/generated/sklearn.cluster.KMeans.html\n"
      ]
    },
    {
      "cell_type": "code",
      "metadata": {
        "id": "8pe6jq6ix62f",
        "colab_type": "code",
        "outputId": "5988f17b-c786-4b85-d19f-cdd44f43d71d",
        "colab": {
          "base_uri": "https://localhost:8080/",
          "height": 34
        }
      },
      "source": [
        "# clustering target\n",
        "target_list = ['happy', 'fear', 'angry', 'car', 'teacher', 'computer']\n",
        "print('target words: ', target_list)\n",
        "\n",
        "# convert to word vector\n",
        "X = [word2vec_model.wv[word] for word in target_list]"
      ],
      "execution_count": 79,
      "outputs": [
        {
          "output_type": "stream",
          "text": [
            "target words:  ['happy', 'fear', 'angry', 'car', 'teacher', 'computer']\n"
          ],
          "name": "stdout"
        }
      ]
    },
    {
      "cell_type": "code",
      "metadata": {
        "id": "gUFbJTlyx62m",
        "colab_type": "code",
        "outputId": "a4d1b465-7155-414f-dda6-917afa950606",
        "colab": {
          "base_uri": "https://localhost:8080/",
          "height": 119
        }
      },
      "source": [
        "from sklearn.cluster import KMeans\n",
        "\n",
        "# we have to decide how many cluster (k) we want\n",
        "k = 2\n",
        "\n",
        "# k-means model\n",
        "kmeans_model = KMeans(n_clusters=k)\n",
        "kmeans_model.fit(X)\n",
        "\n",
        "# cluster result\n",
        "cluster_result = kmeans_model.labels_\n",
        "\n",
        "# show\n",
        "for i in range(len(target_list)):\n",
        "    print('word: {} \\t cluster: {}'.format(target_list[i], cluster_result[i]))"
      ],
      "execution_count": 80,
      "outputs": [
        {
          "output_type": "stream",
          "text": [
            "word: happy \t cluster: 0\n",
            "word: fear \t cluster: 0\n",
            "word: angry \t cluster: 0\n",
            "word: car \t cluster: 1\n",
            "word: teacher \t cluster: 1\n",
            "word: computer \t cluster: 1\n"
          ],
          "name": "stdout"
        }
      ]
    },
    {
      "cell_type": "code",
      "metadata": {
        "id": "KstlFvr1x622",
        "colab_type": "code",
        "outputId": "e68e3957-dee5-4b6c-b4d3-562954668d2f",
        "colab": {
          "base_uri": "https://localhost:8080/",
          "height": 34
        }
      },
      "source": [
        "#check cluster membership\n",
        "word = 'student'\n",
        "word_vec = word2vec_model.wv[word]\n",
        "kmeans_model.predict([word_vec])"
      ],
      "execution_count": 81,
      "outputs": [
        {
          "output_type": "execute_result",
          "data": {
            "text/plain": [
              "array([1], dtype=int32)"
            ]
          },
          "metadata": {
            "tags": []
          },
          "execution_count": 81
        }
      ]
    },
    {
      "cell_type": "code",
      "metadata": {
        "id": "7Je_S5fyx62_",
        "colab_type": "code",
        "outputId": "3d76a0be-d82e-4e24-f3d0-67a448837abe",
        "colab": {
          "base_uri": "https://localhost:8080/",
          "height": 34
        }
      },
      "source": [
        "#check cluster membership\n",
        "word = 'sad'\n",
        "word_vec = word2vec_model.wv[word]\n",
        "kmeans_model.predict([word_vec])"
      ],
      "execution_count": 82,
      "outputs": [
        {
          "output_type": "execute_result",
          "data": {
            "text/plain": [
              "array([0], dtype=int32)"
            ]
          },
          "metadata": {
            "tags": []
          },
          "execution_count": 82
        }
      ]
    },
    {
      "cell_type": "markdown",
      "metadata": {
        "id": "g6Tcr_czx63F",
        "colab_type": "text"
      },
      "source": [
        "\n",
        "## 9. High-dimension Visualization: t-SNE"
      ]
    },
    {
      "cell_type": "markdown",
      "metadata": {
        "id": "y_0_LPp5x63S",
        "colab_type": "text"
      },
      "source": [
        "### 9.1 Prepare visualizing target"
      ]
    },
    {
      "cell_type": "markdown",
      "metadata": {
        "id": "Qo3w-i34x63T",
        "colab_type": "text"
      },
      "source": [
        "Let's repare data lists like:\n",
        "    - happpy words\n",
        "    - angry words\n",
        "    - data words\n",
        "    - mining words"
      ]
    },
    {
      "cell_type": "code",
      "metadata": {
        "id": "poR52a9Sx63V",
        "colab_type": "code",
        "outputId": "85a02d6f-840a-4df2-c146-a952affccaeb",
        "colab": {
          "base_uri": "https://localhost:8080/",
          "height": 207
        }
      },
      "source": [
        "word_list = ['happy', 'angry', 'data', 'mining']\n",
        "\n",
        "topn = 5\n",
        "happy_words = ['happy'] + [word_ for word_, sim_ in w2v_google_model.most_similar('happy', topn=topn)]\n",
        "angry_words = ['angry'] + [word_ for word_, sim_ in w2v_google_model.most_similar('angry', topn=topn)]        \n",
        "data_words = ['data'] + [word_ for word_, sim_ in w2v_google_model.most_similar('data', topn=topn)]        \n",
        "mining_words = ['mining'] + [word_ for word_, sim_ in w2v_google_model.most_similar('mining', topn=topn)]        \n",
        "\n",
        "print('happy_words: ', happy_words)\n",
        "print('angry_words: ', angry_words)\n",
        "print('data_words: ', data_words)\n",
        "print('mining_words: ', mining_words)\n",
        "\n",
        "target_words = happy_words + angry_words + data_words + mining_words\n",
        "print('\\ntarget words: ')\n",
        "print(target_words)\n",
        "\n",
        "print('\\ncolor list:')\n",
        "cn = topn + 1\n",
        "color = ['b'] * cn + ['g'] * cn + ['r'] * cn + ['y'] * cn\n",
        "print(color)"
      ],
      "execution_count": 83,
      "outputs": [
        {
          "output_type": "stream",
          "text": [
            "happy_words:  ['happy', 'glad', 'pleased', 'ecstatic', 'overjoyed', 'thrilled']\n",
            "angry_words:  ['angry', 'irate', 'enraged', 'indignant', 'incensed', 'annoyed']\n",
            "data_words:  ['data', 'Data', 'datasets', 'dataset', 'databases', 'statistics']\n",
            "mining_words:  ['mining', 'Mining', 'mines', 'coal_mining', 'mine', 'miner']\n",
            "\n",
            "target words: \n",
            "['happy', 'glad', 'pleased', 'ecstatic', 'overjoyed', 'thrilled', 'angry', 'irate', 'enraged', 'indignant', 'incensed', 'annoyed', 'data', 'Data', 'datasets', 'dataset', 'databases', 'statistics', 'mining', 'Mining', 'mines', 'coal_mining', 'mine', 'miner']\n",
            "\n",
            "color list:\n",
            "['b', 'b', 'b', 'b', 'b', 'b', 'g', 'g', 'g', 'g', 'g', 'g', 'r', 'r', 'r', 'r', 'r', 'r', 'y', 'y', 'y', 'y', 'y', 'y']\n"
          ],
          "name": "stdout"
        }
      ]
    },
    {
      "cell_type": "markdown",
      "metadata": {
        "id": "9-lLghdmx63d",
        "colab_type": "text"
      },
      "source": [
        "### 9.1 Plot using t-SNE (2-dimension)"
      ]
    },
    {
      "cell_type": "code",
      "metadata": {
        "id": "DqtRtZ5Gx63f",
        "colab_type": "code",
        "outputId": "d8bc3423-4c0a-49d8-d27b-bcc8a40100ec",
        "colab": {
          "base_uri": "https://localhost:8080/",
          "height": 724
        }
      },
      "source": [
        "%matplotlib inline\n",
        "import matplotlib.pyplot as plt\n",
        "from sklearn.manifold import TSNE\n",
        "\n",
        "## w2v model\n",
        "model = w2v_google_model\n",
        "\n",
        "## prepare training word vectors\n",
        "size = 200\n",
        "target_size = len(target_words)\n",
        "all_word = list(model.vocab.keys())\n",
        "word_train = target_words + all_word[:size]\n",
        "X_train = model[word_train]\n",
        "\n",
        "## t-SNE model\n",
        "tsne = TSNE(n_components=2, metric='cosine', random_state=28)\n",
        "\n",
        "## training\n",
        "X_tsne = tsne.fit_transform(X_train)\n",
        "\n",
        "## plot the result\n",
        "plt.figure(figsize=(7.5, 7.5), dpi=115)\n",
        "plt.scatter(X_tsne[:target_size, 0], X_tsne[:target_size, 1], c=color)\n",
        "for label, x, y in zip(target_words, X_tsne[:target_size, 0], X_tsne[:target_size, 1]):\n",
        "    plt.annotate(label, xy=(x,y), xytext=(0,0),  textcoords='offset points')\n",
        "plt.show()"
      ],
      "execution_count": 84,
      "outputs": [
        {
          "output_type": "display_data",
          "data": {
            "image/png": "[encoded data removed]",
            "text/plain": [
              "<Figure size 862.5x862.5 with 1 Axes>"
            ]
          },
          "metadata": {
            "tags": []
          }
        }
      ]
    },
    {
      "cell_type": "markdown",
      "metadata": {
        "id": "-_bZ1S2rx63m",
        "colab_type": "text"
      },
      "source": [
        "---\n",
        "### **Exercise 8 (Take home):**  \n",
        "\n",
        "Generate a t-SNE visualization to show the 15 words most related to the words \"angry\", \"happy\", \"sad\", \"fear\" (60 words total)."
      ]
    },
    {
      "cell_type": "code",
      "metadata": {
        "id": "HsfrRuBKx63n",
        "colab_type": "code",
        "colab": {
          "base_uri": "https://localhost:8080/",
          "height": 792
        },
        "outputId": "4009d939-72b0-40f4-dd22-9745258ab34f"
      },
      "source": [
        "# Answer here\n",
        "word_list = ['angry', 'happy', 'sad', 'fear']\n",
        "\n",
        "topn = 15\n",
        "angry_words =  [word_ for word_, sim_ in w2v_google_model.most_similar('angry', topn=topn)]     \n",
        "happy_words =  [word_ for word_, sim_ in w2v_google_model.most_similar('happy', topn=topn)]\n",
        "sad_words =  [word_ for word_, sim_ in w2v_google_model.most_similar('sad', topn=topn)]        \n",
        "fear_words =  [word_ for word_, sim_ in w2v_google_model.most_similar('fear', topn=topn)]        \n",
        "\n",
        "target_words = angry_words + happy_words + sad_words + fear_words\n",
        "\n",
        "cn = topn\n",
        "color = ['b'] * cn + ['g'] * cn + ['r'] * cn + ['y'] * cn\n",
        "\n",
        "\n",
        "## w2v model\n",
        "model = w2v_google_model\n",
        "\n",
        "## prepare training word vectors\n",
        "size = 300\n",
        "target_size = len(target_words)\n",
        "all_word = list(model.vocab.keys())\n",
        "word_train = target_words + all_word[:size]\n",
        "X_train = model[word_train]\n",
        "\n",
        "## t-SNE model\n",
        "tsne = TSNE(n_components=2, metric='cosine', random_state=28)\n",
        "\n",
        "## training\n",
        "X_tsne = tsne.fit_transform(X_train)\n",
        "\n",
        "## plot the result\n",
        "plt.figure(figsize=(7.5, 7.5), dpi=115)\n",
        "plt.scatter(X_tsne[:target_size, 0], X_tsne[:target_size, 1], c=color)\n",
        "for label, x, y in zip(target_words, X_tsne[:target_size, 0], X_tsne[:target_size, 1]):\n",
        "    plt.annotate(label, xy=(x,y), xytext=(0,0),  textcoords='offset points')\n",
        "\n",
        "print('blue: angry words')\n",
        "print('green: happy words')\n",
        "print('red: sad words')\n",
        "print('yellow: fear words')\n",
        "\n",
        "plt.show()\n"
      ],
      "execution_count": 103,
      "outputs": [
        {
          "output_type": "stream",
          "text": [
            "blue: angry words\n",
            "green: happy words\n",
            "red: sad words\n",
            "yellow: fear words\n"
          ],
          "name": "stdout"
        },
        {
          "output_type": "display_data",
          "data": {
            "image/png": "[encoded data removed]",
            "text/plain": [
              "<Figure size 862.5x862.5 with 1 Axes>"
            ]
          },
          "metadata": {
            "tags": []
          }
        }
      ]
    },
    {
      "cell_type": "markdown",
      "metadata": {
        "id": "qpL3k38oBtvM",
        "colab_type": "text"
      },
      "source": [
        "Noticed that some words are mistaken such as the case of \"unhappy\" and \"disappointed\" wich are in the happy words."
      ]
    }
  ]
}